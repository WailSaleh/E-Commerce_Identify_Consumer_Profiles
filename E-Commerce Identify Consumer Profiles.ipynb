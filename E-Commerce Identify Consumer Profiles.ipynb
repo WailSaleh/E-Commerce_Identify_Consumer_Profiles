{
 "cells": [
  {
   "cell_type": "markdown",
   "metadata": {},
   "source": [
    "Olá, Wail\n",
    "\n",
    "Meu nome é Felipe. Fico feliz em revisar seu projeto. Ao ao longo do texto farei algumas observações sobre melhorias no código e também farei comentários sobre suas percepções sobre o assunto. Estarei aberto a feedbacks e discussões sobre o tema.\n",
    "\n",
    "Vamos utilizar um código de cores para você entender os meus feedbacks no seu notebook. Funciona assim:\n",
    "\n",
    "<div class=\"alert alert-block alert-success\">\n",
    "<b> Comentário do revisor: </b> <a class=\"tocSkip\"></a>\n",
    "\n",
    "Sucesso. Tudo foi feito corretamente.\n",
    "</div>\n",
    "\n",
    "<div class=\"alert alert-block alert-warning\">\n",
    "<b>Comentário do revisor: </b> <a class=\"tocSkip\"></a>\n",
    "\n",
    "Alerta não crítco, mas que pode ser corrigido para melhoria geral no seu código/análise\n",
    "</div>\n",
    "\n",
    "<div class=\"alert alert-block alert-danger\">\n",
    "\n",
    "<b>Comentário do revisor: </b> <a class=\"tocSkip\"></a>\n",
    "    \n",
    "Erro que precisa ser consertado, caso contrário seu projeto **não** será aceito.\n",
    "</div>\n",
    "\n",
    "Você pode me responder usando isso:\n",
    "<div class=\"alert alert-block alert-info\">\n",
    "<b>Resposta do Aluno.</b> <a class=\"tocSkip\"></a>\n",
    "    Projeto foi atualizado\n",
    "</div>"
   ]
  },
  {
   "cell_type": "markdown",
   "metadata": {},
   "source": [
    "<div class=\"alert alert-block alert-success\">\n",
    "<b> Comentário do revisor: </b> <a class=\"tocSkip\"></a>\n",
    "\n",
    "Ok. As correções foram realizadas, o dash e apresentação adicionados. Parabéns por ter chegado até aqui.\n",
    "</div>"
   ]
  },
  {
   "cell_type": "markdown",
   "metadata": {},
   "source": [
    "# E-Commerce: Identify Consumer Profiles"
   ]
  },
  {
   "cell_type": "markdown",
   "metadata": {},
   "source": [
    "## Exploratory Data Analysis (EDA)"
   ]
  },
  {
   "cell_type": "markdown",
   "metadata": {},
   "source": [
    "### Initialization"
   ]
  },
  {
   "cell_type": "code",
   "execution_count": 35,
   "metadata": {},
   "outputs": [],
   "source": [
    "import os\n",
    "import pandas as pd\n",
    "import numpy as np\n",
    "from matplotlib import pyplot as plt\n",
    "from scipy import stats as st\n",
    "import seaborn as sns"
   ]
  },
  {
   "cell_type": "markdown",
   "metadata": {},
   "source": [
    "### Load Data"
   ]
  },
  {
   "cell_type": "code",
   "execution_count": 2,
   "metadata": {},
   "outputs": [
    {
     "data": {
      "text/html": [
       "<div>\n",
       "<style scoped>\n",
       "    .dataframe tbody tr th:only-of-type {\n",
       "        vertical-align: middle;\n",
       "    }\n",
       "\n",
       "    .dataframe tbody tr th {\n",
       "        vertical-align: top;\n",
       "    }\n",
       "\n",
       "    .dataframe thead th {\n",
       "        text-align: right;\n",
       "    }\n",
       "</style>\n",
       "<table border=\"1\" class=\"dataframe\">\n",
       "  <thead>\n",
       "    <tr style=\"text-align: right;\">\n",
       "      <th></th>\n",
       "      <th>InvoiceNo</th>\n",
       "      <th>StockCode</th>\n",
       "      <th>Description</th>\n",
       "      <th>Quantity</th>\n",
       "      <th>InvoiceDate</th>\n",
       "      <th>UnitPrice</th>\n",
       "      <th>CustomerID</th>\n",
       "    </tr>\n",
       "  </thead>\n",
       "  <tbody>\n",
       "    <tr>\n",
       "      <th>0</th>\n",
       "      <td>536365</td>\n",
       "      <td>85123A</td>\n",
       "      <td>WHITE HANGING HEART T-LIGHT HOLDER</td>\n",
       "      <td>6</td>\n",
       "      <td>11/29/2018 08:26</td>\n",
       "      <td>2.55</td>\n",
       "      <td>17850.0</td>\n",
       "    </tr>\n",
       "    <tr>\n",
       "      <th>1</th>\n",
       "      <td>536365</td>\n",
       "      <td>71053</td>\n",
       "      <td>WHITE METAL LANTERN</td>\n",
       "      <td>6</td>\n",
       "      <td>11/29/2018 08:26</td>\n",
       "      <td>3.39</td>\n",
       "      <td>17850.0</td>\n",
       "    </tr>\n",
       "    <tr>\n",
       "      <th>2</th>\n",
       "      <td>536365</td>\n",
       "      <td>84406B</td>\n",
       "      <td>CREAM CUPID HEARTS COAT HANGER</td>\n",
       "      <td>8</td>\n",
       "      <td>11/29/2018 08:26</td>\n",
       "      <td>2.75</td>\n",
       "      <td>17850.0</td>\n",
       "    </tr>\n",
       "    <tr>\n",
       "      <th>3</th>\n",
       "      <td>536365</td>\n",
       "      <td>84029G</td>\n",
       "      <td>KNITTED UNION FLAG HOT WATER BOTTLE</td>\n",
       "      <td>6</td>\n",
       "      <td>11/29/2018 08:26</td>\n",
       "      <td>3.39</td>\n",
       "      <td>17850.0</td>\n",
       "    </tr>\n",
       "    <tr>\n",
       "      <th>4</th>\n",
       "      <td>536365</td>\n",
       "      <td>84029E</td>\n",
       "      <td>RED WOOLLY HOTTIE WHITE HEART.</td>\n",
       "      <td>6</td>\n",
       "      <td>11/29/2018 08:26</td>\n",
       "      <td>3.39</td>\n",
       "      <td>17850.0</td>\n",
       "    </tr>\n",
       "    <tr>\n",
       "      <th>...</th>\n",
       "      <td>...</td>\n",
       "      <td>...</td>\n",
       "      <td>...</td>\n",
       "      <td>...</td>\n",
       "      <td>...</td>\n",
       "      <td>...</td>\n",
       "      <td>...</td>\n",
       "    </tr>\n",
       "    <tr>\n",
       "      <th>541904</th>\n",
       "      <td>581587</td>\n",
       "      <td>22613</td>\n",
       "      <td>PACK OF 20 SPACEBOY NAPKINS</td>\n",
       "      <td>12</td>\n",
       "      <td>12/07/2019 12:50</td>\n",
       "      <td>0.85</td>\n",
       "      <td>12680.0</td>\n",
       "    </tr>\n",
       "    <tr>\n",
       "      <th>541905</th>\n",
       "      <td>581587</td>\n",
       "      <td>22899</td>\n",
       "      <td>CHILDREN'S APRON DOLLY GIRL</td>\n",
       "      <td>6</td>\n",
       "      <td>12/07/2019 12:50</td>\n",
       "      <td>2.10</td>\n",
       "      <td>12680.0</td>\n",
       "    </tr>\n",
       "    <tr>\n",
       "      <th>541906</th>\n",
       "      <td>581587</td>\n",
       "      <td>23254</td>\n",
       "      <td>CHILDRENS CUTLERY DOLLY GIRL</td>\n",
       "      <td>4</td>\n",
       "      <td>12/07/2019 12:50</td>\n",
       "      <td>4.15</td>\n",
       "      <td>12680.0</td>\n",
       "    </tr>\n",
       "    <tr>\n",
       "      <th>541907</th>\n",
       "      <td>581587</td>\n",
       "      <td>23255</td>\n",
       "      <td>CHILDRENS CUTLERY CIRCUS PARADE</td>\n",
       "      <td>4</td>\n",
       "      <td>12/07/2019 12:50</td>\n",
       "      <td>4.15</td>\n",
       "      <td>12680.0</td>\n",
       "    </tr>\n",
       "    <tr>\n",
       "      <th>541908</th>\n",
       "      <td>581587</td>\n",
       "      <td>22138</td>\n",
       "      <td>BAKING SET 9 PIECE RETROSPOT</td>\n",
       "      <td>3</td>\n",
       "      <td>12/07/2019 12:50</td>\n",
       "      <td>4.95</td>\n",
       "      <td>12680.0</td>\n",
       "    </tr>\n",
       "  </tbody>\n",
       "</table>\n",
       "<p>541909 rows × 7 columns</p>\n",
       "</div>"
      ],
      "text/plain": [
       "       InvoiceNo StockCode                          Description  Quantity  \\\n",
       "0         536365    85123A   WHITE HANGING HEART T-LIGHT HOLDER         6   \n",
       "1         536365     71053                  WHITE METAL LANTERN         6   \n",
       "2         536365    84406B       CREAM CUPID HEARTS COAT HANGER         8   \n",
       "3         536365    84029G  KNITTED UNION FLAG HOT WATER BOTTLE         6   \n",
       "4         536365    84029E       RED WOOLLY HOTTIE WHITE HEART.         6   \n",
       "...          ...       ...                                  ...       ...   \n",
       "541904    581587     22613          PACK OF 20 SPACEBOY NAPKINS        12   \n",
       "541905    581587     22899         CHILDREN'S APRON DOLLY GIRL          6   \n",
       "541906    581587     23254        CHILDRENS CUTLERY DOLLY GIRL          4   \n",
       "541907    581587     23255      CHILDRENS CUTLERY CIRCUS PARADE         4   \n",
       "541908    581587     22138        BAKING SET 9 PIECE RETROSPOT          3   \n",
       "\n",
       "             InvoiceDate  UnitPrice  CustomerID  \n",
       "0       11/29/2018 08:26       2.55     17850.0  \n",
       "1       11/29/2018 08:26       3.39     17850.0  \n",
       "2       11/29/2018 08:26       2.75     17850.0  \n",
       "3       11/29/2018 08:26       3.39     17850.0  \n",
       "4       11/29/2018 08:26       3.39     17850.0  \n",
       "...                  ...        ...         ...  \n",
       "541904  12/07/2019 12:50       0.85     12680.0  \n",
       "541905  12/07/2019 12:50       2.10     12680.0  \n",
       "541906  12/07/2019 12:50       4.15     12680.0  \n",
       "541907  12/07/2019 12:50       4.15     12680.0  \n",
       "541908  12/07/2019 12:50       4.95     12680.0  \n",
       "\n",
       "[541909 rows x 7 columns]"
      ]
     },
     "execution_count": 2,
     "metadata": {},
     "output_type": "execute_result"
    }
   ],
   "source": [
    "# Load the dataset\n",
    "ecommerce = pd.read_csv('/datasets/ecommerce_dataset_us.csv', sep = '\\t')\n",
    "ecommerce"
   ]
  },
  {
   "cell_type": "markdown",
   "metadata": {},
   "source": [
    "The dataset consist of 7 columns each with 541909 values. To make it more accurate for analysis will make columns name into lowercase."
   ]
  },
  {
   "cell_type": "code",
   "execution_count": 3,
   "metadata": {},
   "outputs": [
    {
     "data": {
      "text/html": [
       "<div>\n",
       "<style scoped>\n",
       "    .dataframe tbody tr th:only-of-type {\n",
       "        vertical-align: middle;\n",
       "    }\n",
       "\n",
       "    .dataframe tbody tr th {\n",
       "        vertical-align: top;\n",
       "    }\n",
       "\n",
       "    .dataframe thead th {\n",
       "        text-align: right;\n",
       "    }\n",
       "</style>\n",
       "<table border=\"1\" class=\"dataframe\">\n",
       "  <thead>\n",
       "    <tr style=\"text-align: right;\">\n",
       "      <th></th>\n",
       "      <th>invoiceno</th>\n",
       "      <th>stockcode</th>\n",
       "      <th>description</th>\n",
       "      <th>quantity</th>\n",
       "      <th>invoicedate</th>\n",
       "      <th>unitprice</th>\n",
       "      <th>customerid</th>\n",
       "    </tr>\n",
       "  </thead>\n",
       "  <tbody>\n",
       "    <tr>\n",
       "      <th>0</th>\n",
       "      <td>536365</td>\n",
       "      <td>85123A</td>\n",
       "      <td>WHITE HANGING HEART T-LIGHT HOLDER</td>\n",
       "      <td>6</td>\n",
       "      <td>11/29/2018 08:26</td>\n",
       "      <td>2.55</td>\n",
       "      <td>17850.0</td>\n",
       "    </tr>\n",
       "    <tr>\n",
       "      <th>1</th>\n",
       "      <td>536365</td>\n",
       "      <td>71053</td>\n",
       "      <td>WHITE METAL LANTERN</td>\n",
       "      <td>6</td>\n",
       "      <td>11/29/2018 08:26</td>\n",
       "      <td>3.39</td>\n",
       "      <td>17850.0</td>\n",
       "    </tr>\n",
       "    <tr>\n",
       "      <th>2</th>\n",
       "      <td>536365</td>\n",
       "      <td>84406B</td>\n",
       "      <td>CREAM CUPID HEARTS COAT HANGER</td>\n",
       "      <td>8</td>\n",
       "      <td>11/29/2018 08:26</td>\n",
       "      <td>2.75</td>\n",
       "      <td>17850.0</td>\n",
       "    </tr>\n",
       "    <tr>\n",
       "      <th>3</th>\n",
       "      <td>536365</td>\n",
       "      <td>84029G</td>\n",
       "      <td>KNITTED UNION FLAG HOT WATER BOTTLE</td>\n",
       "      <td>6</td>\n",
       "      <td>11/29/2018 08:26</td>\n",
       "      <td>3.39</td>\n",
       "      <td>17850.0</td>\n",
       "    </tr>\n",
       "    <tr>\n",
       "      <th>4</th>\n",
       "      <td>536365</td>\n",
       "      <td>84029E</td>\n",
       "      <td>RED WOOLLY HOTTIE WHITE HEART.</td>\n",
       "      <td>6</td>\n",
       "      <td>11/29/2018 08:26</td>\n",
       "      <td>3.39</td>\n",
       "      <td>17850.0</td>\n",
       "    </tr>\n",
       "  </tbody>\n",
       "</table>\n",
       "</div>"
      ],
      "text/plain": [
       "  invoiceno stockcode                          description  quantity  \\\n",
       "0    536365    85123A   WHITE HANGING HEART T-LIGHT HOLDER         6   \n",
       "1    536365     71053                  WHITE METAL LANTERN         6   \n",
       "2    536365    84406B       CREAM CUPID HEARTS COAT HANGER         8   \n",
       "3    536365    84029G  KNITTED UNION FLAG HOT WATER BOTTLE         6   \n",
       "4    536365    84029E       RED WOOLLY HOTTIE WHITE HEART.         6   \n",
       "\n",
       "        invoicedate  unitprice  customerid  \n",
       "0  11/29/2018 08:26       2.55     17850.0  \n",
       "1  11/29/2018 08:26       3.39     17850.0  \n",
       "2  11/29/2018 08:26       2.75     17850.0  \n",
       "3  11/29/2018 08:26       3.39     17850.0  \n",
       "4  11/29/2018 08:26       3.39     17850.0  "
      ]
     },
     "execution_count": 3,
     "metadata": {},
     "output_type": "execute_result"
    }
   ],
   "source": [
    "# Convert column names to lowercase\n",
    "ecommerce.columns = ecommerce.columns.str.lower()\n",
    "\n",
    "# Check the first few rows to confirm\n",
    "ecommerce.head()"
   ]
  },
  {
   "cell_type": "markdown",
   "metadata": {},
   "source": [
    "<div class=\"alert alert-block alert-success\">\n",
    "<b> Comentário do revisor: </b> <a class=\"tocSkip\"></a>\n",
    "\n",
    "Ok.\n",
    "</div>"
   ]
  },
  {
   "cell_type": "markdown",
   "metadata": {},
   "source": [
    "### Check for data types"
   ]
  },
  {
   "cell_type": "code",
   "execution_count": 4,
   "metadata": {
    "scrolled": true
   },
   "outputs": [
    {
     "name": "stdout",
     "output_type": "stream",
     "text": [
      "\n",
      "Data Types for Ecommerce:\n",
      " invoiceno       object\n",
      "stockcode       object\n",
      "description     object\n",
      "quantity         int64\n",
      "invoicedate     object\n",
      "unitprice      float64\n",
      "customerid     float64\n",
      "dtype: object\n"
     ]
    }
   ],
   "source": [
    "# Check data types\n",
    "print(\"\\nData Types for Ecommerce:\\n\", ecommerce.dtypes)"
   ]
  },
  {
   "cell_type": "markdown",
   "metadata": {},
   "source": [
    "As we can see there is invoicedate column which is related to time, so in this case will convert the type of data into datetime. "
   ]
  },
  {
   "cell_type": "code",
   "execution_count": 5,
   "metadata": {
    "scrolled": true
   },
   "outputs": [
    {
     "name": "stdout",
     "output_type": "stream",
     "text": [
      "\n",
      "Updated Data Types for Ecommerce :\n",
      "\n",
      "<class 'pandas.core.frame.DataFrame'>\n",
      "RangeIndex: 541909 entries, 0 to 541908\n",
      "Data columns (total 7 columns):\n",
      " #   Column       Non-Null Count   Dtype         \n",
      "---  ------       --------------   -----         \n",
      " 0   invoiceno    541909 non-null  object        \n",
      " 1   stockcode    541909 non-null  object        \n",
      " 2   description  540455 non-null  object        \n",
      " 3   quantity     541909 non-null  int64         \n",
      " 4   invoicedate  541909 non-null  datetime64[ns]\n",
      " 5   unitprice    541909 non-null  float64       \n",
      " 6   customerid   406829 non-null  float64       \n",
      "dtypes: datetime64[ns](1), float64(2), int64(1), object(3)\n",
      "memory usage: 28.9+ MB\n"
     ]
    }
   ],
   "source": [
    "# Convert necessary columns to datetime\n",
    "ecommerce['invoicedate'] = pd.to_datetime(ecommerce['invoicedate'])\n",
    "\n",
    "# Confirm data type changes\n",
    "print(\"\\nUpdated Data Types for Ecommerce :\\n\")\n",
    "ecommerce.info()"
   ]
  },
  {
   "cell_type": "markdown",
   "metadata": {},
   "source": [
    "<div class=\"alert alert-block alert-success\">\n",
    "<b> Comentário do revisor: </b> <a class=\"tocSkip\"></a>\n",
    "\n",
    "Ok.\n",
    "</div>"
   ]
  },
  {
   "cell_type": "markdown",
   "metadata": {},
   "source": [
    "###  Check for missing values"
   ]
  },
  {
   "cell_type": "code",
   "execution_count": 6,
   "metadata": {
    "scrolled": true
   },
   "outputs": [
    {
     "name": "stdout",
     "output_type": "stream",
     "text": [
      "Missing values in Ecommerce:\n",
      " invoiceno           0\n",
      "stockcode           0\n",
      "description      1454\n",
      "quantity            0\n",
      "invoicedate         0\n",
      "unitprice           0\n",
      "customerid     135080\n",
      "dtype: int64\n"
     ]
    }
   ],
   "source": [
    "# Check for missing values\n",
    "print(\"Missing values in Ecommerce:\\n\", ecommerce.isnull().sum())"
   ]
  },
  {
   "cell_type": "markdown",
   "metadata": {},
   "source": [
    "After analysis 1454 missing values were found in the description column and 135080 in the customerid column."
   ]
  },
  {
   "cell_type": "markdown",
   "metadata": {},
   "source": [
    "<div class=\"alert alert-block alert-success\">\n",
    "<b> Comentário do revisor: </b> <a class=\"tocSkip\"></a>\n",
    "\n",
    "Ok.\n",
    "</div>"
   ]
  },
  {
   "cell_type": "code",
   "execution_count": 7,
   "metadata": {},
   "outputs": [
    {
     "data": {
      "text/html": [
       "<div>\n",
       "<style scoped>\n",
       "    .dataframe tbody tr th:only-of-type {\n",
       "        vertical-align: middle;\n",
       "    }\n",
       "\n",
       "    .dataframe tbody tr th {\n",
       "        vertical-align: top;\n",
       "    }\n",
       "\n",
       "    .dataframe thead th {\n",
       "        text-align: right;\n",
       "    }\n",
       "</style>\n",
       "<table border=\"1\" class=\"dataframe\">\n",
       "  <thead>\n",
       "    <tr style=\"text-align: right;\">\n",
       "      <th></th>\n",
       "      <th>invoiceno</th>\n",
       "      <th>stockcode</th>\n",
       "      <th>description</th>\n",
       "      <th>quantity</th>\n",
       "      <th>invoicedate</th>\n",
       "      <th>unitprice</th>\n",
       "      <th>customerid</th>\n",
       "    </tr>\n",
       "  </thead>\n",
       "  <tbody>\n",
       "    <tr>\n",
       "      <th>622</th>\n",
       "      <td>536414</td>\n",
       "      <td>22139</td>\n",
       "      <td>NaN</td>\n",
       "      <td>56</td>\n",
       "      <td>2018-11-29 11:52:00</td>\n",
       "      <td>0.0</td>\n",
       "      <td>NaN</td>\n",
       "    </tr>\n",
       "    <tr>\n",
       "      <th>1970</th>\n",
       "      <td>536545</td>\n",
       "      <td>21134</td>\n",
       "      <td>NaN</td>\n",
       "      <td>1</td>\n",
       "      <td>2018-11-29 14:32:00</td>\n",
       "      <td>0.0</td>\n",
       "      <td>NaN</td>\n",
       "    </tr>\n",
       "    <tr>\n",
       "      <th>1971</th>\n",
       "      <td>536546</td>\n",
       "      <td>22145</td>\n",
       "      <td>NaN</td>\n",
       "      <td>1</td>\n",
       "      <td>2018-11-29 14:33:00</td>\n",
       "      <td>0.0</td>\n",
       "      <td>NaN</td>\n",
       "    </tr>\n",
       "    <tr>\n",
       "      <th>1972</th>\n",
       "      <td>536547</td>\n",
       "      <td>37509</td>\n",
       "      <td>NaN</td>\n",
       "      <td>1</td>\n",
       "      <td>2018-11-29 14:33:00</td>\n",
       "      <td>0.0</td>\n",
       "      <td>NaN</td>\n",
       "    </tr>\n",
       "    <tr>\n",
       "      <th>1987</th>\n",
       "      <td>536549</td>\n",
       "      <td>85226A</td>\n",
       "      <td>NaN</td>\n",
       "      <td>1</td>\n",
       "      <td>2018-11-29 14:34:00</td>\n",
       "      <td>0.0</td>\n",
       "      <td>NaN</td>\n",
       "    </tr>\n",
       "    <tr>\n",
       "      <th>...</th>\n",
       "      <td>...</td>\n",
       "      <td>...</td>\n",
       "      <td>...</td>\n",
       "      <td>...</td>\n",
       "      <td>...</td>\n",
       "      <td>...</td>\n",
       "      <td>...</td>\n",
       "    </tr>\n",
       "    <tr>\n",
       "      <th>535322</th>\n",
       "      <td>581199</td>\n",
       "      <td>84581</td>\n",
       "      <td>NaN</td>\n",
       "      <td>-2</td>\n",
       "      <td>2019-12-05 18:26:00</td>\n",
       "      <td>0.0</td>\n",
       "      <td>NaN</td>\n",
       "    </tr>\n",
       "    <tr>\n",
       "      <th>535326</th>\n",
       "      <td>581203</td>\n",
       "      <td>23406</td>\n",
       "      <td>NaN</td>\n",
       "      <td>15</td>\n",
       "      <td>2019-12-05 18:31:00</td>\n",
       "      <td>0.0</td>\n",
       "      <td>NaN</td>\n",
       "    </tr>\n",
       "    <tr>\n",
       "      <th>535332</th>\n",
       "      <td>581209</td>\n",
       "      <td>21620</td>\n",
       "      <td>NaN</td>\n",
       "      <td>6</td>\n",
       "      <td>2019-12-05 18:35:00</td>\n",
       "      <td>0.0</td>\n",
       "      <td>NaN</td>\n",
       "    </tr>\n",
       "    <tr>\n",
       "      <th>536981</th>\n",
       "      <td>581234</td>\n",
       "      <td>72817</td>\n",
       "      <td>NaN</td>\n",
       "      <td>27</td>\n",
       "      <td>2019-12-06 10:33:00</td>\n",
       "      <td>0.0</td>\n",
       "      <td>NaN</td>\n",
       "    </tr>\n",
       "    <tr>\n",
       "      <th>538554</th>\n",
       "      <td>581408</td>\n",
       "      <td>85175</td>\n",
       "      <td>NaN</td>\n",
       "      <td>20</td>\n",
       "      <td>2019-12-06 14:06:00</td>\n",
       "      <td>0.0</td>\n",
       "      <td>NaN</td>\n",
       "    </tr>\n",
       "  </tbody>\n",
       "</table>\n",
       "<p>1454 rows × 7 columns</p>\n",
       "</div>"
      ],
      "text/plain": [
       "       invoiceno stockcode description  quantity         invoicedate  \\\n",
       "622       536414     22139         NaN        56 2018-11-29 11:52:00   \n",
       "1970      536545     21134         NaN         1 2018-11-29 14:32:00   \n",
       "1971      536546     22145         NaN         1 2018-11-29 14:33:00   \n",
       "1972      536547     37509         NaN         1 2018-11-29 14:33:00   \n",
       "1987      536549    85226A         NaN         1 2018-11-29 14:34:00   \n",
       "...          ...       ...         ...       ...                 ...   \n",
       "535322    581199     84581         NaN        -2 2019-12-05 18:26:00   \n",
       "535326    581203     23406         NaN        15 2019-12-05 18:31:00   \n",
       "535332    581209     21620         NaN         6 2019-12-05 18:35:00   \n",
       "536981    581234     72817         NaN        27 2019-12-06 10:33:00   \n",
       "538554    581408     85175         NaN        20 2019-12-06 14:06:00   \n",
       "\n",
       "        unitprice  customerid  \n",
       "622           0.0         NaN  \n",
       "1970          0.0         NaN  \n",
       "1971          0.0         NaN  \n",
       "1972          0.0         NaN  \n",
       "1987          0.0         NaN  \n",
       "...           ...         ...  \n",
       "535322        0.0         NaN  \n",
       "535326        0.0         NaN  \n",
       "535332        0.0         NaN  \n",
       "536981        0.0         NaN  \n",
       "538554        0.0         NaN  \n",
       "\n",
       "[1454 rows x 7 columns]"
      ]
     },
     "execution_count": 7,
     "metadata": {},
     "output_type": "execute_result"
    }
   ],
   "source": [
    "# Filter data for stcokcodes with null description\n",
    "stockcodes_null_description = ecommerce.query('description.isnull()')\n",
    "stockcodes_null_description"
   ]
  },
  {
   "cell_type": "code",
   "execution_count": 8,
   "metadata": {},
   "outputs": [
    {
     "name": "stdout",
     "output_type": "stream",
     "text": [
      "Number of unique stockcodes with null description: 960\n"
     ]
    }
   ],
   "source": [
    "# Number of unique stockcodes with null description\n",
    "nan_stockcodes = ecommerce[ecommerce['description'].isna()]['stockcode']\n",
    "print('Number of unique stockcodes with null description:', nan_stockcodes.nunique())"
   ]
  },
  {
   "cell_type": "markdown",
   "metadata": {},
   "source": [
    "<div class=\"alert alert-block alert-success\">\n",
    "<b> Comentário do revisor: </b> <a class=\"tocSkip\"></a>\n",
    "\n",
    "Ok.\n",
    "</div>"
   ]
  },
  {
   "cell_type": "code",
   "execution_count": 9,
   "metadata": {},
   "outputs": [
    {
     "data": {
      "text/html": [
       "<div>\n",
       "<style scoped>\n",
       "    .dataframe tbody tr th:only-of-type {\n",
       "        vertical-align: middle;\n",
       "    }\n",
       "\n",
       "    .dataframe tbody tr th {\n",
       "        vertical-align: top;\n",
       "    }\n",
       "\n",
       "    .dataframe thead th {\n",
       "        text-align: right;\n",
       "    }\n",
       "</style>\n",
       "<table border=\"1\" class=\"dataframe\">\n",
       "  <thead>\n",
       "    <tr style=\"text-align: right;\">\n",
       "      <th></th>\n",
       "      <th>invoiceno</th>\n",
       "      <th>stockcode</th>\n",
       "      <th>description</th>\n",
       "      <th>quantity</th>\n",
       "      <th>invoicedate</th>\n",
       "      <th>unitprice</th>\n",
       "      <th>customerid</th>\n",
       "    </tr>\n",
       "  </thead>\n",
       "  <tbody>\n",
       "    <tr>\n",
       "      <th>106</th>\n",
       "      <td>536381</td>\n",
       "      <td>22139</td>\n",
       "      <td>RETROSPOT TEA SET CERAMIC 11 PC</td>\n",
       "      <td>23</td>\n",
       "      <td>2018-11-29 09:41:00</td>\n",
       "      <td>4.25</td>\n",
       "      <td>15311.0</td>\n",
       "    </tr>\n",
       "    <tr>\n",
       "      <th>622</th>\n",
       "      <td>536414</td>\n",
       "      <td>22139</td>\n",
       "      <td>NaN</td>\n",
       "      <td>56</td>\n",
       "      <td>2018-11-29 11:52:00</td>\n",
       "      <td>0.00</td>\n",
       "      <td>NaN</td>\n",
       "    </tr>\n",
       "    <tr>\n",
       "      <th>6392</th>\n",
       "      <td>536942</td>\n",
       "      <td>22139</td>\n",
       "      <td>amazon</td>\n",
       "      <td>15</td>\n",
       "      <td>2018-12-01 12:08:00</td>\n",
       "      <td>0.00</td>\n",
       "      <td>NaN</td>\n",
       "    </tr>\n",
       "    <tr>\n",
       "      <th>6885</th>\n",
       "      <td>536982</td>\n",
       "      <td>22139</td>\n",
       "      <td>RETROSPOT TEA SET CERAMIC 11 PC</td>\n",
       "      <td>10</td>\n",
       "      <td>2018-12-01 14:27:00</td>\n",
       "      <td>11.02</td>\n",
       "      <td>NaN</td>\n",
       "    </tr>\n",
       "    <tr>\n",
       "      <th>7203</th>\n",
       "      <td>537011</td>\n",
       "      <td>22139</td>\n",
       "      <td>NaN</td>\n",
       "      <td>-5</td>\n",
       "      <td>2018-12-01 15:38:00</td>\n",
       "      <td>0.00</td>\n",
       "      <td>NaN</td>\n",
       "    </tr>\n",
       "  </tbody>\n",
       "</table>\n",
       "</div>"
      ],
      "text/plain": [
       "     invoiceno stockcode                       description  quantity  \\\n",
       "106     536381     22139  RETROSPOT TEA SET CERAMIC 11 PC         23   \n",
       "622     536414     22139                               NaN        56   \n",
       "6392    536942     22139                            amazon        15   \n",
       "6885    536982     22139  RETROSPOT TEA SET CERAMIC 11 PC         10   \n",
       "7203    537011     22139                               NaN        -5   \n",
       "\n",
       "             invoicedate  unitprice  customerid  \n",
       "106  2018-11-29 09:41:00       4.25     15311.0  \n",
       "622  2018-11-29 11:52:00       0.00         NaN  \n",
       "6392 2018-12-01 12:08:00       0.00         NaN  \n",
       "6885 2018-12-01 14:27:00      11.02         NaN  \n",
       "7203 2018-12-01 15:38:00       0.00         NaN  "
      ]
     },
     "execution_count": 9,
     "metadata": {},
     "output_type": "execute_result"
    }
   ],
   "source": [
    "#Example of description carrying same stcokcode\n",
    "stockcode = ecommerce.query(\"stockcode == '22139'\")\n",
    "stockcode.head()"
   ]
  },
  {
   "cell_type": "code",
   "execution_count": 10,
   "metadata": {},
   "outputs": [
    {
     "data": {
      "text/html": [
       "<div>\n",
       "<style scoped>\n",
       "    .dataframe tbody tr th:only-of-type {\n",
       "        vertical-align: middle;\n",
       "    }\n",
       "\n",
       "    .dataframe tbody tr th {\n",
       "        vertical-align: top;\n",
       "    }\n",
       "\n",
       "    .dataframe thead th {\n",
       "        text-align: right;\n",
       "    }\n",
       "</style>\n",
       "<table border=\"1\" class=\"dataframe\">\n",
       "  <thead>\n",
       "    <tr style=\"text-align: right;\">\n",
       "      <th></th>\n",
       "      <th>invoiceno</th>\n",
       "      <th>stockcode</th>\n",
       "      <th>description</th>\n",
       "      <th>quantity</th>\n",
       "      <th>invoicedate</th>\n",
       "      <th>unitprice</th>\n",
       "      <th>customerid</th>\n",
       "    </tr>\n",
       "  </thead>\n",
       "  <tbody>\n",
       "    <tr>\n",
       "      <th>106</th>\n",
       "      <td>536381</td>\n",
       "      <td>22139</td>\n",
       "      <td>RETROSPOT TEA SET CERAMIC 11 PC</td>\n",
       "      <td>23</td>\n",
       "      <td>2018-11-29 09:41:00</td>\n",
       "      <td>4.25</td>\n",
       "      <td>15311.0</td>\n",
       "    </tr>\n",
       "    <tr>\n",
       "      <th>622</th>\n",
       "      <td>536414</td>\n",
       "      <td>22139</td>\n",
       "      <td>RETROSPOT TEA SET CERAMIC 11 PC</td>\n",
       "      <td>56</td>\n",
       "      <td>2018-11-29 11:52:00</td>\n",
       "      <td>0.00</td>\n",
       "      <td>NaN</td>\n",
       "    </tr>\n",
       "    <tr>\n",
       "      <th>6392</th>\n",
       "      <td>536942</td>\n",
       "      <td>22139</td>\n",
       "      <td>RETROSPOT TEA SET CERAMIC 11 PC</td>\n",
       "      <td>15</td>\n",
       "      <td>2018-12-01 12:08:00</td>\n",
       "      <td>0.00</td>\n",
       "      <td>NaN</td>\n",
       "    </tr>\n",
       "    <tr>\n",
       "      <th>6885</th>\n",
       "      <td>536982</td>\n",
       "      <td>22139</td>\n",
       "      <td>RETROSPOT TEA SET CERAMIC 11 PC</td>\n",
       "      <td>10</td>\n",
       "      <td>2018-12-01 14:27:00</td>\n",
       "      <td>11.02</td>\n",
       "      <td>NaN</td>\n",
       "    </tr>\n",
       "    <tr>\n",
       "      <th>7203</th>\n",
       "      <td>537011</td>\n",
       "      <td>22139</td>\n",
       "      <td>RETROSPOT TEA SET CERAMIC 11 PC</td>\n",
       "      <td>-5</td>\n",
       "      <td>2018-12-01 15:38:00</td>\n",
       "      <td>0.00</td>\n",
       "      <td>NaN</td>\n",
       "    </tr>\n",
       "  </tbody>\n",
       "</table>\n",
       "</div>"
      ],
      "text/plain": [
       "     invoiceno stockcode                       description  quantity  \\\n",
       "106     536381     22139  RETROSPOT TEA SET CERAMIC 11 PC         23   \n",
       "622     536414     22139  RETROSPOT TEA SET CERAMIC 11 PC         56   \n",
       "6392    536942     22139  RETROSPOT TEA SET CERAMIC 11 PC         15   \n",
       "6885    536982     22139  RETROSPOT TEA SET CERAMIC 11 PC         10   \n",
       "7203    537011     22139  RETROSPOT TEA SET CERAMIC 11 PC         -5   \n",
       "\n",
       "             invoicedate  unitprice  customerid  \n",
       "106  2018-11-29 09:41:00       4.25     15311.0  \n",
       "622  2018-11-29 11:52:00       0.00         NaN  \n",
       "6392 2018-12-01 12:08:00       0.00         NaN  \n",
       "6885 2018-12-01 14:27:00      11.02         NaN  \n",
       "7203 2018-12-01 15:38:00       0.00         NaN  "
      ]
     },
     "execution_count": 10,
     "metadata": {},
     "output_type": "execute_result"
    }
   ],
   "source": [
    "# Get the most common description for each stockcode\n",
    "description_filled = ecommerce.groupby('stockcode')['description'].agg(lambda x: x.mode()[0] if not x.mode().empty else None)\n",
    "\n",
    "# Fill the NaN values in 'description' with the determined ones\n",
    "ecommerce['description'] = ecommerce.apply(\n",
    "    lambda row: description_filled[row['stockcode']] if pd.isna(row['description']) else row['description'],\n",
    "    axis=1\n",
    ")\n",
    "\n",
    "# Replace 'amazon' descriptions with the most common description for stockcode '22139'\n",
    "ecommerce.loc[(ecommerce['stockcode'] == '22139') & (ecommerce['description'] == 'amazon'), 'description'] = description_filled['22139']\n",
    "\n",
    "# Verify changes\n",
    "stockcode = ecommerce.query(\"stockcode == '22139'\")\n",
    "stockcode.head()"
   ]
  },
  {
   "cell_type": "code",
   "execution_count": 11,
   "metadata": {
    "scrolled": true
   },
   "outputs": [
    {
     "name": "stdout",
     "output_type": "stream",
     "text": [
      "Invoiceno with null customerid:\n",
      " ['536414' '536544' '536545' ... '581492' '581497' '581498']\n",
      "\n",
      "Invoiceno with null customerid but have corresponding non-null customerid: Empty DataFrame\n",
      "Columns: [invoiceno, stockcode, description, quantity, invoicedate, unitprice, customerid]\n",
      "Index: []\n"
     ]
    }
   ],
   "source": [
    "# Get unique invoiceno with null customerid\n",
    "null_customer_invoiceno = ecommerce[ecommerce['customerid'].isna()]['invoiceno'].unique()\n",
    "print(\"Invoiceno with null customerid:\\n\", null_customer_invoiceno)\n",
    "\n",
    "# Check for non-null customerid for these invoiceno\n",
    "non_null_customerid_check = ecommerce[ecommerce['invoiceno'].isin(null_customer_invoiceno) & ecommerce['customerid'].notna()]\n",
    "\n",
    "print(\"\\nInvoiceno with null customerid but have corresponding non-null customerid:\", non_null_customerid_check)"
   ]
  },
  {
   "cell_type": "markdown",
   "metadata": {},
   "source": [
    "There are no invoiceno with null customerid which have corresponding non-null customerid, so we can't fill cusotmerid values according to invoiceno"
   ]
  },
  {
   "cell_type": "markdown",
   "metadata": {},
   "source": [
    "<div class=\"alert alert-block alert-success\">\n",
    "<b> Comentário do revisor: </b> <a class=\"tocSkip\"></a>\n",
    "\n",
    "Ok.\n",
    "</div>"
   ]
  },
  {
   "cell_type": "code",
   "execution_count": 12,
   "metadata": {},
   "outputs": [
    {
     "data": {
      "text/plain": [
       "invoiceno           0\n",
       "stockcode           0\n",
       "description       112\n",
       "quantity            0\n",
       "invoicedate         0\n",
       "unitprice           0\n",
       "customerid     135080\n",
       "dtype: int64"
      ]
     },
     "execution_count": 12,
     "metadata": {},
     "output_type": "execute_result"
    }
   ],
   "source": [
    "# Check again\n",
    "ecommerce.isnull().sum()"
   ]
  },
  {
   "cell_type": "markdown",
   "metadata": {},
   "source": [
    "We can see that around 25% of customerid has no values, but there is still enough data to continue the analysis so we can remove these data"
   ]
  },
  {
   "cell_type": "code",
   "execution_count": 13,
   "metadata": {},
   "outputs": [
    {
     "name": "stdout",
     "output_type": "stream",
     "text": [
      "<class 'pandas.core.frame.DataFrame'>\n",
      "RangeIndex: 406829 entries, 0 to 406828\n",
      "Data columns (total 7 columns):\n",
      " #   Column       Non-Null Count   Dtype         \n",
      "---  ------       --------------   -----         \n",
      " 0   invoiceno    406829 non-null  object        \n",
      " 1   stockcode    406829 non-null  object        \n",
      " 2   description  406829 non-null  object        \n",
      " 3   quantity     406829 non-null  int64         \n",
      " 4   invoicedate  406829 non-null  datetime64[ns]\n",
      " 5   unitprice    406829 non-null  float64       \n",
      " 6   customerid   406829 non-null  float64       \n",
      "dtypes: datetime64[ns](1), float64(2), int64(1), object(3)\n",
      "memory usage: 21.7+ MB\n"
     ]
    }
   ],
   "source": [
    "# Remove rows where 'customerid' is null\n",
    "ecommerce = ecommerce.dropna(subset=['customerid']).reset_index(drop=True)\n",
    "ecommerce.info()"
   ]
  },
  {
   "cell_type": "markdown",
   "metadata": {},
   "source": [
    "<div class=\"alert alert-block alert-success\">\n",
    "<b> Comentário do revisor: </b> <a class=\"tocSkip\"></a>\n",
    "\n",
    "Ok.\n",
    "</div>"
   ]
  },
  {
   "cell_type": "markdown",
   "metadata": {},
   "source": [
    "### Check for duplicates"
   ]
  },
  {
   "cell_type": "code",
   "execution_count": 14,
   "metadata": {},
   "outputs": [
    {
     "name": "stdout",
     "output_type": "stream",
     "text": [
      "Duplicate rows in Ecommerce: \n",
      "        invoiceno stockcode                       description  quantity  \\\n",
      "485       536409     22111      SCOTTIE DOG HOT WATER BOTTLE         1   \n",
      "489       536409     22866     HAND WARMER SCOTTY DOG DESIGN         1   \n",
      "494       536409     21866       UNION JACK FLAG LUGGAGE TAG         1   \n",
      "517       536409     21866       UNION JACK FLAG LUGGAGE TAG         1   \n",
      "521       536409     22900   SET 2 TEA TOWELS I LOVE LONDON          1   \n",
      "...          ...       ...                               ...       ...   \n",
      "406595    581538     22068       BLACK PIRATE TREASURE CHEST         1   \n",
      "406609    581538     23318    BOX OF 6 MINI VINTAGE CRACKERS         1   \n",
      "406612    581538     22992            REVOLVER WOODEN RULER          1   \n",
      "406619    581538     22694                      WICKER STAR          1   \n",
      "406621    581538     23343      JUMBO BAG VINTAGE CHRISTMAS          1   \n",
      "\n",
      "               invoicedate  unitprice  customerid  \n",
      "485    2018-11-29 11:45:00       4.95     17908.0  \n",
      "489    2018-11-29 11:45:00       2.10     17908.0  \n",
      "494    2018-11-29 11:45:00       1.25     17908.0  \n",
      "517    2018-11-29 11:45:00       1.25     17908.0  \n",
      "521    2018-11-29 11:45:00       2.95     17908.0  \n",
      "...                    ...        ...         ...  \n",
      "406595 2019-12-07 11:34:00       0.39     14446.0  \n",
      "406609 2019-12-07 11:34:00       2.49     14446.0  \n",
      "406612 2019-12-07 11:34:00       1.95     14446.0  \n",
      "406619 2019-12-07 11:34:00       2.10     14446.0  \n",
      "406621 2019-12-07 11:34:00       2.08     14446.0  \n",
      "\n",
      "[10062 rows x 7 columns]\n"
     ]
    }
   ],
   "source": [
    "# Check for duplicates\n",
    "duplicates_specific = ecommerce[ecommerce.duplicated(keep = False)]\n",
    "print(\"Duplicate rows in Ecommerce: \\n\", duplicates_specific)"
   ]
  },
  {
   "cell_type": "code",
   "execution_count": 46,
   "metadata": {
    "scrolled": false
   },
   "outputs": [
    {
     "name": "stdout",
     "output_type": "stream",
     "text": [
      "File saved successfully!\n"
     ]
    },
    {
     "data": {
      "text/html": [
       "<div>\n",
       "<style scoped>\n",
       "    .dataframe tbody tr th:only-of-type {\n",
       "        vertical-align: middle;\n",
       "    }\n",
       "\n",
       "    .dataframe tbody tr th {\n",
       "        vertical-align: top;\n",
       "    }\n",
       "\n",
       "    .dataframe thead th {\n",
       "        text-align: right;\n",
       "    }\n",
       "</style>\n",
       "<table border=\"1\" class=\"dataframe\">\n",
       "  <thead>\n",
       "    <tr style=\"text-align: right;\">\n",
       "      <th></th>\n",
       "      <th>invoiceno</th>\n",
       "      <th>stockcode</th>\n",
       "      <th>description</th>\n",
       "      <th>quantity</th>\n",
       "      <th>invoicedate</th>\n",
       "      <th>unitprice</th>\n",
       "      <th>customerid</th>\n",
       "      <th>total_revenue</th>\n",
       "    </tr>\n",
       "  </thead>\n",
       "  <tbody>\n",
       "    <tr>\n",
       "      <th>0</th>\n",
       "      <td>536365</td>\n",
       "      <td>85123A</td>\n",
       "      <td>WHITE HANGING HEART T-LIGHT HOLDER</td>\n",
       "      <td>6</td>\n",
       "      <td>2018-11-29 08:26:00</td>\n",
       "      <td>2.55</td>\n",
       "      <td>17850.0</td>\n",
       "      <td>15.30</td>\n",
       "    </tr>\n",
       "    <tr>\n",
       "      <th>1</th>\n",
       "      <td>536365</td>\n",
       "      <td>71053</td>\n",
       "      <td>WHITE METAL LANTERN</td>\n",
       "      <td>6</td>\n",
       "      <td>2018-11-29 08:26:00</td>\n",
       "      <td>3.39</td>\n",
       "      <td>17850.0</td>\n",
       "      <td>20.34</td>\n",
       "    </tr>\n",
       "    <tr>\n",
       "      <th>2</th>\n",
       "      <td>536365</td>\n",
       "      <td>84406B</td>\n",
       "      <td>CREAM CUPID HEARTS COAT HANGER</td>\n",
       "      <td>8</td>\n",
       "      <td>2018-11-29 08:26:00</td>\n",
       "      <td>2.75</td>\n",
       "      <td>17850.0</td>\n",
       "      <td>22.00</td>\n",
       "    </tr>\n",
       "    <tr>\n",
       "      <th>3</th>\n",
       "      <td>536365</td>\n",
       "      <td>84029G</td>\n",
       "      <td>KNITTED UNION FLAG HOT WATER BOTTLE</td>\n",
       "      <td>6</td>\n",
       "      <td>2018-11-29 08:26:00</td>\n",
       "      <td>3.39</td>\n",
       "      <td>17850.0</td>\n",
       "      <td>20.34</td>\n",
       "    </tr>\n",
       "    <tr>\n",
       "      <th>4</th>\n",
       "      <td>536365</td>\n",
       "      <td>84029E</td>\n",
       "      <td>RED WOOLLY HOTTIE WHITE HEART.</td>\n",
       "      <td>6</td>\n",
       "      <td>2018-11-29 08:26:00</td>\n",
       "      <td>3.39</td>\n",
       "      <td>17850.0</td>\n",
       "      <td>20.34</td>\n",
       "    </tr>\n",
       "    <tr>\n",
       "      <th>...</th>\n",
       "      <td>...</td>\n",
       "      <td>...</td>\n",
       "      <td>...</td>\n",
       "      <td>...</td>\n",
       "      <td>...</td>\n",
       "      <td>...</td>\n",
       "      <td>...</td>\n",
       "      <td>...</td>\n",
       "    </tr>\n",
       "    <tr>\n",
       "      <th>401557</th>\n",
       "      <td>581587</td>\n",
       "      <td>22613</td>\n",
       "      <td>PACK OF 20 SPACEBOY NAPKINS</td>\n",
       "      <td>12</td>\n",
       "      <td>2019-12-07 12:50:00</td>\n",
       "      <td>0.85</td>\n",
       "      <td>12680.0</td>\n",
       "      <td>10.20</td>\n",
       "    </tr>\n",
       "    <tr>\n",
       "      <th>401558</th>\n",
       "      <td>581587</td>\n",
       "      <td>22899</td>\n",
       "      <td>CHILDREN'S APRON DOLLY GIRL</td>\n",
       "      <td>6</td>\n",
       "      <td>2019-12-07 12:50:00</td>\n",
       "      <td>2.10</td>\n",
       "      <td>12680.0</td>\n",
       "      <td>12.60</td>\n",
       "    </tr>\n",
       "    <tr>\n",
       "      <th>401559</th>\n",
       "      <td>581587</td>\n",
       "      <td>23254</td>\n",
       "      <td>CHILDRENS CUTLERY DOLLY GIRL</td>\n",
       "      <td>4</td>\n",
       "      <td>2019-12-07 12:50:00</td>\n",
       "      <td>4.15</td>\n",
       "      <td>12680.0</td>\n",
       "      <td>16.60</td>\n",
       "    </tr>\n",
       "    <tr>\n",
       "      <th>401560</th>\n",
       "      <td>581587</td>\n",
       "      <td>23255</td>\n",
       "      <td>CHILDRENS CUTLERY CIRCUS PARADE</td>\n",
       "      <td>4</td>\n",
       "      <td>2019-12-07 12:50:00</td>\n",
       "      <td>4.15</td>\n",
       "      <td>12680.0</td>\n",
       "      <td>16.60</td>\n",
       "    </tr>\n",
       "    <tr>\n",
       "      <th>401561</th>\n",
       "      <td>581587</td>\n",
       "      <td>22138</td>\n",
       "      <td>BAKING SET 9 PIECE RETROSPOT</td>\n",
       "      <td>3</td>\n",
       "      <td>2019-12-07 12:50:00</td>\n",
       "      <td>4.95</td>\n",
       "      <td>12680.0</td>\n",
       "      <td>14.85</td>\n",
       "    </tr>\n",
       "  </tbody>\n",
       "</table>\n",
       "<p>401562 rows × 8 columns</p>\n",
       "</div>"
      ],
      "text/plain": [
       "       invoiceno stockcode                          description  quantity  \\\n",
       "0         536365    85123A   WHITE HANGING HEART T-LIGHT HOLDER         6   \n",
       "1         536365     71053                  WHITE METAL LANTERN         6   \n",
       "2         536365    84406B       CREAM CUPID HEARTS COAT HANGER         8   \n",
       "3         536365    84029G  KNITTED UNION FLAG HOT WATER BOTTLE         6   \n",
       "4         536365    84029E       RED WOOLLY HOTTIE WHITE HEART.         6   \n",
       "...          ...       ...                                  ...       ...   \n",
       "401557    581587     22613          PACK OF 20 SPACEBOY NAPKINS        12   \n",
       "401558    581587     22899         CHILDREN'S APRON DOLLY GIRL          6   \n",
       "401559    581587     23254        CHILDRENS CUTLERY DOLLY GIRL          4   \n",
       "401560    581587     23255      CHILDRENS CUTLERY CIRCUS PARADE         4   \n",
       "401561    581587     22138        BAKING SET 9 PIECE RETROSPOT          3   \n",
       "\n",
       "               invoicedate  unitprice  customerid  total_revenue  \n",
       "0      2018-11-29 08:26:00       2.55     17850.0          15.30  \n",
       "1      2018-11-29 08:26:00       3.39     17850.0          20.34  \n",
       "2      2018-11-29 08:26:00       2.75     17850.0          22.00  \n",
       "3      2018-11-29 08:26:00       3.39     17850.0          20.34  \n",
       "4      2018-11-29 08:26:00       3.39     17850.0          20.34  \n",
       "...                    ...        ...         ...            ...  \n",
       "401557 2019-12-07 12:50:00       0.85     12680.0          10.20  \n",
       "401558 2019-12-07 12:50:00       2.10     12680.0          12.60  \n",
       "401559 2019-12-07 12:50:00       4.15     12680.0          16.60  \n",
       "401560 2019-12-07 12:50:00       4.15     12680.0          16.60  \n",
       "401561 2019-12-07 12:50:00       4.95     12680.0          14.85  \n",
       "\n",
       "[401562 rows x 8 columns]"
      ]
     },
     "execution_count": 46,
     "metadata": {},
     "output_type": "execute_result"
    }
   ],
   "source": [
    "# Remove duplicate rows based on all columns, keeping the first occurrence\n",
    "ecommerce = ecommerce.drop_duplicates(subset=['stockcode', 'quantity', 'invoicedate', 'unitprice', 'customerid']).reset_index(drop=True)\n",
    "\n",
    "# Save the DataFrame to a CSV file\n",
    "ecommerce.to_csv('ecommerce_data_updated.csv', index=False)\n",
    "print(\"File saved successfully!\")\n",
    "\n",
    "ecommerce"
   ]
  },
  {
   "cell_type": "markdown",
   "metadata": {},
   "source": [
    "The number of lines was 406829, after removing duplicates (5225) it became 401562 which means just 1.3% of data was removed whic is considered affordable"
   ]
  },
  {
   "cell_type": "markdown",
   "metadata": {},
   "source": [
    "<div class=\"alert alert-block alert-danger\">\n",
    "<b> Comentário do revisor: </b> <a class=\"tocSkip\"></a>\n",
    "\n",
    "Após remover duplicados, qual % de linhas foram removidas em relação ao total?\n",
    "</div>"
   ]
  },
  {
   "cell_type": "markdown",
   "metadata": {},
   "source": [
    "<div class=\"alert alert-block alert-success\">\n",
    "<b> Comentário do revisor: </b> <a class=\"tocSkip\"></a>\n",
    "\n",
    "Ok.\n",
    "</div>"
   ]
  },
  {
   "cell_type": "markdown",
   "metadata": {},
   "source": [
    "### Check additional information"
   ]
  },
  {
   "cell_type": "code",
   "execution_count": 16,
   "metadata": {},
   "outputs": [
    {
     "data": {
      "text/plain": [
       "invoiceno      8872\n",
       "stockcode      8872\n",
       "description    8872\n",
       "quantity       8872\n",
       "invoicedate    8872\n",
       "unitprice      8872\n",
       "customerid     8872\n",
       "dtype: int64"
      ]
     },
     "execution_count": 16,
     "metadata": {},
     "output_type": "execute_result"
    }
   ],
   "source": [
    "ecommerce.query(\"quantity < 0\").count()"
   ]
  },
  {
   "cell_type": "markdown",
   "metadata": {},
   "source": [
    "<div class=\"alert alert-block alert-success\">\n",
    "<b> Comentário do revisor: </b> <a class=\"tocSkip\"></a>\n",
    "\n",
    "Ok.\n",
    "</div>"
   ]
  },
  {
   "cell_type": "code",
   "execution_count": 17,
   "metadata": {},
   "outputs": [
    {
     "data": {
      "text/html": [
       "<div>\n",
       "<style scoped>\n",
       "    .dataframe tbody tr th:only-of-type {\n",
       "        vertical-align: middle;\n",
       "    }\n",
       "\n",
       "    .dataframe tbody tr th {\n",
       "        vertical-align: top;\n",
       "    }\n",
       "\n",
       "    .dataframe thead th {\n",
       "        text-align: right;\n",
       "    }\n",
       "</style>\n",
       "<table border=\"1\" class=\"dataframe\">\n",
       "  <thead>\n",
       "    <tr style=\"text-align: right;\">\n",
       "      <th></th>\n",
       "      <th>invoiceno</th>\n",
       "      <th>stockcode</th>\n",
       "      <th>description</th>\n",
       "      <th>quantity</th>\n",
       "      <th>invoicedate</th>\n",
       "      <th>unitprice</th>\n",
       "      <th>customerid</th>\n",
       "    </tr>\n",
       "  </thead>\n",
       "  <tbody>\n",
       "    <tr>\n",
       "      <th>141</th>\n",
       "      <td>C536379</td>\n",
       "      <td>D</td>\n",
       "      <td>Discount</td>\n",
       "      <td>-1</td>\n",
       "      <td>2018-11-29 09:41:00</td>\n",
       "      <td>27.50</td>\n",
       "      <td>14527.0</td>\n",
       "    </tr>\n",
       "    <tr>\n",
       "      <th>154</th>\n",
       "      <td>C536383</td>\n",
       "      <td>35004C</td>\n",
       "      <td>SET OF 3 COLOURED  FLYING DUCKS</td>\n",
       "      <td>-1</td>\n",
       "      <td>2018-11-29 09:49:00</td>\n",
       "      <td>4.65</td>\n",
       "      <td>15311.0</td>\n",
       "    </tr>\n",
       "    <tr>\n",
       "      <th>235</th>\n",
       "      <td>C536391</td>\n",
       "      <td>22556</td>\n",
       "      <td>PLASTERS IN TIN CIRCUS PARADE</td>\n",
       "      <td>-12</td>\n",
       "      <td>2018-11-29 10:24:00</td>\n",
       "      <td>1.65</td>\n",
       "      <td>17548.0</td>\n",
       "    </tr>\n",
       "    <tr>\n",
       "      <th>236</th>\n",
       "      <td>C536391</td>\n",
       "      <td>21984</td>\n",
       "      <td>PACK OF 12 PINK PAISLEY TISSUES</td>\n",
       "      <td>-24</td>\n",
       "      <td>2018-11-29 10:24:00</td>\n",
       "      <td>0.29</td>\n",
       "      <td>17548.0</td>\n",
       "    </tr>\n",
       "    <tr>\n",
       "      <th>237</th>\n",
       "      <td>C536391</td>\n",
       "      <td>21983</td>\n",
       "      <td>PACK OF 12 BLUE PAISLEY TISSUES</td>\n",
       "      <td>-24</td>\n",
       "      <td>2018-11-29 10:24:00</td>\n",
       "      <td>0.29</td>\n",
       "      <td>17548.0</td>\n",
       "    </tr>\n",
       "    <tr>\n",
       "      <th>...</th>\n",
       "      <td>...</td>\n",
       "      <td>...</td>\n",
       "      <td>...</td>\n",
       "      <td>...</td>\n",
       "      <td>...</td>\n",
       "      <td>...</td>\n",
       "      <td>...</td>\n",
       "    </tr>\n",
       "    <tr>\n",
       "      <th>401117</th>\n",
       "      <td>C581490</td>\n",
       "      <td>23144</td>\n",
       "      <td>ZINC T-LIGHT HOLDER STARS SMALL</td>\n",
       "      <td>-11</td>\n",
       "      <td>2019-12-07 09:57:00</td>\n",
       "      <td>0.83</td>\n",
       "      <td>14397.0</td>\n",
       "    </tr>\n",
       "    <tr>\n",
       "      <th>401201</th>\n",
       "      <td>C581499</td>\n",
       "      <td>M</td>\n",
       "      <td>Manual</td>\n",
       "      <td>-1</td>\n",
       "      <td>2019-12-07 10:28:00</td>\n",
       "      <td>224.69</td>\n",
       "      <td>15498.0</td>\n",
       "    </tr>\n",
       "    <tr>\n",
       "      <th>401368</th>\n",
       "      <td>C581568</td>\n",
       "      <td>21258</td>\n",
       "      <td>VICTORIAN SEWING BOX LARGE</td>\n",
       "      <td>-5</td>\n",
       "      <td>2019-12-07 11:57:00</td>\n",
       "      <td>10.95</td>\n",
       "      <td>15311.0</td>\n",
       "    </tr>\n",
       "    <tr>\n",
       "      <th>401369</th>\n",
       "      <td>C581569</td>\n",
       "      <td>84978</td>\n",
       "      <td>HANGING HEART JAR T-LIGHT HOLDER</td>\n",
       "      <td>-1</td>\n",
       "      <td>2019-12-07 11:58:00</td>\n",
       "      <td>1.25</td>\n",
       "      <td>17315.0</td>\n",
       "    </tr>\n",
       "    <tr>\n",
       "      <th>401370</th>\n",
       "      <td>C581569</td>\n",
       "      <td>20979</td>\n",
       "      <td>36 PENCILS TUBE RED RETROSPOT</td>\n",
       "      <td>-5</td>\n",
       "      <td>2019-12-07 11:58:00</td>\n",
       "      <td>1.25</td>\n",
       "      <td>17315.0</td>\n",
       "    </tr>\n",
       "  </tbody>\n",
       "</table>\n",
       "<p>8872 rows × 7 columns</p>\n",
       "</div>"
      ],
      "text/plain": [
       "       invoiceno stockcode                       description  quantity  \\\n",
       "141      C536379         D                          Discount        -1   \n",
       "154      C536383    35004C   SET OF 3 COLOURED  FLYING DUCKS        -1   \n",
       "235      C536391     22556    PLASTERS IN TIN CIRCUS PARADE        -12   \n",
       "236      C536391     21984  PACK OF 12 PINK PAISLEY TISSUES        -24   \n",
       "237      C536391     21983  PACK OF 12 BLUE PAISLEY TISSUES        -24   \n",
       "...          ...       ...                               ...       ...   \n",
       "401117   C581490     23144   ZINC T-LIGHT HOLDER STARS SMALL       -11   \n",
       "401201   C581499         M                            Manual        -1   \n",
       "401368   C581568     21258        VICTORIAN SEWING BOX LARGE        -5   \n",
       "401369   C581569     84978  HANGING HEART JAR T-LIGHT HOLDER        -1   \n",
       "401370   C581569     20979     36 PENCILS TUBE RED RETROSPOT        -5   \n",
       "\n",
       "               invoicedate  unitprice  customerid  \n",
       "141    2018-11-29 09:41:00      27.50     14527.0  \n",
       "154    2018-11-29 09:49:00       4.65     15311.0  \n",
       "235    2018-11-29 10:24:00       1.65     17548.0  \n",
       "236    2018-11-29 10:24:00       0.29     17548.0  \n",
       "237    2018-11-29 10:24:00       0.29     17548.0  \n",
       "...                    ...        ...         ...  \n",
       "401117 2019-12-07 09:57:00       0.83     14397.0  \n",
       "401201 2019-12-07 10:28:00     224.69     15498.0  \n",
       "401368 2019-12-07 11:57:00      10.95     15311.0  \n",
       "401369 2019-12-07 11:58:00       1.25     17315.0  \n",
       "401370 2019-12-07 11:58:00       1.25     17315.0  \n",
       "\n",
       "[8872 rows x 7 columns]"
      ]
     },
     "execution_count": 17,
     "metadata": {},
     "output_type": "execute_result"
    }
   ],
   "source": [
    "ecommerce.query(\"quantity < 0 and invoiceno.str.startswith('C')\")"
   ]
  },
  {
   "cell_type": "markdown",
   "metadata": {},
   "source": [
    "We can notice that products with negative quantity has invoiceno starting with C which can rfrs to return or refund"
   ]
  },
  {
   "cell_type": "markdown",
   "metadata": {},
   "source": [
    "<div class=\"alert alert-block alert-success\">\n",
    "<b> Comentário do revisor: </b> <a class=\"tocSkip\"></a>\n",
    "\n",
    "Ok.\n",
    "</div>"
   ]
  },
  {
   "cell_type": "markdown",
   "metadata": {},
   "source": [
    "## Segmentation of Users"
   ]
  },
  {
   "cell_type": "markdown",
   "metadata": {},
   "source": [
    "### Group customers into distinct segments based on their purchases. This can lead to more personalized marketing strategies."
   ]
  },
  {
   "cell_type": "code",
   "execution_count": 18,
   "metadata": {},
   "outputs": [
    {
     "data": {
      "text/html": [
       "<div>\n",
       "<style scoped>\n",
       "    .dataframe tbody tr th:only-of-type {\n",
       "        vertical-align: middle;\n",
       "    }\n",
       "\n",
       "    .dataframe tbody tr th {\n",
       "        vertical-align: top;\n",
       "    }\n",
       "\n",
       "    .dataframe thead th {\n",
       "        text-align: right;\n",
       "    }\n",
       "</style>\n",
       "<table border=\"1\" class=\"dataframe\">\n",
       "  <thead>\n",
       "    <tr style=\"text-align: right;\">\n",
       "      <th></th>\n",
       "      <th>customerid</th>\n",
       "      <th>total_quantity</th>\n",
       "      <th>total_invoices</th>\n",
       "      <th>total_revenue</th>\n",
       "      <th>latest_purchase_date</th>\n",
       "      <th>first_purchase_date</th>\n",
       "      <th>days_since_first_purchase</th>\n",
       "      <th>customer_segment</th>\n",
       "    </tr>\n",
       "  </thead>\n",
       "  <tbody>\n",
       "    <tr>\n",
       "      <th>0</th>\n",
       "      <td>12346.0</td>\n",
       "      <td>0</td>\n",
       "      <td>2</td>\n",
       "      <td>0.00</td>\n",
       "      <td>2019-01-16 10:17:00</td>\n",
       "      <td>2019-01-16 10:01:00</td>\n",
       "      <td>0</td>\n",
       "      <td>New Customer</td>\n",
       "    </tr>\n",
       "    <tr>\n",
       "      <th>1</th>\n",
       "      <td>12347.0</td>\n",
       "      <td>2458</td>\n",
       "      <td>7</td>\n",
       "      <td>4310.00</td>\n",
       "      <td>2019-12-05 15:52:00</td>\n",
       "      <td>2018-12-05 14:57:00</td>\n",
       "      <td>365</td>\n",
       "      <td>Non-Frequent Customer</td>\n",
       "    </tr>\n",
       "    <tr>\n",
       "      <th>2</th>\n",
       "      <td>12348.0</td>\n",
       "      <td>2341</td>\n",
       "      <td>4</td>\n",
       "      <td>1797.24</td>\n",
       "      <td>2019-09-23 13:13:00</td>\n",
       "      <td>2018-12-14 19:09:00</td>\n",
       "      <td>282</td>\n",
       "      <td>Non-Frequent Customer</td>\n",
       "    </tr>\n",
       "    <tr>\n",
       "      <th>3</th>\n",
       "      <td>12349.0</td>\n",
       "      <td>631</td>\n",
       "      <td>1</td>\n",
       "      <td>1757.55</td>\n",
       "      <td>2019-11-19 09:51:00</td>\n",
       "      <td>2019-11-19 09:51:00</td>\n",
       "      <td>0</td>\n",
       "      <td>New Customer</td>\n",
       "    </tr>\n",
       "    <tr>\n",
       "      <th>4</th>\n",
       "      <td>12350.0</td>\n",
       "      <td>197</td>\n",
       "      <td>1</td>\n",
       "      <td>334.40</td>\n",
       "      <td>2019-01-31 16:01:00</td>\n",
       "      <td>2019-01-31 16:01:00</td>\n",
       "      <td>0</td>\n",
       "      <td>New Customer</td>\n",
       "    </tr>\n",
       "    <tr>\n",
       "      <th>...</th>\n",
       "      <td>...</td>\n",
       "      <td>...</td>\n",
       "      <td>...</td>\n",
       "      <td>...</td>\n",
       "      <td>...</td>\n",
       "      <td>...</td>\n",
       "      <td>...</td>\n",
       "      <td>...</td>\n",
       "    </tr>\n",
       "    <tr>\n",
       "      <th>4367</th>\n",
       "      <td>18280.0</td>\n",
       "      <td>45</td>\n",
       "      <td>1</td>\n",
       "      <td>180.60</td>\n",
       "      <td>2019-03-05 09:52:00</td>\n",
       "      <td>2019-03-05 09:52:00</td>\n",
       "      <td>0</td>\n",
       "      <td>New Customer</td>\n",
       "    </tr>\n",
       "    <tr>\n",
       "      <th>4368</th>\n",
       "      <td>18281.0</td>\n",
       "      <td>54</td>\n",
       "      <td>1</td>\n",
       "      <td>80.82</td>\n",
       "      <td>2019-06-10 10:53:00</td>\n",
       "      <td>2019-06-10 10:53:00</td>\n",
       "      <td>0</td>\n",
       "      <td>New Customer</td>\n",
       "    </tr>\n",
       "    <tr>\n",
       "      <th>4369</th>\n",
       "      <td>18282.0</td>\n",
       "      <td>98</td>\n",
       "      <td>3</td>\n",
       "      <td>176.60</td>\n",
       "      <td>2019-11-30 11:43:00</td>\n",
       "      <td>2019-08-03 13:35:00</td>\n",
       "      <td>118</td>\n",
       "      <td>Non-Frequent Customer</td>\n",
       "    </tr>\n",
       "    <tr>\n",
       "      <th>4370</th>\n",
       "      <td>18283.0</td>\n",
       "      <td>1357</td>\n",
       "      <td>16</td>\n",
       "      <td>2045.53</td>\n",
       "      <td>2019-12-04 12:02:00</td>\n",
       "      <td>2019-01-04 14:14:00</td>\n",
       "      <td>333</td>\n",
       "      <td>Non-Frequent Customer</td>\n",
       "    </tr>\n",
       "    <tr>\n",
       "      <th>4371</th>\n",
       "      <td>18287.0</td>\n",
       "      <td>1586</td>\n",
       "      <td>3</td>\n",
       "      <td>1837.28</td>\n",
       "      <td>2019-10-26 09:29:00</td>\n",
       "      <td>2019-05-20 10:39:00</td>\n",
       "      <td>158</td>\n",
       "      <td>Non-Frequent Customer</td>\n",
       "    </tr>\n",
       "  </tbody>\n",
       "</table>\n",
       "<p>4372 rows × 8 columns</p>\n",
       "</div>"
      ],
      "text/plain": [
       "      customerid  total_quantity  total_invoices  total_revenue  \\\n",
       "0        12346.0               0               2           0.00   \n",
       "1        12347.0            2458               7        4310.00   \n",
       "2        12348.0            2341               4        1797.24   \n",
       "3        12349.0             631               1        1757.55   \n",
       "4        12350.0             197               1         334.40   \n",
       "...          ...             ...             ...            ...   \n",
       "4367     18280.0              45               1         180.60   \n",
       "4368     18281.0              54               1          80.82   \n",
       "4369     18282.0              98               3         176.60   \n",
       "4370     18283.0            1357              16        2045.53   \n",
       "4371     18287.0            1586               3        1837.28   \n",
       "\n",
       "     latest_purchase_date first_purchase_date  days_since_first_purchase  \\\n",
       "0     2019-01-16 10:17:00 2019-01-16 10:01:00                          0   \n",
       "1     2019-12-05 15:52:00 2018-12-05 14:57:00                        365   \n",
       "2     2019-09-23 13:13:00 2018-12-14 19:09:00                        282   \n",
       "3     2019-11-19 09:51:00 2019-11-19 09:51:00                          0   \n",
       "4     2019-01-31 16:01:00 2019-01-31 16:01:00                          0   \n",
       "...                   ...                 ...                        ...   \n",
       "4367  2019-03-05 09:52:00 2019-03-05 09:52:00                          0   \n",
       "4368  2019-06-10 10:53:00 2019-06-10 10:53:00                          0   \n",
       "4369  2019-11-30 11:43:00 2019-08-03 13:35:00                        118   \n",
       "4370  2019-12-04 12:02:00 2019-01-04 14:14:00                        333   \n",
       "4371  2019-10-26 09:29:00 2019-05-20 10:39:00                        158   \n",
       "\n",
       "           customer_segment  \n",
       "0              New Customer  \n",
       "1     Non-Frequent Customer  \n",
       "2     Non-Frequent Customer  \n",
       "3              New Customer  \n",
       "4              New Customer  \n",
       "...                     ...  \n",
       "4367           New Customer  \n",
       "4368           New Customer  \n",
       "4369  Non-Frequent Customer  \n",
       "4370  Non-Frequent Customer  \n",
       "4371  Non-Frequent Customer  \n",
       "\n",
       "[4372 rows x 8 columns]"
      ]
     },
     "execution_count": 18,
     "metadata": {},
     "output_type": "execute_result"
    }
   ],
   "source": [
    "# Grouping by customerid to get relevant metrics\n",
    "ecommerce['total_revenue'] = ecommerce['unitprice'] * ecommerce['quantity']\n",
    "\n",
    "customer_summary = ecommerce.groupby('customerid').agg(\n",
    "    total_quantity=('quantity', 'sum'),            # Total quantity purchased\n",
    "    total_invoices=('invoiceno', 'nunique'),       # Unique number of invoices\n",
    "    total_revenue = (('total_revenue'), 'sum'),    # Total revenue per customer\n",
    "    latest_purchase_date=('invoicedate', 'max'),   # Latest purchase date\n",
    "    first_purchase_date=('invoicedate', 'min')     # First purchase date\n",
    ").reset_index()\n",
    "\n",
    "\n",
    "# Calculate days since first purchase and days since last purchase\n",
    "customer_summary['days_since_first_purchase'] = (customer_summary['latest_purchase_date'] - customer_summary['first_purchase_date']).dt.days\n",
    "\n",
    "# Segment customers based on days since the first purchase\n",
    "def segment_customer(days):\n",
    "    if days <= 30:\n",
    "        return 'New Customer'\n",
    "    elif 31 <= days <= 100:\n",
    "        return 'Frequent Customer'\n",
    "    else:\n",
    "        return 'Non-Frequent Customer'\n",
    "\n",
    "# Apply the segmentation\n",
    "customer_summary['customer_segment'] = customer_summary['days_since_first_purchase'].apply(segment_customer)\n",
    "\n",
    "customer_summary"
   ]
  },
  {
   "cell_type": "code",
   "execution_count": 19,
   "metadata": {},
   "outputs": [
    {
     "data": {
      "image/png": "[encoded data removed]",
      "text/plain": [
       "<Figure size 800x500 with 1 Axes>"
      ]
     },
     "metadata": {},
     "output_type": "display_data"
    }
   ],
   "source": [
    "# Count the number of customers in each segment\n",
    "customer_segment_counts = customer_summary['customer_segment'].value_counts().reset_index()\n",
    "customer_segment_counts.columns = ['customer_segment', 'count']\n",
    "\n",
    "# Set the aesthetics for the plot\n",
    "sns.set(style=\"whitegrid\")\n",
    "\n",
    "# Create the bar plot\n",
    "plt.figure(figsize=(8, 5))\n",
    "sns.barplot(data=customer_segment_counts, x='customer_segment', y='count', palette='viridis')\n",
    "plt.title('Distribution of Customer Segments')\n",
    "plt.xlabel('Customer Segment')\n",
    "plt.ylabel('Number of Customers')\n",
    "plt.xticks(rotation=45)\n",
    "plt.show()"
   ]
  },
  {
   "cell_type": "markdown",
   "metadata": {},
   "source": [
    "The Non-Frequent Customer segment has the highest number of customers, exceeding 2,000 individuals. This suggests that a large proportion of the customer base does not frequently engage with the business, which could indicate a need for targeted marketing strategies to convert them into more regular customers.\n",
    "\n",
    "The New Customer segment accounts for a substantial number of customers, likely around 1,500. This indicates that the business is successfully attracting new customers, which is a positive sign for growth. However, retaining these customers is crucial to long-term success.\n",
    "\n",
    "The Frequent Customer segment has the lowest number of customers, with fewer than 500 individuals. This may highlight a significant opportunity for improvement in customer loyalty programs, as these customers represent a valuable asset for repeat business."
   ]
  },
  {
   "cell_type": "markdown",
   "metadata": {},
   "source": [
    "<div class=\"alert alert-block alert-success\">\n",
    "<b> Comentário do revisor: </b> <a class=\"tocSkip\"></a>\n",
    "\n",
    "Ok.\n",
    "</div>"
   ]
  },
  {
   "cell_type": "markdown",
   "metadata": {},
   "source": [
    "### Segment by spending behavior: Separate customers into groups like high-spenders, moderate spenders, and low spenders."
   ]
  },
  {
   "cell_type": "code",
   "execution_count": 20,
   "metadata": {},
   "outputs": [
    {
     "data": {
      "text/html": [
       "<div>\n",
       "<style scoped>\n",
       "    .dataframe tbody tr th:only-of-type {\n",
       "        vertical-align: middle;\n",
       "    }\n",
       "\n",
       "    .dataframe tbody tr th {\n",
       "        vertical-align: top;\n",
       "    }\n",
       "\n",
       "    .dataframe thead th {\n",
       "        text-align: right;\n",
       "    }\n",
       "</style>\n",
       "<table border=\"1\" class=\"dataframe\">\n",
       "  <thead>\n",
       "    <tr style=\"text-align: right;\">\n",
       "      <th></th>\n",
       "      <th>customerid</th>\n",
       "      <th>total_quantity</th>\n",
       "      <th>total_invoices</th>\n",
       "      <th>total_revenue</th>\n",
       "      <th>latest_purchase_date</th>\n",
       "      <th>first_purchase_date</th>\n",
       "      <th>days_since_first_purchase</th>\n",
       "      <th>customer_segment</th>\n",
       "      <th>spending_category</th>\n",
       "    </tr>\n",
       "  </thead>\n",
       "  <tbody>\n",
       "    <tr>\n",
       "      <th>0</th>\n",
       "      <td>12346.0</td>\n",
       "      <td>0</td>\n",
       "      <td>2</td>\n",
       "      <td>0.00</td>\n",
       "      <td>2019-01-16 10:17:00</td>\n",
       "      <td>2019-01-16 10:01:00</td>\n",
       "      <td>0</td>\n",
       "      <td>New Customer</td>\n",
       "      <td>Low Spender</td>\n",
       "    </tr>\n",
       "    <tr>\n",
       "      <th>1</th>\n",
       "      <td>12347.0</td>\n",
       "      <td>2458</td>\n",
       "      <td>7</td>\n",
       "      <td>4310.00</td>\n",
       "      <td>2019-12-05 15:52:00</td>\n",
       "      <td>2018-12-05 14:57:00</td>\n",
       "      <td>365</td>\n",
       "      <td>Non-Frequent Customer</td>\n",
       "      <td>High Spender</td>\n",
       "    </tr>\n",
       "    <tr>\n",
       "      <th>2</th>\n",
       "      <td>12348.0</td>\n",
       "      <td>2341</td>\n",
       "      <td>4</td>\n",
       "      <td>1797.24</td>\n",
       "      <td>2019-09-23 13:13:00</td>\n",
       "      <td>2018-12-14 19:09:00</td>\n",
       "      <td>282</td>\n",
       "      <td>Non-Frequent Customer</td>\n",
       "      <td>High Spender</td>\n",
       "    </tr>\n",
       "    <tr>\n",
       "      <th>3</th>\n",
       "      <td>12349.0</td>\n",
       "      <td>631</td>\n",
       "      <td>1</td>\n",
       "      <td>1757.55</td>\n",
       "      <td>2019-11-19 09:51:00</td>\n",
       "      <td>2019-11-19 09:51:00</td>\n",
       "      <td>0</td>\n",
       "      <td>New Customer</td>\n",
       "      <td>High Spender</td>\n",
       "    </tr>\n",
       "    <tr>\n",
       "      <th>4</th>\n",
       "      <td>12350.0</td>\n",
       "      <td>197</td>\n",
       "      <td>1</td>\n",
       "      <td>334.40</td>\n",
       "      <td>2019-01-31 16:01:00</td>\n",
       "      <td>2019-01-31 16:01:00</td>\n",
       "      <td>0</td>\n",
       "      <td>New Customer</td>\n",
       "      <td>Low Spender</td>\n",
       "    </tr>\n",
       "    <tr>\n",
       "      <th>...</th>\n",
       "      <td>...</td>\n",
       "      <td>...</td>\n",
       "      <td>...</td>\n",
       "      <td>...</td>\n",
       "      <td>...</td>\n",
       "      <td>...</td>\n",
       "      <td>...</td>\n",
       "      <td>...</td>\n",
       "      <td>...</td>\n",
       "    </tr>\n",
       "    <tr>\n",
       "      <th>4367</th>\n",
       "      <td>18280.0</td>\n",
       "      <td>45</td>\n",
       "      <td>1</td>\n",
       "      <td>180.60</td>\n",
       "      <td>2019-03-05 09:52:00</td>\n",
       "      <td>2019-03-05 09:52:00</td>\n",
       "      <td>0</td>\n",
       "      <td>New Customer</td>\n",
       "      <td>Low Spender</td>\n",
       "    </tr>\n",
       "    <tr>\n",
       "      <th>4368</th>\n",
       "      <td>18281.0</td>\n",
       "      <td>54</td>\n",
       "      <td>1</td>\n",
       "      <td>80.82</td>\n",
       "      <td>2019-06-10 10:53:00</td>\n",
       "      <td>2019-06-10 10:53:00</td>\n",
       "      <td>0</td>\n",
       "      <td>New Customer</td>\n",
       "      <td>Low Spender</td>\n",
       "    </tr>\n",
       "    <tr>\n",
       "      <th>4369</th>\n",
       "      <td>18282.0</td>\n",
       "      <td>98</td>\n",
       "      <td>3</td>\n",
       "      <td>176.60</td>\n",
       "      <td>2019-11-30 11:43:00</td>\n",
       "      <td>2019-08-03 13:35:00</td>\n",
       "      <td>118</td>\n",
       "      <td>Non-Frequent Customer</td>\n",
       "      <td>Low Spender</td>\n",
       "    </tr>\n",
       "    <tr>\n",
       "      <th>4370</th>\n",
       "      <td>18283.0</td>\n",
       "      <td>1357</td>\n",
       "      <td>16</td>\n",
       "      <td>2045.53</td>\n",
       "      <td>2019-12-04 12:02:00</td>\n",
       "      <td>2019-01-04 14:14:00</td>\n",
       "      <td>333</td>\n",
       "      <td>Non-Frequent Customer</td>\n",
       "      <td>High Spender</td>\n",
       "    </tr>\n",
       "    <tr>\n",
       "      <th>4371</th>\n",
       "      <td>18287.0</td>\n",
       "      <td>1586</td>\n",
       "      <td>3</td>\n",
       "      <td>1837.28</td>\n",
       "      <td>2019-10-26 09:29:00</td>\n",
       "      <td>2019-05-20 10:39:00</td>\n",
       "      <td>158</td>\n",
       "      <td>Non-Frequent Customer</td>\n",
       "      <td>High Spender</td>\n",
       "    </tr>\n",
       "  </tbody>\n",
       "</table>\n",
       "<p>4372 rows × 9 columns</p>\n",
       "</div>"
      ],
      "text/plain": [
       "      customerid  total_quantity  total_invoices  total_revenue  \\\n",
       "0        12346.0               0               2           0.00   \n",
       "1        12347.0            2458               7        4310.00   \n",
       "2        12348.0            2341               4        1797.24   \n",
       "3        12349.0             631               1        1757.55   \n",
       "4        12350.0             197               1         334.40   \n",
       "...          ...             ...             ...            ...   \n",
       "4367     18280.0              45               1         180.60   \n",
       "4368     18281.0              54               1          80.82   \n",
       "4369     18282.0              98               3         176.60   \n",
       "4370     18283.0            1357              16        2045.53   \n",
       "4371     18287.0            1586               3        1837.28   \n",
       "\n",
       "     latest_purchase_date first_purchase_date  days_since_first_purchase  \\\n",
       "0     2019-01-16 10:17:00 2019-01-16 10:01:00                          0   \n",
       "1     2019-12-05 15:52:00 2018-12-05 14:57:00                        365   \n",
       "2     2019-09-23 13:13:00 2018-12-14 19:09:00                        282   \n",
       "3     2019-11-19 09:51:00 2019-11-19 09:51:00                          0   \n",
       "4     2019-01-31 16:01:00 2019-01-31 16:01:00                          0   \n",
       "...                   ...                 ...                        ...   \n",
       "4367  2019-03-05 09:52:00 2019-03-05 09:52:00                          0   \n",
       "4368  2019-06-10 10:53:00 2019-06-10 10:53:00                          0   \n",
       "4369  2019-11-30 11:43:00 2019-08-03 13:35:00                        118   \n",
       "4370  2019-12-04 12:02:00 2019-01-04 14:14:00                        333   \n",
       "4371  2019-10-26 09:29:00 2019-05-20 10:39:00                        158   \n",
       "\n",
       "           customer_segment spending_category  \n",
       "0              New Customer       Low Spender  \n",
       "1     Non-Frequent Customer      High Spender  \n",
       "2     Non-Frequent Customer      High Spender  \n",
       "3              New Customer      High Spender  \n",
       "4              New Customer       Low Spender  \n",
       "...                     ...               ...  \n",
       "4367           New Customer       Low Spender  \n",
       "4368           New Customer       Low Spender  \n",
       "4369  Non-Frequent Customer       Low Spender  \n",
       "4370  Non-Frequent Customer      High Spender  \n",
       "4371  Non-Frequent Customer      High Spender  \n",
       "\n",
       "[4372 rows x 9 columns]"
      ]
     },
     "execution_count": 20,
     "metadata": {},
     "output_type": "execute_result"
    }
   ],
   "source": [
    "# Define the spending categories\n",
    "def categorize_spending(row):\n",
    "    if row <= 500:\n",
    "        return 'Low Spender'\n",
    "    elif row <= 1500:\n",
    "        return 'Moderate Spender'\n",
    "    else:\n",
    "        return 'High Spender'\n",
    "\n",
    "# Apply the categorization\n",
    "customer_summary['spending_category'] = customer_summary['total_revenue'].apply(categorize_spending)\n",
    "\n",
    "customer_summary"
   ]
  },
  {
   "cell_type": "code",
   "execution_count": 21,
   "metadata": {},
   "outputs": [
    {
     "data": {
      "image/png": "[encoded data removed]",
      "text/plain": [
       "<Figure size 800x500 with 1 Axes>"
      ]
     },
     "metadata": {},
     "output_type": "display_data"
    }
   ],
   "source": [
    "# Count the number of customers in each spending category\n",
    "spending_counts = customer_summary['spending_category'].value_counts().reset_index()\n",
    "spending_counts.columns = ['spending_category', 'count']\n",
    "\n",
    "# Set the aesthetics for the plot\n",
    "sns.set(style=\"whitegrid\")\n",
    "\n",
    "# Create the bar plot\n",
    "plt.figure(figsize=(8, 5))\n",
    "sns.barplot(data=spending_counts, x='spending_category', y='count', palette='magma')\n",
    "plt.title('Distribution of Spending Category')\n",
    "plt.xlabel('Spending Category')\n",
    "plt.ylabel('Number of Customers')\n",
    "plt.xticks(rotation=45)\n",
    "plt.show()"
   ]
  },
  {
   "cell_type": "markdown",
   "metadata": {},
   "source": [
    "The Low Spender category has the highest number of customers, with approximately 1,750 individuals. This indicates that a significant portion of the customer base spends less, which could imply price sensitivity or a preference for budget-friendly options.\n",
    "\n",
    "The Moderate Spender category has around 1,250 customers. This group is smaller than the low spenders but still constitutes a substantial part of the customer base, suggesting a middle-ground approach to spending.\n",
    "\n",
    "The High Spender category has the least number of customers, approximately 1,000. This indicates that fewer customers fall into this category, which could suggest that high-value items or luxury products appeal to a niche market."
   ]
  },
  {
   "cell_type": "markdown",
   "metadata": {},
   "source": [
    "<div class=\"alert alert-block alert-success\">\n",
    "<b> Comentário do revisor: </b> <a class=\"tocSkip\"></a>\n",
    "\n",
    "Ok.\n",
    "</div>"
   ]
  },
  {
   "cell_type": "markdown",
   "metadata": {},
   "source": [
    "## Hypothesis Testing"
   ]
  },
  {
   "cell_type": "markdown",
   "metadata": {},
   "source": [
    "### Formulate hypotheses about consumer behavior and test them statistically."
   ]
  },
  {
   "cell_type": "markdown",
   "metadata": {},
   "source": [
    "Hypotheses to be tested:\n",
    "\n",
    "- Non-frequent customers spend more than frequent customers\n",
    "- Customers with more invoices tend to be high spenders.\n",
    "- First-Half year quantity purchases are smaller than those quantity purchases made in Second-Half year"
   ]
  },
  {
   "cell_type": "markdown",
   "metadata": {},
   "source": [
    "<div class=\"alert alert-block alert-success\">\n",
    "<b> Comentário do revisor: </b> <a class=\"tocSkip\"></a>\n",
    "\n",
    "Ok.\n",
    "</div>"
   ]
  },
  {
   "cell_type": "markdown",
   "metadata": {},
   "source": [
    "### Use t-tests or chi-squared tests depending on the nature of the data and the hypothesis you're testing."
   ]
  },
  {
   "cell_type": "markdown",
   "metadata": {},
   "source": [
    "#### Non-frequent customers spend more than frequent customers"
   ]
  },
  {
   "cell_type": "markdown",
   "metadata": {},
   "source": [
    "Null Hypothesis (H₀): Average spending between frequent and non-frequent customers are identical.\n",
    "\n",
    "Alternative Hypothesis (H₁): Non-frequent customers spend more than frequent customers.\n",
    "\n",
    "Test: Independent t-test (since we are comparing the means of two independent groups)."
   ]
  },
  {
   "cell_type": "code",
   "execution_count": 22,
   "metadata": {
    "scrolled": true
   },
   "outputs": [
    {
     "name": "stdout",
     "output_type": "stream",
     "text": [
      "Mean total revenue from Frequent Customers: 1105.3607644628094\n",
      "Mean total revenue from Non-Frequent Customers: 3255.7848857142853\n",
      "Variance for Frequent Customers: 8047165.123954415\n",
      "Variance for Non-Frequent Customers: 129988792.7143338\n"
     ]
    }
   ],
   "source": [
    "# Filter the two groups\n",
    "frequent_customers = customer_summary[customer_summary['customer_segment'] == 'Frequent Customer']['total_revenue']\n",
    "non_frequent_customers = customer_summary[customer_summary['customer_segment'] == 'Non-Frequent Customer']['total_revenue']\n",
    "\n",
    "# Calculate means\n",
    "mean_frequent = frequent_customers.mean()\n",
    "mean_non_frequent = non_frequent_customers.mean()\n",
    "\n",
    "# Calculate variances\n",
    "var_frequent = frequent_customers.var()\n",
    "var_non_frequent = non_frequent_customers.var()\n",
    "\n",
    "print(f\"Mean total revenue from Frequent Customers: {mean_frequent}\")\n",
    "print(f\"Mean total revenue from Non-Frequent Customers: {mean_non_frequent}\")\n",
    "print(f\"Variance for Frequent Customers: {var_frequent}\")\n",
    "print(f\"Variance for Non-Frequent Customers: {var_non_frequent}\")"
   ]
  },
  {
   "cell_type": "markdown",
   "metadata": {},
   "source": [
    "<div class=\"alert alert-block alert-success\">\n",
    "<b> Comentário do revisor: </b> <a class=\"tocSkip\"></a>\n",
    "\n",
    "Ok.\n",
    "</div>"
   ]
  },
  {
   "cell_type": "code",
   "execution_count": 23,
   "metadata": {
    "scrolled": true
   },
   "outputs": [
    {
     "name": "stdout",
     "output_type": "stream",
     "text": [
      "T-statistic: -7.7733993503399175, p-value: 1.0876372982374861e-14\n",
      "Reject the null hypothesis: Non-frequent customers spend more than frequent customers.\n"
     ]
    }
   ],
   "source": [
    "# Perform Welch’s t-test (does not assume equal variance)\n",
    "t_stat, p_value = st.ttest_ind(frequent_customers, non_frequent_customers, equal_var=False)\n",
    "\n",
    "print(f\"T-statistic: {t_stat}, p-value: {p_value}\")\n",
    "\n",
    "# Interpret the result\n",
    "alpha = 0.05  # significance level\n",
    "if p_value < alpha:\n",
    "    print(\"Reject the null hypothesis: Non-frequent customers spend more than frequent customers.\")\n",
    "else:\n",
    "    print(\"Fail to reject the null hypothesis: No significant difference in spending between the two groups.\")"
   ]
  },
  {
   "cell_type": "markdown",
   "metadata": {},
   "source": [
    "The results indicate that non-frequent customers generate more revenue on average than frequent customers. While frequent customers make more purchases, their total spending is lower. On the other hand, non-frequent customers buy less often, but when they do, their purchases are substantially higher."
   ]
  },
  {
   "cell_type": "markdown",
   "metadata": {},
   "source": [
    "<div class=\"alert alert-block alert-danger\">\n",
    "<b> Comentário do revisor: </b> <a class=\"tocSkip\"></a>\n",
    "\n",
    "Qual a interpretação final do resultado acima?\n",
    "</div>"
   ]
  },
  {
   "cell_type": "markdown",
   "metadata": {},
   "source": [
    "<div class=\"alert alert-block alert-success\">\n",
    "<b> Comentário do revisor: </b> <a class=\"tocSkip\"></a>\n",
    "\n",
    "Ok.\n",
    "</div>"
   ]
  },
  {
   "cell_type": "markdown",
   "metadata": {},
   "source": [
    "#### Customers with more invoices tend to be high spenders"
   ]
  },
  {
   "cell_type": "markdown",
   "metadata": {},
   "source": [
    "Null Hypothesis (H₀): There is no association between the number of invoices and the spending category.\n",
    "\n",
    "Alternative Hypothesis (H₁): Customers with more invoices are more likely to be high spenders.\n",
    "\n",
    "Test: Chi-squared test (since we are testing the relationship between two categorical variables: invoice count and spending category)."
   ]
  },
  {
   "cell_type": "code",
   "execution_count": 24,
   "metadata": {
    "scrolled": true
   },
   "outputs": [
    {
     "name": "stdout",
     "output_type": "stream",
     "text": [
      "Contingency Table:\n",
      "spending_category  High Spender  Low Spender  Moderate Spender\n",
      "invoice_category                                              \n",
      "High                        446            0                13\n",
      "Low                         118         1746               756\n",
      "Moderate                    598           90               605\n"
     ]
    }
   ],
   "source": [
    "# Define the invoice categories\n",
    "def categorize_invoices(num_invoices):\n",
    "    if num_invoices <= 3:\n",
    "        return 'Low'\n",
    "    elif num_invoices <= 10:\n",
    "        return 'Moderate'\n",
    "    else:\n",
    "        return 'High'\n",
    "\n",
    "# Apply categorization to the dataframe\n",
    "customer_summary['invoice_category'] = customer_summary['total_invoices'].apply(categorize_invoices)\n",
    "\n",
    "# Create a contingency table\n",
    "contingency_table = pd.crosstab(customer_summary['invoice_category'], customer_summary['spending_category'])\n",
    "\n",
    "print(\"Contingency Table:\")\n",
    "print(contingency_table)"
   ]
  },
  {
   "cell_type": "code",
   "execution_count": 25,
   "metadata": {
    "scrolled": true
   },
   "outputs": [
    {
     "name": "stdout",
     "output_type": "stream",
     "text": [
      "Chi-squared Statistic: 2700.816557871254, p-value: 0.0\n",
      "Reject the null hypothesis: There is an association between the number of invoices and spending categories.\n"
     ]
    }
   ],
   "source": [
    "# Perform Chi-squared test\n",
    "chi2_stat, p_value, dof, expected = st.chi2_contingency(contingency_table)\n",
    "\n",
    "print(f\"Chi-squared Statistic: {chi2_stat}, p-value: {p_value}\")\n",
    "\n",
    "# Interpret the result\n",
    "alpha = 0.05  # significance level\n",
    "if p_value < alpha:\n",
    "    print(\"Reject the null hypothesis: There is an association between the number of invoices and spending categories.\")\n",
    "else:\n",
    "    print(\"Fail to reject the null hypothesis: No significant association between the number of invoices and spending categories.\")"
   ]
  },
  {
   "cell_type": "markdown",
   "metadata": {},
   "source": [
    "The analysis shows that there is a strong relationship between the number of invoices and spending behavior.\n",
    "\n",
    "High invoice count is strongly associated with high spending. Low invoice count is mostly associated with low spending. Moderate invoice count sees a more balanced distribution across spending categories, though with a slight tendency towards higher spending.\n",
    "\n",
    "This insight suggests that customers with many invoices tend to spend more, while those with fewer invoices are more likely to spend less"
   ]
  },
  {
   "cell_type": "markdown",
   "metadata": {},
   "source": [
    "<div class=\"alert alert-block alert-danger\">\n",
    "<b> Comentário do revisor: </b> <a class=\"tocSkip\"></a>\n",
    "\n",
    "Qual a interpretação final do resultado acima?\n",
    "</div>"
   ]
  },
  {
   "cell_type": "markdown",
   "metadata": {},
   "source": [
    "<div class=\"alert alert-block alert-success\">\n",
    "<b> Comentário do revisor: </b> <a class=\"tocSkip\"></a>\n",
    "\n",
    "Ok.\n",
    "</div>"
   ]
  },
  {
   "cell_type": "markdown",
   "metadata": {},
   "source": [
    "####  First-Half year quantity purchases are smaller than those quantity purchases made in Second-Half year"
   ]
  },
  {
   "cell_type": "markdown",
   "metadata": {},
   "source": [
    "Null Hypothesis (H₀): There is no difference in the average quantity of purchases between the first half and the second half of the year.\n",
    "\n",
    "Alternative Hypothesis (H₁): The average quantity purchased in the first half of the year is smaller than the average quantity purchased in the second half of the year.\n",
    "\n",
    "Test: Independent t-test (since we are comparing the means of two independent groups)"
   ]
  },
  {
   "cell_type": "code",
   "execution_count": 26,
   "metadata": {},
   "outputs": [
    {
     "data": {
      "text/html": [
       "<div>\n",
       "<style scoped>\n",
       "    .dataframe tbody tr th:only-of-type {\n",
       "        vertical-align: middle;\n",
       "    }\n",
       "\n",
       "    .dataframe tbody tr th {\n",
       "        vertical-align: top;\n",
       "    }\n",
       "\n",
       "    .dataframe thead th {\n",
       "        text-align: right;\n",
       "    }\n",
       "</style>\n",
       "<table border=\"1\" class=\"dataframe\">\n",
       "  <thead>\n",
       "    <tr style=\"text-align: right;\">\n",
       "      <th></th>\n",
       "      <th>invoiceno</th>\n",
       "      <th>invoicedate</th>\n",
       "      <th>customerid</th>\n",
       "      <th>quantity</th>\n",
       "      <th>first_purchase_date</th>\n",
       "      <th>days_since_first_shop_purchase</th>\n",
       "    </tr>\n",
       "  </thead>\n",
       "  <tbody>\n",
       "    <tr>\n",
       "      <th>0</th>\n",
       "      <td>536365</td>\n",
       "      <td>2018-11-29 08:26:00</td>\n",
       "      <td>17850.0</td>\n",
       "      <td>6</td>\n",
       "      <td>2018-11-29 08:26:00</td>\n",
       "      <td>0</td>\n",
       "    </tr>\n",
       "    <tr>\n",
       "      <th>1</th>\n",
       "      <td>536365</td>\n",
       "      <td>2018-11-29 08:26:00</td>\n",
       "      <td>17850.0</td>\n",
       "      <td>6</td>\n",
       "      <td>2018-11-29 08:26:00</td>\n",
       "      <td>0</td>\n",
       "    </tr>\n",
       "    <tr>\n",
       "      <th>2</th>\n",
       "      <td>536365</td>\n",
       "      <td>2018-11-29 08:26:00</td>\n",
       "      <td>17850.0</td>\n",
       "      <td>8</td>\n",
       "      <td>2018-11-29 08:26:00</td>\n",
       "      <td>0</td>\n",
       "    </tr>\n",
       "    <tr>\n",
       "      <th>3</th>\n",
       "      <td>536365</td>\n",
       "      <td>2018-11-29 08:26:00</td>\n",
       "      <td>17850.0</td>\n",
       "      <td>6</td>\n",
       "      <td>2018-11-29 08:26:00</td>\n",
       "      <td>0</td>\n",
       "    </tr>\n",
       "    <tr>\n",
       "      <th>4</th>\n",
       "      <td>536365</td>\n",
       "      <td>2018-11-29 08:26:00</td>\n",
       "      <td>17850.0</td>\n",
       "      <td>6</td>\n",
       "      <td>2018-11-29 08:26:00</td>\n",
       "      <td>0</td>\n",
       "    </tr>\n",
       "    <tr>\n",
       "      <th>...</th>\n",
       "      <td>...</td>\n",
       "      <td>...</td>\n",
       "      <td>...</td>\n",
       "      <td>...</td>\n",
       "      <td>...</td>\n",
       "      <td>...</td>\n",
       "    </tr>\n",
       "    <tr>\n",
       "      <th>401557</th>\n",
       "      <td>581587</td>\n",
       "      <td>2019-12-07 12:50:00</td>\n",
       "      <td>12680.0</td>\n",
       "      <td>12</td>\n",
       "      <td>2019-08-16 15:44:00</td>\n",
       "      <td>373</td>\n",
       "    </tr>\n",
       "    <tr>\n",
       "      <th>401558</th>\n",
       "      <td>581587</td>\n",
       "      <td>2019-12-07 12:50:00</td>\n",
       "      <td>12680.0</td>\n",
       "      <td>6</td>\n",
       "      <td>2019-08-16 15:44:00</td>\n",
       "      <td>373</td>\n",
       "    </tr>\n",
       "    <tr>\n",
       "      <th>401559</th>\n",
       "      <td>581587</td>\n",
       "      <td>2019-12-07 12:50:00</td>\n",
       "      <td>12680.0</td>\n",
       "      <td>4</td>\n",
       "      <td>2019-08-16 15:44:00</td>\n",
       "      <td>373</td>\n",
       "    </tr>\n",
       "    <tr>\n",
       "      <th>401560</th>\n",
       "      <td>581587</td>\n",
       "      <td>2019-12-07 12:50:00</td>\n",
       "      <td>12680.0</td>\n",
       "      <td>4</td>\n",
       "      <td>2019-08-16 15:44:00</td>\n",
       "      <td>373</td>\n",
       "    </tr>\n",
       "    <tr>\n",
       "      <th>401561</th>\n",
       "      <td>581587</td>\n",
       "      <td>2019-12-07 12:50:00</td>\n",
       "      <td>12680.0</td>\n",
       "      <td>3</td>\n",
       "      <td>2019-08-16 15:44:00</td>\n",
       "      <td>373</td>\n",
       "    </tr>\n",
       "  </tbody>\n",
       "</table>\n",
       "<p>401562 rows × 6 columns</p>\n",
       "</div>"
      ],
      "text/plain": [
       "       invoiceno         invoicedate  customerid  quantity  \\\n",
       "0         536365 2018-11-29 08:26:00     17850.0         6   \n",
       "1         536365 2018-11-29 08:26:00     17850.0         6   \n",
       "2         536365 2018-11-29 08:26:00     17850.0         8   \n",
       "3         536365 2018-11-29 08:26:00     17850.0         6   \n",
       "4         536365 2018-11-29 08:26:00     17850.0         6   \n",
       "...          ...                 ...         ...       ...   \n",
       "401557    581587 2019-12-07 12:50:00     12680.0        12   \n",
       "401558    581587 2019-12-07 12:50:00     12680.0         6   \n",
       "401559    581587 2019-12-07 12:50:00     12680.0         4   \n",
       "401560    581587 2019-12-07 12:50:00     12680.0         4   \n",
       "401561    581587 2019-12-07 12:50:00     12680.0         3   \n",
       "\n",
       "       first_purchase_date  days_since_first_shop_purchase  \n",
       "0      2018-11-29 08:26:00                               0  \n",
       "1      2018-11-29 08:26:00                               0  \n",
       "2      2018-11-29 08:26:00                               0  \n",
       "3      2018-11-29 08:26:00                               0  \n",
       "4      2018-11-29 08:26:00                               0  \n",
       "...                    ...                             ...  \n",
       "401557 2019-08-16 15:44:00                             373  \n",
       "401558 2019-08-16 15:44:00                             373  \n",
       "401559 2019-08-16 15:44:00                             373  \n",
       "401560 2019-08-16 15:44:00                             373  \n",
       "401561 2019-08-16 15:44:00                             373  \n",
       "\n",
       "[401562 rows x 6 columns]"
      ]
     },
     "execution_count": 26,
     "metadata": {},
     "output_type": "execute_result"
    }
   ],
   "source": [
    "# Select relevant columns from the ecommerce dataset\n",
    "ecommerce_subset = ecommerce[['invoiceno', 'invoicedate', 'customerid', 'quantity']]\n",
    "\n",
    "# Merge with customer_summary to get the first purchase date\n",
    "merged_dataset = ecommerce_subset.merge(customer_summary[['customerid', 'first_purchase_date']], on='customerid', how='left')\n",
    "\n",
    "# Find the minimum day of the first purchase\n",
    "min_first_purchase_date = merged_dataset['first_purchase_date'].min()\n",
    "\n",
    "# Calculate the number of days since the first purchase occured in the shop\n",
    "merged_dataset['days_since_first_shop_purchase'] = (merged_dataset['invoicedate'] - min_first_purchase_date).dt.days\n",
    "\n",
    "merged_dataset"
   ]
  },
  {
   "cell_type": "code",
   "execution_count": 27,
   "metadata": {},
   "outputs": [
    {
     "name": "stdout",
     "output_type": "stream",
     "text": [
      "Mean total quantity for First Half of the year: 12.318864136150683\n",
      "Mean total quantity for Second Half of the year: 12.104395302897279\n",
      "Variance for total quantity for First Half of the year: 78237.9393835307\n",
      "Variance for total quantity for Second Half of the year: 53700.71054316777\n"
     ]
    }
   ],
   "source": [
    "# Define the First Half and Second Half quantity of the Year\n",
    "first_half = merged_dataset[merged_dataset['days_since_first_shop_purchase'] <= 180]['quantity']\n",
    "second_half = merged_dataset[merged_dataset['days_since_first_shop_purchase'] > 180]['quantity']\n",
    "\n",
    "# Calculate means for both groups\n",
    "mean_first_half = first_half.mean()\n",
    "mean_second_half = second_half.mean()\n",
    "\n",
    "# Calculate variances\n",
    "var_first_half = first_half.var()\n",
    "var_second_half = second_half.var()\n",
    "\n",
    "print(f\"Mean total quantity for First Half of the year: {mean_first_half}\")\n",
    "print(f\"Mean total quantity for Second Half of the year: {mean_second_half}\")\n",
    "print(f\"Variance for total quantity for First Half of the year: {var_first_half}\")\n",
    "print(f\"Variance for total quantity for Second Half of the year: {var_second_half}\")"
   ]
  },
  {
   "cell_type": "markdown",
   "metadata": {},
   "source": [
    "<div class=\"alert alert-block alert-success\">\n",
    "<b> Comentário do revisor: </b> <a class=\"tocSkip\"></a>\n",
    "\n",
    "Ok.\n",
    "</div>"
   ]
  },
  {
   "cell_type": "code",
   "execution_count": 28,
   "metadata": {
    "scrolled": true
   },
   "outputs": [
    {
     "name": "stdout",
     "output_type": "stream",
     "text": [
      "T-statistic: 0.24851094060152748, p-value: 0.8037393015050123\n",
      "Fail to reject the null hypothesis: No difference in the average quantity of purchases\n"
     ]
    }
   ],
   "source": [
    "# Perform a one-tailed t-test\n",
    "t_stat, p_value = st.ttest_ind(first_half, second_half, equal_var=False)\n",
    "\n",
    "# Print t-test results\n",
    "print(f\"T-statistic: {t_stat}, p-value: {p_value}\")\n",
    "\n",
    "# Interpret the result\n",
    "alpha = 0.05  # significance level\n",
    "if p_value < alpha:\n",
    "    print(\"Reject the null hypothesis: The average quantity purchased in the first-half year is smaller than in the second-half year.\")\n",
    "else:\n",
    "    print(\"Fail to reject the null hypothesis: No difference in the average quantity of purchases\")"
   ]
  },
  {
   "cell_type": "markdown",
   "metadata": {},
   "source": [
    "The analysis shows that there is no meaningful difference in the average quantity of purchases between the first and second halves of the year. Although the variance is higher in the first half, suggesting more variability in purchases, this difference in spread does not result in a significant difference in means.\n",
    "\n",
    "This suggests that purchasing behavior, in terms of quantity, remains relatively stable throughout the year."
   ]
  },
  {
   "cell_type": "markdown",
   "metadata": {},
   "source": [
    "<div class=\"alert alert-block alert-danger\">\n",
    "<b> Comentário do revisor: </b> <a class=\"tocSkip\"></a>\n",
    "\n",
    "Qual a interpretação final do resultado acima?\n",
    "</div>"
   ]
  },
  {
   "cell_type": "markdown",
   "metadata": {},
   "source": [
    "<div class=\"alert alert-block alert-success\">\n",
    "<b> Comentário do revisor: </b> <a class=\"tocSkip\"></a>\n",
    "\n",
    "Ok.\n",
    "</div>"
   ]
  },
  {
   "cell_type": "markdown",
   "metadata": {},
   "source": [
    "## Conclusion and Recommendation\n",
    "\n",
    "Highlight the distinct customer segments identified. Provide suggestions on how to use these segments and actions the e-commerce company could take for personalized offers, marketing strategies, or product recommendations"
   ]
  },
  {
   "cell_type": "markdown",
   "metadata": {},
   "source": [
    "### Conclusion"
   ]
  },
  {
   "cell_type": "markdown",
   "metadata": {},
   "source": [
    "The analysis revealed several distinct customer segments within the e-commerce dataset. The Non-Frequent Customer segment is the largest, with over 2,000 customers, indicating a need for targeted marketing to encourage these individuals to shop more regularly. The New Customer segment, which includes about 1,500 customers, shows that the business is effectively attracting new clients; however, retaining them is essential for long-term growth. The Frequent Customer segment is the smallest, with fewer than 500 customers, suggesting opportunities to enhance customer loyalty programs.\n",
    "\n",
    "In terms of spending behavior, the Low Spender category has the highest number of customers at around 1,750, reflecting potential price sensitivity. The Moderate Spender group contains about 1,250 customers, while the High Spender segment, with approximately 1,000 customers, represents a niche market for high-value items. The strong association between invoice categories and spending behavior further underscores the importance of aligning marketing efforts with customer spending patterns.\n",
    "\n",
    "The analysis also compared purchasing behavior between the first half and the second half of the year. While the total quantity purchased in the second half was significantly higher, the average amount spent per purchase was slightly greater in the first half. However, statistical tests showed no significant difference in average purchase amounts between the two periods. This suggests that while customers are more active in the second half, their individual purchase amounts are not meaningfully different from those in the first half."
   ]
  },
  {
   "cell_type": "markdown",
   "metadata": {},
   "source": [
    "<div class=\"alert alert-block alert-success\">\n",
    "<b> Comentário do revisor: </b> <a class=\"tocSkip\"></a>\n",
    "\n",
    "Ok.\n",
    "</div>"
   ]
  },
  {
   "cell_type": "markdown",
   "metadata": {},
   "source": [
    "### Recommendations for Personalized Strategies"
   ]
  },
  {
   "cell_type": "markdown",
   "metadata": {},
   "source": [
    "Given the large number of non-frequent customers, the company should implement re-engagement campaigns. This can include personalized emails, targeted discounts, and loyalty programs to encourage repeat purchases. In addition, might consider encouraging frequent customers to make larger purchases\n",
    "\n",
    "Retaining new customers is crucial for sustainable growth. The company could introduce onboarding campaigns, first-purchase rewards, and exclusive offers to build stronger relationships and encourage them to become frequent buyers.\n",
    "\n",
    "The small size of the frequent customer segment highlights an opportunity to improve customer loyalty. Tailored incentives, VIP programs, and early access to new products can encourage these high-value customers to continue shopping regularly and spend more.\n",
    "\n",
    "Since spending behavior aligns with invoice categories, the company should adopt different marketing strategies for each segment:\n",
    "\n",
    "- Low Spenders: Promote budget-friendly deals or bundles.\n",
    "- Moderate Spenders: Offer upsell or cross-sell opportunities for mid-tier products to shift them toward higher spending behavior.\n",
    "- High Spenders: Provide premium, personalized experiences and exclusive product recommendations to retain this valuable group.\n",
    "\n",
    "The association between invoice categories and spending behavior indicates an opportunity to improve targeting. The company should regularly analyze invoice trends to identify shifts in customer spending and adjust promotions accordingly.\n",
    "\n",
    "The higher activity in the second half of the year suggests that the company could focus more resources on campaigns during this period. However, to maintain steady performance throughout the year, special promotions or events in the first half can help balance purchasing behavior across both periods."
   ]
  },
  {
   "cell_type": "markdown",
   "metadata": {},
   "source": [
    "<div class=\"alert alert-block alert-success\">\n",
    "<b> Comentário do revisor: </b> <a class=\"tocSkip\"></a>\n",
    "\n",
    "Ok.\n",
    "</div>"
   ]
  },
  {
   "cell_type": "markdown",
   "metadata": {},
   "source": [
    "## Presentation"
   ]
  },
  {
   "cell_type": "markdown",
   "metadata": {},
   "source": [
    "Por favor checar antes de continuar com a aprentacao e Dashboard\n",
    "\n",
    "Google Drive link: https://drive.google.com/file/d/1h3f1GzWv1At-dx9crog4ODDZ-6yn4-C2/view?usp=drive_link\n",
    "\n",
    "Tableau Public link: https://public.tableau.com/views/FinalProject-DailyPurchaseOverview/Dashboard1?:language=en-US&publish=yes&:sid=&:redirect=auth&:display_count=n&:origin=viz_share_link"
   ]
  },
  {
   "cell_type": "markdown",
   "metadata": {},
   "source": [
    "<div class=\"alert alert-block alert-danger\">\n",
    "<b> Comentário do revisor: </b> <a class=\"tocSkip\"></a>\n",
    "\n",
    "Inserir apresentação e (Opcionalmente) o dashboard.\n",
    "</div>"
   ]
  },
  {
   "cell_type": "markdown",
   "metadata": {},
   "source": [
    "<div class=\"alert alert-block alert-success\">\n",
    "<b> Comentário do revisor: </b> <a class=\"tocSkip\"></a>\n",
    "\n",
    "Ok.\n",
    "</div>"
   ]
  }
 ],
 "metadata": {
  "ExecuteTimeLog": [
   {
    "duration": 2598,
    "start_time": "2024-10-13T10:42:27.699Z"
   },
   {
    "duration": 3,
    "start_time": "2024-10-13T10:50:49.305Z"
   },
   {
    "duration": 519,
    "start_time": "2024-10-13T10:50:50.113Z"
   },
   {
    "duration": 3,
    "start_time": "2024-10-13T10:52:17.984Z"
   },
   {
    "duration": 58,
    "start_time": "2024-10-13T10:52:19.070Z"
   },
   {
    "duration": 194,
    "start_time": "2024-10-13T10:52:47.334Z"
   },
   {
    "duration": 62,
    "start_time": "2024-10-13T10:53:52.818Z"
   },
   {
    "duration": 58,
    "start_time": "2024-10-13T10:54:04.924Z"
   },
   {
    "duration": 60,
    "start_time": "2024-10-13T10:55:23.597Z"
   },
   {
    "duration": 61,
    "start_time": "2024-10-13T10:55:34.242Z"
   },
   {
    "duration": 3,
    "start_time": "2024-10-13T10:55:52.695Z"
   },
   {
    "duration": 60,
    "start_time": "2024-10-13T10:55:55.652Z"
   },
   {
    "duration": 60,
    "start_time": "2024-10-13T10:56:07.103Z"
   },
   {
    "duration": 63,
    "start_time": "2024-10-13T10:56:21.113Z"
   },
   {
    "duration": 60,
    "start_time": "2024-10-13T10:57:13.703Z"
   },
   {
    "duration": 62,
    "start_time": "2024-10-13T10:58:44.066Z"
   },
   {
    "duration": 15,
    "start_time": "2024-10-13T10:59:10.383Z"
   },
   {
    "duration": 13,
    "start_time": "2024-10-13T10:59:36.731Z"
   },
   {
    "duration": 2534,
    "start_time": "2024-10-13T12:27:09.760Z"
   },
   {
    "duration": 218,
    "start_time": "2024-10-13T12:27:12.296Z"
   },
   {
    "duration": 284,
    "start_time": "2024-10-13T12:29:32.795Z"
   },
   {
    "duration": 3,
    "start_time": "2024-10-13T12:29:37.047Z"
   },
   {
    "duration": 46,
    "start_time": "2024-10-13T12:29:38.183Z"
   },
   {
    "duration": 48,
    "start_time": "2024-10-13T12:32:33.136Z"
   },
   {
    "duration": 13,
    "start_time": "2024-10-13T12:32:56.992Z"
   },
   {
    "duration": 13,
    "start_time": "2024-10-13T12:33:07.141Z"
   },
   {
    "duration": 49,
    "start_time": "2024-10-13T12:34:15.280Z"
   },
   {
    "duration": 3,
    "start_time": "2024-10-13T12:39:40.750Z"
   },
   {
    "duration": 442,
    "start_time": "2024-10-13T12:40:49.577Z"
   },
   {
    "duration": 397,
    "start_time": "2024-10-13T12:40:56.906Z"
   },
   {
    "duration": 16,
    "start_time": "2024-10-13T12:41:52.091Z"
   },
   {
    "duration": 4,
    "start_time": "2024-10-13T12:42:09.758Z"
   },
   {
    "duration": 11,
    "start_time": "2024-10-13T12:47:28.533Z"
   },
   {
    "duration": 4,
    "start_time": "2024-10-13T12:47:53.475Z"
   },
   {
    "duration": 1743,
    "start_time": "2024-10-13T12:53:02.102Z"
   },
   {
    "duration": 66,
    "start_time": "2024-10-13T12:53:29.902Z"
   },
   {
    "duration": 46,
    "start_time": "2024-10-13T12:54:42.302Z"
   },
   {
    "duration": 148,
    "start_time": "2024-10-13T13:06:52.483Z"
   },
   {
    "duration": 25,
    "start_time": "2024-10-13T13:10:14.497Z"
   },
   {
    "duration": 785,
    "start_time": "2024-10-13T13:17:10.780Z"
   },
   {
    "duration": 4,
    "start_time": "2024-10-13T13:18:05.126Z"
   },
   {
    "duration": 448,
    "start_time": "2024-10-13T13:18:21.581Z"
   },
   {
    "duration": 4,
    "start_time": "2024-10-13T13:18:30.782Z"
   },
   {
    "duration": 775,
    "start_time": "2024-10-13T13:20:38.908Z"
   },
   {
    "duration": 4,
    "start_time": "2024-10-13T13:21:40.598Z"
   },
   {
    "duration": 3,
    "start_time": "2024-10-13T13:21:49.719Z"
   },
   {
    "duration": 764,
    "start_time": "2024-10-13T13:22:43.239Z"
   },
   {
    "duration": 5,
    "start_time": "2024-10-13T13:25:02.440Z"
   },
   {
    "duration": 4,
    "start_time": "2024-10-13T13:25:17.059Z"
   },
   {
    "duration": 5,
    "start_time": "2024-10-13T13:25:51.639Z"
   },
   {
    "duration": 5891,
    "start_time": "2024-10-13T13:26:37.885Z"
   },
   {
    "duration": 28,
    "start_time": "2024-10-13T13:27:13.166Z"
   },
   {
    "duration": 301,
    "start_time": "2024-10-13T13:28:14.249Z"
   },
   {
    "duration": 76,
    "start_time": "2024-10-13T13:28:34.302Z"
   },
   {
    "duration": 46,
    "start_time": "2024-10-13T13:28:55.867Z"
   },
   {
    "duration": 27,
    "start_time": "2024-10-13T13:29:10.960Z"
   },
   {
    "duration": 24,
    "start_time": "2024-10-13T13:30:00.847Z"
   },
   {
    "duration": 33,
    "start_time": "2024-10-13T13:30:31.149Z"
   },
   {
    "duration": 31,
    "start_time": "2024-10-13T13:30:36.822Z"
   },
   {
    "duration": 27,
    "start_time": "2024-10-13T13:32:11.920Z"
   },
   {
    "duration": 14933,
    "start_time": "2024-10-13T13:36:02.823Z"
   },
   {
    "duration": 3,
    "start_time": "2024-10-13T13:36:26.269Z"
   },
   {
    "duration": 384,
    "start_time": "2024-10-13T13:36:26.625Z"
   },
   {
    "duration": 9,
    "start_time": "2024-10-13T13:36:27.595Z"
   },
   {
    "duration": 4,
    "start_time": "2024-10-13T13:36:30.791Z"
   },
   {
    "duration": 1255,
    "start_time": "2024-10-13T13:36:32.877Z"
   },
   {
    "duration": 47,
    "start_time": "2024-10-13T13:36:38.477Z"
   },
   {
    "duration": 27,
    "start_time": "2024-10-13T13:36:40.485Z"
   },
   {
    "duration": 7581,
    "start_time": "2024-10-13T13:36:59.230Z"
   },
   {
    "duration": 9665,
    "start_time": "2024-10-13T13:37:07.363Z"
   },
   {
    "duration": 30,
    "start_time": "2024-10-13T13:40:27.764Z"
   },
   {
    "duration": 13,
    "start_time": "2024-10-13T13:40:40.744Z"
   },
   {
    "duration": 15,
    "start_time": "2024-10-13T13:41:06.582Z"
   },
   {
    "duration": 5750,
    "start_time": "2024-10-13T13:42:31.269Z"
   },
   {
    "duration": 5797,
    "start_time": "2024-10-13T13:42:46.280Z"
   },
   {
    "duration": 3,
    "start_time": "2024-10-13T13:43:08.622Z"
   },
   {
    "duration": 370,
    "start_time": "2024-10-13T13:43:09.262Z"
   },
   {
    "duration": 10,
    "start_time": "2024-10-13T13:43:15.548Z"
   },
   {
    "duration": 3,
    "start_time": "2024-10-13T13:43:16.926Z"
   },
   {
    "duration": 1306,
    "start_time": "2024-10-13T13:43:18.388Z"
   },
   {
    "duration": 46,
    "start_time": "2024-10-13T13:43:20.581Z"
   },
   {
    "duration": 27,
    "start_time": "2024-10-13T13:43:24.750Z"
   },
   {
    "duration": 19,
    "start_time": "2024-10-13T13:43:58.750Z"
   },
   {
    "duration": 19,
    "start_time": "2024-10-13T13:46:40.197Z"
   },
   {
    "duration": 763,
    "start_time": "2024-10-13T13:49:09.459Z"
   },
   {
    "duration": 5717,
    "start_time": "2024-10-13T13:49:29.031Z"
   },
   {
    "duration": 5777,
    "start_time": "2024-10-13T13:49:47.023Z"
   },
   {
    "duration": 5645,
    "start_time": "2024-10-13T13:51:25.419Z"
   },
   {
    "duration": 3,
    "start_time": "2024-10-13T13:51:33.782Z"
   },
   {
    "duration": 360,
    "start_time": "2024-10-13T13:51:34.172Z"
   },
   {
    "duration": 8,
    "start_time": "2024-10-13T13:51:34.879Z"
   },
   {
    "duration": 4,
    "start_time": "2024-10-13T13:51:36.628Z"
   },
   {
    "duration": 1262,
    "start_time": "2024-10-13T13:51:37.143Z"
   },
   {
    "duration": 46,
    "start_time": "2024-10-13T13:51:38.407Z"
   },
   {
    "duration": 41,
    "start_time": "2024-10-13T13:51:38.455Z"
   },
   {
    "duration": 20,
    "start_time": "2024-10-13T13:51:38.823Z"
   },
   {
    "duration": 5752,
    "start_time": "2024-10-13T13:51:40.858Z"
   },
   {
    "duration": 16,
    "start_time": "2024-10-13T13:51:46.612Z"
   },
   {
    "duration": 5685,
    "start_time": "2024-10-13T13:51:58.208Z"
   },
   {
    "duration": 5704,
    "start_time": "2024-10-13T13:52:39.397Z"
   },
   {
    "duration": 5880,
    "start_time": "2024-10-13T13:55:30.031Z"
   },
   {
    "duration": 5635,
    "start_time": "2024-10-13T13:56:06.645Z"
   },
   {
    "duration": 5773,
    "start_time": "2024-10-13T13:56:21.336Z"
   },
   {
    "duration": 19,
    "start_time": "2024-10-13T13:57:39.197Z"
   },
   {
    "duration": 5857,
    "start_time": "2024-10-13T13:59:33.704Z"
   },
   {
    "duration": 5751,
    "start_time": "2024-10-13T14:03:24.126Z"
   },
   {
    "duration": 5828,
    "start_time": "2024-10-13T14:03:52.943Z"
   },
   {
    "duration": 46,
    "start_time": "2024-10-13T14:04:42.579Z"
   },
   {
    "duration": 47,
    "start_time": "2024-10-13T14:07:31.166Z"
   },
   {
    "duration": 27,
    "start_time": "2024-10-13T14:08:21.071Z"
   },
   {
    "duration": 20,
    "start_time": "2024-10-13T14:08:21.543Z"
   },
   {
    "duration": 5852,
    "start_time": "2024-10-13T14:08:22.529Z"
   },
   {
    "duration": 14,
    "start_time": "2024-10-13T14:08:28.383Z"
   },
   {
    "duration": 15,
    "start_time": "2024-10-13T14:08:52.593Z"
   },
   {
    "duration": 15,
    "start_time": "2024-10-13T14:09:00.141Z"
   },
   {
    "duration": 11,
    "start_time": "2024-10-13T14:09:29.386Z"
   },
   {
    "duration": 3,
    "start_time": "2024-10-13T14:10:28.987Z"
   },
   {
    "duration": 361,
    "start_time": "2024-10-13T14:10:29.332Z"
   },
   {
    "duration": 8,
    "start_time": "2024-10-13T14:10:29.704Z"
   },
   {
    "duration": 4,
    "start_time": "2024-10-13T14:10:30.348Z"
   },
   {
    "duration": 1283,
    "start_time": "2024-10-13T14:10:30.711Z"
   },
   {
    "duration": 46,
    "start_time": "2024-10-13T14:10:31.996Z"
   },
   {
    "duration": 27,
    "start_time": "2024-10-13T14:10:32.450Z"
   },
   {
    "duration": 19,
    "start_time": "2024-10-13T14:10:35.675Z"
   },
   {
    "duration": 15,
    "start_time": "2024-10-13T14:14:17.441Z"
   },
   {
    "duration": 6002,
    "start_time": "2024-10-13T14:20:40.133Z"
   },
   {
    "duration": 2,
    "start_time": "2024-10-13T14:22:46.166Z"
   },
   {
    "duration": 367,
    "start_time": "2024-10-13T14:22:46.494Z"
   },
   {
    "duration": 9,
    "start_time": "2024-10-13T14:22:46.863Z"
   },
   {
    "duration": 4,
    "start_time": "2024-10-13T14:22:47.145Z"
   },
   {
    "duration": 1289,
    "start_time": "2024-10-13T14:22:47.492Z"
   },
   {
    "duration": 47,
    "start_time": "2024-10-13T14:22:48.783Z"
   },
   {
    "duration": 44,
    "start_time": "2024-10-13T14:22:48.831Z"
   },
   {
    "duration": 20,
    "start_time": "2024-10-13T14:22:51.400Z"
   },
   {
    "duration": 17,
    "start_time": "2024-10-13T14:22:52.440Z"
   },
   {
    "duration": 21,
    "start_time": "2024-10-13T14:23:02.976Z"
   },
   {
    "duration": 20,
    "start_time": "2024-10-13T14:23:26.426Z"
   },
   {
    "duration": 19,
    "start_time": "2024-10-13T14:24:49.352Z"
   },
   {
    "duration": 19,
    "start_time": "2024-10-13T14:25:28.678Z"
   },
   {
    "duration": 19,
    "start_time": "2024-10-13T14:26:28.454Z"
   },
   {
    "duration": 5,
    "start_time": "2024-10-13T14:27:29.763Z"
   },
   {
    "duration": 6096,
    "start_time": "2024-10-13T14:27:38.853Z"
   },
   {
    "duration": 28,
    "start_time": "2024-10-13T14:31:03.530Z"
   },
   {
    "duration": 3,
    "start_time": "2024-10-13T14:31:16.272Z"
   },
   {
    "duration": 377,
    "start_time": "2024-10-13T14:31:16.618Z"
   },
   {
    "duration": 8,
    "start_time": "2024-10-13T14:31:16.997Z"
   },
   {
    "duration": 4,
    "start_time": "2024-10-13T14:31:19.107Z"
   },
   {
    "duration": 1267,
    "start_time": "2024-10-13T14:31:20.018Z"
   },
   {
    "duration": 48,
    "start_time": "2024-10-13T14:31:25.320Z"
   },
   {
    "duration": 20,
    "start_time": "2024-10-13T14:32:00.711Z"
   },
   {
    "duration": 26,
    "start_time": "2024-10-13T14:32:13.103Z"
   },
   {
    "duration": 19,
    "start_time": "2024-10-13T14:32:33.691Z"
   },
   {
    "duration": 18,
    "start_time": "2024-10-13T14:32:45.583Z"
   },
   {
    "duration": 16,
    "start_time": "2024-10-13T14:33:19.049Z"
   },
   {
    "duration": 17,
    "start_time": "2024-10-13T14:33:33.945Z"
   },
   {
    "duration": 16,
    "start_time": "2024-10-13T14:33:54.314Z"
   },
   {
    "duration": 5758,
    "start_time": "2024-10-13T14:34:09.984Z"
   },
   {
    "duration": 5903,
    "start_time": "2024-10-13T14:34:47.220Z"
   },
   {
    "duration": 5638,
    "start_time": "2024-10-13T14:35:20.987Z"
   },
   {
    "duration": 19,
    "start_time": "2024-10-13T14:35:26.627Z"
   },
   {
    "duration": 5750,
    "start_time": "2024-10-13T14:35:37.095Z"
   },
   {
    "duration": 16,
    "start_time": "2024-10-13T14:35:44.506Z"
   },
   {
    "duration": 12,
    "start_time": "2024-10-13T14:37:43.462Z"
   },
   {
    "duration": 19,
    "start_time": "2024-10-13T14:38:42.647Z"
   },
   {
    "duration": 19,
    "start_time": "2024-10-13T14:39:59.859Z"
   },
   {
    "duration": 20,
    "start_time": "2024-10-13T14:40:07.700Z"
   },
   {
    "duration": 18,
    "start_time": "2024-10-13T14:40:45.563Z"
   },
   {
    "duration": 23,
    "start_time": "2024-10-13T14:40:51.778Z"
   },
   {
    "duration": 27,
    "start_time": "2024-10-13T14:43:09.198Z"
   },
   {
    "duration": 29,
    "start_time": "2024-10-13T14:46:24.407Z"
   },
   {
    "duration": 18,
    "start_time": "2024-10-13T14:46:38.298Z"
   },
   {
    "duration": 17,
    "start_time": "2024-10-13T14:48:02.665Z"
   },
   {
    "duration": 157,
    "start_time": "2024-10-13T16:08:09.469Z"
   },
   {
    "duration": 11,
    "start_time": "2024-10-13T16:08:24.841Z"
   },
   {
    "duration": 11,
    "start_time": "2024-10-13T16:08:31.791Z"
   },
   {
    "duration": 11,
    "start_time": "2024-10-13T16:08:37.277Z"
   },
   {
    "duration": 2564,
    "start_time": "2024-10-13T16:08:52.750Z"
   },
   {
    "duration": 453,
    "start_time": "2024-10-13T16:08:55.316Z"
   },
   {
    "duration": 10,
    "start_time": "2024-10-13T16:08:55.771Z"
   },
   {
    "duration": 3,
    "start_time": "2024-10-13T16:08:55.784Z"
   },
   {
    "duration": 1272,
    "start_time": "2024-10-13T16:08:55.789Z"
   },
   {
    "duration": 49,
    "start_time": "2024-10-13T16:08:57.063Z"
   },
   {
    "duration": 30,
    "start_time": "2024-10-13T16:08:57.125Z"
   },
   {
    "duration": 19,
    "start_time": "2024-10-13T16:08:57.157Z"
   },
   {
    "duration": 16,
    "start_time": "2024-10-13T16:08:57.178Z"
   },
   {
    "duration": 5592,
    "start_time": "2024-10-13T16:08:57.197Z"
   },
   {
    "duration": 19,
    "start_time": "2024-10-13T16:09:02.791Z"
   },
   {
    "duration": 21,
    "start_time": "2024-10-13T16:09:06.297Z"
   },
   {
    "duration": 15,
    "start_time": "2024-10-13T16:09:07.582Z"
   },
   {
    "duration": 15,
    "start_time": "2024-10-13T16:14:33.254Z"
   },
   {
    "duration": 13,
    "start_time": "2024-10-13T16:18:29.212Z"
   },
   {
    "duration": 16,
    "start_time": "2024-10-13T16:18:33.042Z"
   },
   {
    "duration": 2509,
    "start_time": "2024-10-13T17:32:16.293Z"
   },
   {
    "duration": 488,
    "start_time": "2024-10-13T17:32:18.804Z"
   },
   {
    "duration": 9,
    "start_time": "2024-10-13T17:32:19.293Z"
   },
   {
    "duration": 3,
    "start_time": "2024-10-13T17:32:19.304Z"
   },
   {
    "duration": 1272,
    "start_time": "2024-10-13T17:32:19.309Z"
   },
   {
    "duration": 46,
    "start_time": "2024-10-13T17:32:20.583Z"
   },
   {
    "duration": 39,
    "start_time": "2024-10-13T17:32:20.631Z"
   },
   {
    "duration": 17,
    "start_time": "2024-10-13T17:32:20.672Z"
   },
   {
    "duration": 16,
    "start_time": "2024-10-13T17:32:20.691Z"
   },
   {
    "duration": 5647,
    "start_time": "2024-10-13T17:32:20.709Z"
   },
   {
    "duration": 18,
    "start_time": "2024-10-13T17:32:26.358Z"
   },
   {
    "duration": 16,
    "start_time": "2024-10-13T17:32:26.379Z"
   },
   {
    "duration": 48,
    "start_time": "2024-10-13T17:32:26.396Z"
   },
   {
    "duration": 458,
    "start_time": "2024-10-13T17:49:54.413Z"
   },
   {
    "duration": 159,
    "start_time": "2024-10-13T17:51:38.433Z"
   },
   {
    "duration": 157,
    "start_time": "2024-10-13T17:51:57.335Z"
   },
   {
    "duration": 95,
    "start_time": "2024-10-13T17:53:05.202Z"
   },
   {
    "duration": 110,
    "start_time": "2024-10-13T18:00:08.809Z"
   },
   {
    "duration": 103,
    "start_time": "2024-10-13T18:00:16.777Z"
   },
   {
    "duration": 98,
    "start_time": "2024-10-13T18:00:46.411Z"
   },
   {
    "duration": 87,
    "start_time": "2024-10-13T18:01:28.119Z"
   },
   {
    "duration": 119,
    "start_time": "2024-10-13T18:02:06.398Z"
   },
   {
    "duration": 135,
    "start_time": "2024-10-13T18:02:16.365Z"
   },
   {
    "duration": 2,
    "start_time": "2024-10-13T18:02:55.097Z"
   },
   {
    "duration": 379,
    "start_time": "2024-10-13T18:02:55.110Z"
   },
   {
    "duration": 8,
    "start_time": "2024-10-13T18:02:55.492Z"
   },
   {
    "duration": 3,
    "start_time": "2024-10-13T18:02:55.503Z"
   },
   {
    "duration": 1280,
    "start_time": "2024-10-13T18:02:55.508Z"
   },
   {
    "duration": 56,
    "start_time": "2024-10-13T18:02:56.791Z"
   },
   {
    "duration": 27,
    "start_time": "2024-10-13T18:02:56.849Z"
   },
   {
    "duration": 18,
    "start_time": "2024-10-13T18:02:56.878Z"
   },
   {
    "duration": 16,
    "start_time": "2024-10-13T18:02:56.898Z"
   },
   {
    "duration": 5803,
    "start_time": "2024-10-13T18:02:56.916Z"
   },
   {
    "duration": 29,
    "start_time": "2024-10-13T18:03:02.721Z"
   },
   {
    "duration": 17,
    "start_time": "2024-10-13T18:03:02.751Z"
   },
   {
    "duration": 27,
    "start_time": "2024-10-13T18:03:02.769Z"
   },
   {
    "duration": 17,
    "start_time": "2024-10-13T18:10:00.182Z"
   },
   {
    "duration": 18,
    "start_time": "2024-10-13T18:10:10.968Z"
   },
   {
    "duration": 17,
    "start_time": "2024-10-13T18:10:21.599Z"
   },
   {
    "duration": 18,
    "start_time": "2024-10-13T18:11:55.595Z"
   },
   {
    "duration": 3,
    "start_time": "2024-10-13T18:12:45.323Z"
   },
   {
    "duration": 347,
    "start_time": "2024-10-13T18:12:45.696Z"
   },
   {
    "duration": 9,
    "start_time": "2024-10-13T18:12:46.282Z"
   },
   {
    "duration": 4,
    "start_time": "2024-10-13T18:12:47.500Z"
   },
   {
    "duration": 1248,
    "start_time": "2024-10-13T18:12:48.323Z"
   },
   {
    "duration": 46,
    "start_time": "2024-10-13T18:12:49.677Z"
   },
   {
    "duration": 27,
    "start_time": "2024-10-13T18:12:58.951Z"
   },
   {
    "duration": 19,
    "start_time": "2024-10-13T18:13:00.371Z"
   },
   {
    "duration": 18,
    "start_time": "2024-10-13T18:13:02.591Z"
   },
   {
    "duration": 5583,
    "start_time": "2024-10-13T18:13:29.383Z"
   },
   {
    "duration": 20,
    "start_time": "2024-10-13T18:14:39.572Z"
   },
   {
    "duration": 16,
    "start_time": "2024-10-13T18:20:02.699Z"
   },
   {
    "duration": 25,
    "start_time": "2024-10-13T18:20:31.217Z"
   },
   {
    "duration": 15,
    "start_time": "2024-10-13T18:21:21.982Z"
   },
   {
    "duration": 30,
    "start_time": "2024-10-13T18:21:33.698Z"
   },
   {
    "duration": 16,
    "start_time": "2024-10-13T18:22:13.761Z"
   },
   {
    "duration": 31,
    "start_time": "2024-10-13T18:22:32.322Z"
   },
   {
    "duration": 28,
    "start_time": "2024-10-13T18:24:09.933Z"
   },
   {
    "duration": 27,
    "start_time": "2024-10-13T18:25:03.559Z"
   },
   {
    "duration": 25,
    "start_time": "2024-10-13T18:25:16.734Z"
   },
   {
    "duration": 13,
    "start_time": "2024-10-13T18:28:34.526Z"
   },
   {
    "duration": 14,
    "start_time": "2024-10-13T18:28:39.670Z"
   },
   {
    "duration": 6,
    "start_time": "2024-10-13T18:29:52.704Z"
   },
   {
    "duration": 18,
    "start_time": "2024-10-13T18:29:58.275Z"
   },
   {
    "duration": 4,
    "start_time": "2024-10-13T18:31:16.352Z"
   },
   {
    "duration": 5,
    "start_time": "2024-10-13T18:31:37.945Z"
   },
   {
    "duration": 5,
    "start_time": "2024-10-13T18:32:40.122Z"
   },
   {
    "duration": 3,
    "start_time": "2024-10-13T18:33:23.153Z"
   },
   {
    "duration": 6,
    "start_time": "2024-10-13T18:34:30.421Z"
   },
   {
    "duration": 101,
    "start_time": "2024-10-13T18:35:57.705Z"
   },
   {
    "duration": 88,
    "start_time": "2024-10-13T18:36:53.059Z"
   },
   {
    "duration": 1612,
    "start_time": "2024-10-13T18:38:05.239Z"
   },
   {
    "duration": 2618,
    "start_time": "2024-10-14T08:33:05.624Z"
   },
   {
    "duration": 455,
    "start_time": "2024-10-14T08:33:08.245Z"
   },
   {
    "duration": 13,
    "start_time": "2024-10-14T08:33:08.701Z"
   },
   {
    "duration": 3,
    "start_time": "2024-10-14T08:33:08.716Z"
   },
   {
    "duration": 1283,
    "start_time": "2024-10-14T08:33:08.721Z"
   },
   {
    "duration": 46,
    "start_time": "2024-10-14T08:33:12.116Z"
   },
   {
    "duration": 31,
    "start_time": "2024-10-14T08:33:14.464Z"
   },
   {
    "duration": 19,
    "start_time": "2024-10-14T08:33:16.101Z"
   },
   {
    "duration": 19,
    "start_time": "2024-10-14T08:33:18.172Z"
   },
   {
    "duration": 5481,
    "start_time": "2024-10-14T08:33:22.367Z"
   },
   {
    "duration": 29,
    "start_time": "2024-10-14T08:33:30.256Z"
   },
   {
    "duration": 47,
    "start_time": "2024-10-14T08:34:56.993Z"
   },
   {
    "duration": 145,
    "start_time": "2024-10-14T08:38:46.267Z"
   },
   {
    "duration": 70,
    "start_time": "2024-10-14T08:43:01.043Z"
   },
   {
    "duration": 72,
    "start_time": "2024-10-14T08:43:07.372Z"
   },
   {
    "duration": 73,
    "start_time": "2024-10-14T08:43:58.361Z"
   },
   {
    "duration": 362,
    "start_time": "2024-10-14T08:45:39.938Z"
   },
   {
    "duration": 110,
    "start_time": "2024-10-14T08:45:48.094Z"
   },
   {
    "duration": 7,
    "start_time": "2024-10-14T08:48:07.326Z"
   },
   {
    "duration": 20,
    "start_time": "2024-10-14T08:48:23.465Z"
   },
   {
    "duration": 20,
    "start_time": "2024-10-14T08:55:48.713Z"
   },
   {
    "duration": 2,
    "start_time": "2024-10-14T08:56:19.306Z"
   },
   {
    "duration": 400,
    "start_time": "2024-10-14T08:56:19.661Z"
   },
   {
    "duration": 9,
    "start_time": "2024-10-14T08:56:20.063Z"
   },
   {
    "duration": 5,
    "start_time": "2024-10-14T08:56:20.377Z"
   },
   {
    "duration": 1276,
    "start_time": "2024-10-14T08:56:20.791Z"
   },
   {
    "duration": 55,
    "start_time": "2024-10-14T08:56:22.069Z"
   },
   {
    "duration": 26,
    "start_time": "2024-10-14T08:56:22.126Z"
   },
   {
    "duration": 19,
    "start_time": "2024-10-14T08:56:22.154Z"
   },
   {
    "duration": 34,
    "start_time": "2024-10-14T08:56:22.176Z"
   },
   {
    "duration": 5457,
    "start_time": "2024-10-14T08:56:22.288Z"
   },
   {
    "duration": 28,
    "start_time": "2024-10-14T08:56:27.747Z"
   },
   {
    "duration": 61,
    "start_time": "2024-10-14T08:56:27.778Z"
   },
   {
    "duration": 20,
    "start_time": "2024-10-14T08:56:28.921Z"
   },
   {
    "duration": 21,
    "start_time": "2024-10-14T08:56:55.355Z"
   },
   {
    "duration": 3383,
    "start_time": "2024-10-14T09:12:43.003Z"
   },
   {
    "duration": 138,
    "start_time": "2024-10-14T09:13:04.345Z"
   },
   {
    "duration": 142,
    "start_time": "2024-10-14T09:15:18.823Z"
   },
   {
    "duration": 149,
    "start_time": "2024-10-14T09:16:34.271Z"
   },
   {
    "duration": 142,
    "start_time": "2024-10-14T09:16:49.568Z"
   },
   {
    "duration": 27,
    "start_time": "2024-10-14T09:23:35.321Z"
   },
   {
    "duration": 52,
    "start_time": "2024-10-14T09:23:49.691Z"
   },
   {
    "duration": 3,
    "start_time": "2024-10-14T09:24:08.305Z"
   },
   {
    "duration": 361,
    "start_time": "2024-10-14T09:24:08.655Z"
   },
   {
    "duration": 8,
    "start_time": "2024-10-14T09:24:09.018Z"
   },
   {
    "duration": 4,
    "start_time": "2024-10-14T09:24:09.756Z"
   },
   {
    "duration": 1206,
    "start_time": "2024-10-14T09:24:10.997Z"
   },
   {
    "duration": 46,
    "start_time": "2024-10-14T09:24:12.890Z"
   },
   {
    "duration": 29,
    "start_time": "2024-10-14T09:24:17.766Z"
   },
   {
    "duration": 20,
    "start_time": "2024-10-14T09:24:38.438Z"
   },
   {
    "duration": 18,
    "start_time": "2024-10-14T09:24:42.035Z"
   },
   {
    "duration": 5259,
    "start_time": "2024-10-14T09:25:00.951Z"
   },
   {
    "duration": 28,
    "start_time": "2024-10-14T09:25:09.498Z"
   },
   {
    "duration": 47,
    "start_time": "2024-10-14T09:25:13.785Z"
   },
   {
    "duration": 54,
    "start_time": "2024-10-14T09:25:18.960Z"
   },
   {
    "duration": 102,
    "start_time": "2024-10-14T09:26:01.217Z"
   },
   {
    "duration": 119,
    "start_time": "2024-10-14T09:26:13.052Z"
   },
   {
    "duration": 102,
    "start_time": "2024-10-14T09:27:02.314Z"
   },
   {
    "duration": 4,
    "start_time": "2024-10-14T09:29:07.765Z"
   },
   {
    "duration": 107,
    "start_time": "2024-10-14T09:29:24.931Z"
   },
   {
    "duration": 94,
    "start_time": "2024-10-14T09:30:28.092Z"
   },
   {
    "duration": 59,
    "start_time": "2024-10-14T09:30:41.310Z"
   },
   {
    "duration": 67,
    "start_time": "2024-10-14T09:31:16.082Z"
   },
   {
    "duration": 166,
    "start_time": "2024-10-14T09:31:50.329Z"
   },
   {
    "duration": 3,
    "start_time": "2024-10-14T09:32:27.846Z"
   },
   {
    "duration": 354,
    "start_time": "2024-10-14T09:32:28.202Z"
   },
   {
    "duration": 8,
    "start_time": "2024-10-14T09:32:28.559Z"
   },
   {
    "duration": 4,
    "start_time": "2024-10-14T09:32:28.904Z"
   },
   {
    "duration": 1264,
    "start_time": "2024-10-14T09:32:29.264Z"
   },
   {
    "duration": 50,
    "start_time": "2024-10-14T09:32:30.531Z"
   },
   {
    "duration": 39,
    "start_time": "2024-10-14T09:32:30.582Z"
   },
   {
    "duration": 18,
    "start_time": "2024-10-14T09:32:30.623Z"
   },
   {
    "duration": 17,
    "start_time": "2024-10-14T09:32:30.807Z"
   },
   {
    "duration": 5392,
    "start_time": "2024-10-14T09:32:31.440Z"
   },
   {
    "duration": 27,
    "start_time": "2024-10-14T09:32:36.834Z"
   },
   {
    "duration": 50,
    "start_time": "2024-10-14T09:32:38.316Z"
   },
   {
    "duration": 57,
    "start_time": "2024-10-14T09:32:46.069Z"
   },
   {
    "duration": 63,
    "start_time": "2024-10-14T09:33:59.561Z"
   },
   {
    "duration": 111,
    "start_time": "2024-10-14T09:34:03.994Z"
   },
   {
    "duration": 118,
    "start_time": "2024-10-14T09:35:23.169Z"
   },
   {
    "duration": 129,
    "start_time": "2024-10-14T09:36:07.822Z"
   },
   {
    "duration": 16,
    "start_time": "2024-10-14T09:37:02.846Z"
   },
   {
    "duration": 13,
    "start_time": "2024-10-14T09:38:26.594Z"
   },
   {
    "duration": 90,
    "start_time": "2024-10-14T09:38:54.233Z"
   },
   {
    "duration": 70,
    "start_time": "2024-10-14T09:39:12.459Z"
   },
   {
    "duration": 15,
    "start_time": "2024-10-14T09:39:28.217Z"
   },
   {
    "duration": 87,
    "start_time": "2024-10-14T09:39:54.811Z"
   },
   {
    "duration": 78,
    "start_time": "2024-10-14T09:40:14.978Z"
   },
   {
    "duration": 78,
    "start_time": "2024-10-14T09:40:56.272Z"
   },
   {
    "duration": 91,
    "start_time": "2024-10-14T09:41:12.612Z"
   },
   {
    "duration": 11,
    "start_time": "2024-10-14T09:44:35.175Z"
   },
   {
    "duration": 75,
    "start_time": "2024-10-14T09:44:35.643Z"
   },
   {
    "duration": 12,
    "start_time": "2024-10-14T09:44:51.846Z"
   },
   {
    "duration": 2557,
    "start_time": "2024-10-14T11:38:43.058Z"
   },
   {
    "duration": 445,
    "start_time": "2024-10-14T11:38:45.618Z"
   },
   {
    "duration": 9,
    "start_time": "2024-10-14T11:38:46.064Z"
   },
   {
    "duration": 4,
    "start_time": "2024-10-14T11:38:46.075Z"
   },
   {
    "duration": 1305,
    "start_time": "2024-10-14T11:38:46.080Z"
   },
   {
    "duration": 56,
    "start_time": "2024-10-14T11:38:47.387Z"
   },
   {
    "duration": 29,
    "start_time": "2024-10-14T11:38:47.445Z"
   },
   {
    "duration": 34,
    "start_time": "2024-10-14T11:38:47.476Z"
   },
   {
    "duration": 20,
    "start_time": "2024-10-14T11:38:47.514Z"
   },
   {
    "duration": 5573,
    "start_time": "2024-10-14T11:38:47.537Z"
   },
   {
    "duration": 26,
    "start_time": "2024-10-14T11:38:53.111Z"
   },
   {
    "duration": 48,
    "start_time": "2024-10-14T11:38:53.139Z"
   },
   {
    "duration": 84,
    "start_time": "2024-10-14T11:38:53.189Z"
   },
   {
    "duration": 125,
    "start_time": "2024-10-14T11:38:53.274Z"
   },
   {
    "duration": 134,
    "start_time": "2024-10-14T11:38:53.400Z"
   },
   {
    "duration": 13,
    "start_time": "2024-10-14T11:38:54.695Z"
   },
   {
    "duration": 90,
    "start_time": "2024-10-14T11:38:55.392Z"
   },
   {
    "duration": 25,
    "start_time": "2024-10-14T11:41:07.519Z"
   },
   {
    "duration": 213,
    "start_time": "2024-10-14T11:42:06.023Z"
   },
   {
    "duration": 8,
    "start_time": "2024-10-14T11:42:12.652Z"
   },
   {
    "duration": 8,
    "start_time": "2024-10-14T11:42:19.327Z"
   },
   {
    "duration": 28,
    "start_time": "2024-10-14T11:42:36.673Z"
   },
   {
    "duration": 83,
    "start_time": "2024-10-14T11:54:53.031Z"
   },
   {
    "duration": 513,
    "start_time": "2024-10-14T11:55:23.883Z"
   },
   {
    "duration": 993,
    "start_time": "2024-10-14T11:56:51.367Z"
   },
   {
    "duration": 17,
    "start_time": "2024-10-14T11:58:04.091Z"
   },
   {
    "duration": 86,
    "start_time": "2024-10-14T11:58:41.174Z"
   },
   {
    "duration": 3,
    "start_time": "2024-10-14T11:58:55.520Z"
   },
   {
    "duration": 385,
    "start_time": "2024-10-14T11:58:55.526Z"
   },
   {
    "duration": 9,
    "start_time": "2024-10-14T11:58:55.913Z"
   },
   {
    "duration": 3,
    "start_time": "2024-10-14T11:58:55.925Z"
   },
   {
    "duration": 1307,
    "start_time": "2024-10-14T11:58:55.930Z"
   },
   {
    "duration": 50,
    "start_time": "2024-10-14T11:58:57.239Z"
   },
   {
    "duration": 39,
    "start_time": "2024-10-14T11:58:57.292Z"
   },
   {
    "duration": 19,
    "start_time": "2024-10-14T11:58:57.333Z"
   },
   {
    "duration": 18,
    "start_time": "2024-10-14T11:58:57.355Z"
   },
   {
    "duration": 5723,
    "start_time": "2024-10-14T11:58:57.375Z"
   },
   {
    "duration": 34,
    "start_time": "2024-10-14T11:59:03.099Z"
   },
   {
    "duration": 48,
    "start_time": "2024-10-14T11:59:03.134Z"
   },
   {
    "duration": 91,
    "start_time": "2024-10-14T11:59:03.185Z"
   },
   {
    "duration": 123,
    "start_time": "2024-10-14T11:59:03.278Z"
   },
   {
    "duration": 130,
    "start_time": "2024-10-14T11:59:03.403Z"
   },
   {
    "duration": 10,
    "start_time": "2024-10-14T11:59:03.535Z"
   },
   {
    "duration": 106,
    "start_time": "2024-10-14T11:59:03.547Z"
   },
   {
    "duration": 74,
    "start_time": "2024-10-14T11:59:05.825Z"
   },
   {
    "duration": 42,
    "start_time": "2024-10-14T12:00:11.862Z"
   },
   {
    "duration": 53,
    "start_time": "2024-10-14T12:00:22.681Z"
   },
   {
    "duration": 3,
    "start_time": "2024-10-14T12:00:34.960Z"
   },
   {
    "duration": 381,
    "start_time": "2024-10-14T12:00:34.991Z"
   },
   {
    "duration": 8,
    "start_time": "2024-10-14T12:00:35.374Z"
   },
   {
    "duration": 4,
    "start_time": "2024-10-14T12:00:35.384Z"
   },
   {
    "duration": 1300,
    "start_time": "2024-10-14T12:00:35.391Z"
   },
   {
    "duration": 55,
    "start_time": "2024-10-14T12:00:36.693Z"
   },
   {
    "duration": 29,
    "start_time": "2024-10-14T12:00:36.750Z"
   },
   {
    "duration": 31,
    "start_time": "2024-10-14T12:00:36.780Z"
   },
   {
    "duration": 17,
    "start_time": "2024-10-14T12:00:36.812Z"
   },
   {
    "duration": 5748,
    "start_time": "2024-10-14T12:00:36.830Z"
   },
   {
    "duration": 35,
    "start_time": "2024-10-14T12:00:42.581Z"
   },
   {
    "duration": 47,
    "start_time": "2024-10-14T12:00:42.617Z"
   },
   {
    "duration": 86,
    "start_time": "2024-10-14T12:00:42.665Z"
   },
   {
    "duration": 124,
    "start_time": "2024-10-14T12:00:42.752Z"
   },
   {
    "duration": 131,
    "start_time": "2024-10-14T12:00:42.878Z"
   },
   {
    "duration": 10,
    "start_time": "2024-10-14T12:00:43.011Z"
   },
   {
    "duration": 108,
    "start_time": "2024-10-14T12:00:43.023Z"
   },
   {
    "duration": 53,
    "start_time": "2024-10-14T12:00:44.982Z"
   },
   {
    "duration": 395,
    "start_time": "2024-10-14T12:01:09.983Z"
   },
   {
    "duration": 22,
    "start_time": "2024-10-14T12:02:03.562Z"
   },
   {
    "duration": 21,
    "start_time": "2024-10-14T12:02:10.718Z"
   },
   {
    "duration": 3,
    "start_time": "2024-10-14T12:02:13.981Z"
   },
   {
    "duration": 360,
    "start_time": "2024-10-14T12:02:13.987Z"
   },
   {
    "duration": 8,
    "start_time": "2024-10-14T12:02:14.349Z"
   },
   {
    "duration": 3,
    "start_time": "2024-10-14T12:02:14.359Z"
   },
   {
    "duration": 1289,
    "start_time": "2024-10-14T12:02:14.365Z"
   },
   {
    "duration": 54,
    "start_time": "2024-10-14T12:02:15.656Z"
   },
   {
    "duration": 27,
    "start_time": "2024-10-14T12:02:15.712Z"
   },
   {
    "duration": 19,
    "start_time": "2024-10-14T12:02:15.741Z"
   },
   {
    "duration": 18,
    "start_time": "2024-10-14T12:02:15.761Z"
   },
   {
    "duration": 5517,
    "start_time": "2024-10-14T12:02:15.781Z"
   },
   {
    "duration": 27,
    "start_time": "2024-10-14T12:02:21.309Z"
   },
   {
    "duration": 49,
    "start_time": "2024-10-14T12:02:21.337Z"
   },
   {
    "duration": 86,
    "start_time": "2024-10-14T12:02:21.388Z"
   },
   {
    "duration": 120,
    "start_time": "2024-10-14T12:02:21.476Z"
   },
   {
    "duration": 134,
    "start_time": "2024-10-14T12:02:21.598Z"
   },
   {
    "duration": 10,
    "start_time": "2024-10-14T12:02:21.734Z"
   },
   {
    "duration": 109,
    "start_time": "2024-10-14T12:02:21.745Z"
   },
   {
    "duration": 19,
    "start_time": "2024-10-14T12:02:27.007Z"
   },
   {
    "duration": 18,
    "start_time": "2024-10-14T12:02:36.956Z"
   },
   {
    "duration": 85,
    "start_time": "2024-10-14T12:03:14.765Z"
   },
   {
    "duration": 108,
    "start_time": "2024-10-14T12:03:25.036Z"
   },
   {
    "duration": 89,
    "start_time": "2024-10-14T12:03:58.636Z"
   },
   {
    "duration": 3,
    "start_time": "2024-10-14T12:05:54.928Z"
   },
   {
    "duration": 391,
    "start_time": "2024-10-14T12:05:54.957Z"
   },
   {
    "duration": 10,
    "start_time": "2024-10-14T12:05:55.352Z"
   },
   {
    "duration": 3,
    "start_time": "2024-10-14T12:05:55.364Z"
   },
   {
    "duration": 1293,
    "start_time": "2024-10-14T12:05:55.370Z"
   },
   {
    "duration": 55,
    "start_time": "2024-10-14T12:05:56.665Z"
   },
   {
    "duration": 28,
    "start_time": "2024-10-14T12:05:56.722Z"
   },
   {
    "duration": 20,
    "start_time": "2024-10-14T12:05:56.751Z"
   },
   {
    "duration": 40,
    "start_time": "2024-10-14T12:05:56.773Z"
   },
   {
    "duration": 5675,
    "start_time": "2024-10-14T12:05:56.815Z"
   },
   {
    "duration": 30,
    "start_time": "2024-10-14T12:06:02.493Z"
   },
   {
    "duration": 48,
    "start_time": "2024-10-14T12:06:02.524Z"
   },
   {
    "duration": 77,
    "start_time": "2024-10-14T12:06:02.574Z"
   },
   {
    "duration": 118,
    "start_time": "2024-10-14T12:06:02.652Z"
   },
   {
    "duration": 132,
    "start_time": "2024-10-14T12:06:02.771Z"
   },
   {
    "duration": 13,
    "start_time": "2024-10-14T12:06:02.904Z"
   },
   {
    "duration": 98,
    "start_time": "2024-10-14T12:06:02.918Z"
   },
   {
    "duration": 76,
    "start_time": "2024-10-14T12:06:07.511Z"
   },
   {
    "duration": 107,
    "start_time": "2024-10-14T12:06:12.575Z"
   },
   {
    "duration": 91,
    "start_time": "2024-10-14T12:06:27.106Z"
   },
   {
    "duration": 2,
    "start_time": "2024-10-14T12:08:40.598Z"
   },
   {
    "duration": 387,
    "start_time": "2024-10-14T12:08:40.604Z"
   },
   {
    "duration": 8,
    "start_time": "2024-10-14T12:08:40.993Z"
   },
   {
    "duration": 8,
    "start_time": "2024-10-14T12:08:41.003Z"
   },
   {
    "duration": 1287,
    "start_time": "2024-10-14T12:08:41.013Z"
   },
   {
    "duration": 50,
    "start_time": "2024-10-14T12:08:42.301Z"
   },
   {
    "duration": 26,
    "start_time": "2024-10-14T12:08:42.353Z"
   },
   {
    "duration": 32,
    "start_time": "2024-10-14T12:08:42.381Z"
   },
   {
    "duration": 17,
    "start_time": "2024-10-14T12:08:42.415Z"
   },
   {
    "duration": 5740,
    "start_time": "2024-10-14T12:08:42.434Z"
   },
   {
    "duration": 37,
    "start_time": "2024-10-14T12:08:48.176Z"
   },
   {
    "duration": 48,
    "start_time": "2024-10-14T12:08:48.215Z"
   },
   {
    "duration": 73,
    "start_time": "2024-10-14T12:08:48.265Z"
   },
   {
    "duration": 116,
    "start_time": "2024-10-14T12:08:48.340Z"
   },
   {
    "duration": 133,
    "start_time": "2024-10-14T12:08:48.458Z"
   },
   {
    "duration": 22,
    "start_time": "2024-10-14T12:08:48.593Z"
   },
   {
    "duration": 94,
    "start_time": "2024-10-14T12:08:48.617Z"
   },
   {
    "duration": 77,
    "start_time": "2024-10-14T12:08:50.063Z"
   },
   {
    "duration": 27,
    "start_time": "2024-10-14T12:08:55.039Z"
   },
   {
    "duration": 37,
    "start_time": "2024-10-14T12:09:26.965Z"
   },
   {
    "duration": 3,
    "start_time": "2024-10-14T12:11:11.527Z"
   },
   {
    "duration": 358,
    "start_time": "2024-10-14T12:11:11.534Z"
   },
   {
    "duration": 8,
    "start_time": "2024-10-14T12:11:11.894Z"
   },
   {
    "duration": 3,
    "start_time": "2024-10-14T12:11:11.909Z"
   },
   {
    "duration": 1260,
    "start_time": "2024-10-14T12:11:11.914Z"
   },
   {
    "duration": 55,
    "start_time": "2024-10-14T12:11:13.176Z"
   },
   {
    "duration": 27,
    "start_time": "2024-10-14T12:11:13.232Z"
   },
   {
    "duration": 19,
    "start_time": "2024-10-14T12:11:13.261Z"
   },
   {
    "duration": 38,
    "start_time": "2024-10-14T12:11:13.281Z"
   },
   {
    "duration": 5643,
    "start_time": "2024-10-14T12:11:13.321Z"
   },
   {
    "duration": 29,
    "start_time": "2024-10-14T12:11:18.968Z"
   },
   {
    "duration": 47,
    "start_time": "2024-10-14T12:11:19.009Z"
   },
   {
    "duration": 83,
    "start_time": "2024-10-14T12:11:19.058Z"
   },
   {
    "duration": 123,
    "start_time": "2024-10-14T12:11:19.143Z"
   },
   {
    "duration": 135,
    "start_time": "2024-10-14T12:11:19.268Z"
   },
   {
    "duration": 11,
    "start_time": "2024-10-14T12:11:19.405Z"
   },
   {
    "duration": 101,
    "start_time": "2024-10-14T12:11:19.418Z"
   },
   {
    "duration": 12,
    "start_time": "2024-10-14T12:11:32.756Z"
   },
   {
    "duration": 14,
    "start_time": "2024-10-14T12:27:44.536Z"
   },
   {
    "duration": 15,
    "start_time": "2024-10-14T12:27:56.342Z"
   },
   {
    "duration": 20,
    "start_time": "2024-10-14T12:28:29.402Z"
   },
   {
    "duration": 77,
    "start_time": "2024-10-14T12:34:18.371Z"
   },
   {
    "duration": 120,
    "start_time": "2024-10-14T12:34:31.196Z"
   },
   {
    "duration": 2,
    "start_time": "2024-10-14T12:34:56.927Z"
   },
   {
    "duration": 374,
    "start_time": "2024-10-14T12:34:56.933Z"
   },
   {
    "duration": 8,
    "start_time": "2024-10-14T12:34:57.313Z"
   },
   {
    "duration": 7,
    "start_time": "2024-10-14T12:34:57.323Z"
   },
   {
    "duration": 1328,
    "start_time": "2024-10-14T12:34:57.332Z"
   },
   {
    "duration": 54,
    "start_time": "2024-10-14T12:34:58.663Z"
   },
   {
    "duration": 27,
    "start_time": "2024-10-14T12:34:58.719Z"
   },
   {
    "duration": 18,
    "start_time": "2024-10-14T12:34:58.748Z"
   },
   {
    "duration": 42,
    "start_time": "2024-10-14T12:34:58.768Z"
   },
   {
    "duration": 5657,
    "start_time": "2024-10-14T12:34:58.811Z"
   },
   {
    "duration": 37,
    "start_time": "2024-10-14T12:35:04.472Z"
   },
   {
    "duration": 48,
    "start_time": "2024-10-14T12:35:04.510Z"
   },
   {
    "duration": 74,
    "start_time": "2024-10-14T12:35:04.560Z"
   },
   {
    "duration": 117,
    "start_time": "2024-10-14T12:35:04.636Z"
   },
   {
    "duration": 137,
    "start_time": "2024-10-14T12:35:04.756Z"
   },
   {
    "duration": 18,
    "start_time": "2024-10-14T12:35:04.895Z"
   },
   {
    "duration": 103,
    "start_time": "2024-10-14T12:35:04.915Z"
   },
   {
    "duration": 82,
    "start_time": "2024-10-14T12:57:20.089Z"
   },
   {
    "duration": 111,
    "start_time": "2024-10-14T12:59:20.701Z"
   },
   {
    "duration": 133,
    "start_time": "2024-10-14T12:59:33.716Z"
   },
   {
    "duration": 2,
    "start_time": "2024-10-14T12:59:42.554Z"
   },
   {
    "duration": 382,
    "start_time": "2024-10-14T12:59:42.560Z"
   },
   {
    "duration": 8,
    "start_time": "2024-10-14T12:59:42.944Z"
   },
   {
    "duration": 4,
    "start_time": "2024-10-14T12:59:42.954Z"
   },
   {
    "duration": 1284,
    "start_time": "2024-10-14T12:59:42.960Z"
   },
   {
    "duration": 47,
    "start_time": "2024-10-14T12:59:44.245Z"
   },
   {
    "duration": 40,
    "start_time": "2024-10-14T12:59:44.294Z"
   },
   {
    "duration": 18,
    "start_time": "2024-10-14T12:59:44.336Z"
   },
   {
    "duration": 18,
    "start_time": "2024-10-14T12:59:44.356Z"
   },
   {
    "duration": 5796,
    "start_time": "2024-10-14T12:59:44.376Z"
   },
   {
    "duration": 35,
    "start_time": "2024-10-14T12:59:50.175Z"
   },
   {
    "duration": 48,
    "start_time": "2024-10-14T12:59:50.211Z"
   },
   {
    "duration": 74,
    "start_time": "2024-10-14T12:59:50.260Z"
   },
   {
    "duration": 118,
    "start_time": "2024-10-14T12:59:50.336Z"
   },
   {
    "duration": 132,
    "start_time": "2024-10-14T12:59:50.455Z"
   },
   {
    "duration": 22,
    "start_time": "2024-10-14T12:59:50.588Z"
   },
   {
    "duration": 101,
    "start_time": "2024-10-14T12:59:50.611Z"
   },
   {
    "duration": 121,
    "start_time": "2024-10-14T12:59:54.259Z"
   },
   {
    "duration": 117,
    "start_time": "2024-10-14T13:00:29.149Z"
   },
   {
    "duration": 3,
    "start_time": "2024-10-14T13:00:53.924Z"
   },
   {
    "duration": 364,
    "start_time": "2024-10-14T13:00:53.931Z"
   },
   {
    "duration": 14,
    "start_time": "2024-10-14T13:00:54.298Z"
   },
   {
    "duration": 3,
    "start_time": "2024-10-14T13:00:54.314Z"
   },
   {
    "duration": 1289,
    "start_time": "2024-10-14T13:00:54.320Z"
   },
   {
    "duration": 46,
    "start_time": "2024-10-14T13:00:55.611Z"
   },
   {
    "duration": 27,
    "start_time": "2024-10-14T13:00:55.659Z"
   },
   {
    "duration": 40,
    "start_time": "2024-10-14T13:00:55.687Z"
   },
   {
    "duration": 18,
    "start_time": "2024-10-14T13:00:55.728Z"
   },
   {
    "duration": 5667,
    "start_time": "2024-10-14T13:00:55.747Z"
   },
   {
    "duration": 26,
    "start_time": "2024-10-14T13:01:01.417Z"
   },
   {
    "duration": 64,
    "start_time": "2024-10-14T13:01:01.445Z"
   },
   {
    "duration": 63,
    "start_time": "2024-10-14T13:01:01.511Z"
   },
   {
    "duration": 124,
    "start_time": "2024-10-14T13:01:01.577Z"
   },
   {
    "duration": 134,
    "start_time": "2024-10-14T13:01:01.702Z"
   },
   {
    "duration": 10,
    "start_time": "2024-10-14T13:01:01.838Z"
   },
   {
    "duration": 102,
    "start_time": "2024-10-14T13:01:01.849Z"
   },
   {
    "duration": 120,
    "start_time": "2024-10-14T13:01:05.512Z"
   },
   {
    "duration": 112,
    "start_time": "2024-10-14T13:01:10.083Z"
   },
   {
    "duration": 143,
    "start_time": "2024-10-14T13:01:46.629Z"
   },
   {
    "duration": 159,
    "start_time": "2024-10-14T13:01:51.087Z"
   },
   {
    "duration": 184,
    "start_time": "2024-10-14T13:01:53.439Z"
   },
   {
    "duration": 2,
    "start_time": "2024-10-14T13:03:42.720Z"
   },
   {
    "duration": 345,
    "start_time": "2024-10-14T13:03:42.839Z"
   },
   {
    "duration": 8,
    "start_time": "2024-10-14T13:03:43.187Z"
   },
   {
    "duration": 13,
    "start_time": "2024-10-14T13:03:43.196Z"
   },
   {
    "duration": 1297,
    "start_time": "2024-10-14T13:03:43.212Z"
   },
   {
    "duration": 48,
    "start_time": "2024-10-14T13:03:44.510Z"
   },
   {
    "duration": 30,
    "start_time": "2024-10-14T13:03:44.560Z"
   },
   {
    "duration": 31,
    "start_time": "2024-10-14T13:03:44.591Z"
   },
   {
    "duration": 17,
    "start_time": "2024-10-14T13:03:44.623Z"
   },
   {
    "duration": 5580,
    "start_time": "2024-10-14T13:03:44.642Z"
   },
   {
    "duration": 29,
    "start_time": "2024-10-14T13:03:50.224Z"
   },
   {
    "duration": 60,
    "start_time": "2024-10-14T13:03:50.256Z"
   },
   {
    "duration": 62,
    "start_time": "2024-10-14T13:03:50.318Z"
   },
   {
    "duration": 129,
    "start_time": "2024-10-14T13:03:50.382Z"
   },
   {
    "duration": 128,
    "start_time": "2024-10-14T13:03:50.512Z"
   },
   {
    "duration": 10,
    "start_time": "2024-10-14T13:03:50.642Z"
   },
   {
    "duration": 107,
    "start_time": "2024-10-14T13:03:50.654Z"
   },
   {
    "duration": 125,
    "start_time": "2024-10-14T13:03:51.986Z"
   },
   {
    "duration": 60,
    "start_time": "2024-10-14T13:03:59.232Z"
   },
   {
    "duration": 57,
    "start_time": "2024-10-14T13:06:16.712Z"
   },
   {
    "duration": 85,
    "start_time": "2024-10-14T13:06:29.097Z"
   },
   {
    "duration": 60,
    "start_time": "2024-10-14T13:07:06.344Z"
   },
   {
    "duration": 27,
    "start_time": "2024-10-14T13:07:09.537Z"
   },
   {
    "duration": 16,
    "start_time": "2024-10-14T13:07:25.845Z"
   },
   {
    "duration": 63,
    "start_time": "2024-10-14T13:11:07.534Z"
   },
   {
    "duration": 66,
    "start_time": "2024-10-14T13:11:15.519Z"
   },
   {
    "duration": 83,
    "start_time": "2024-10-14T13:12:20.657Z"
   },
   {
    "duration": 69,
    "start_time": "2024-10-14T13:12:45.043Z"
   },
   {
    "duration": 75,
    "start_time": "2024-10-14T13:13:27.365Z"
   },
   {
    "duration": 168,
    "start_time": "2024-10-14T13:25:10.168Z"
   },
   {
    "duration": 118,
    "start_time": "2024-10-14T13:25:18.780Z"
   },
   {
    "duration": 163,
    "start_time": "2024-10-14T13:27:17.131Z"
   },
   {
    "duration": 70,
    "start_time": "2024-10-14T13:30:59.285Z"
   },
   {
    "duration": 136,
    "start_time": "2024-10-14T13:31:02.872Z"
   },
   {
    "duration": 70,
    "start_time": "2024-10-14T13:34:11.792Z"
   },
   {
    "duration": 139,
    "start_time": "2024-10-14T13:34:13.969Z"
   },
   {
    "duration": 126,
    "start_time": "2024-10-14T13:34:34.266Z"
   },
   {
    "duration": 2639,
    "start_time": "2024-10-14T16:23:02.522Z"
   },
   {
    "duration": 432,
    "start_time": "2024-10-14T16:23:05.163Z"
   },
   {
    "duration": 13,
    "start_time": "2024-10-14T16:23:05.597Z"
   },
   {
    "duration": 4,
    "start_time": "2024-10-14T16:23:05.613Z"
   },
   {
    "duration": 1291,
    "start_time": "2024-10-14T16:23:05.619Z"
   },
   {
    "duration": 54,
    "start_time": "2024-10-14T16:23:06.911Z"
   },
   {
    "duration": 46,
    "start_time": "2024-10-14T16:23:06.966Z"
   },
   {
    "duration": 18,
    "start_time": "2024-10-14T16:23:07.014Z"
   },
   {
    "duration": 18,
    "start_time": "2024-10-14T16:23:07.034Z"
   },
   {
    "duration": 5605,
    "start_time": "2024-10-14T16:23:07.055Z"
   },
   {
    "duration": 27,
    "start_time": "2024-10-14T16:23:12.662Z"
   },
   {
    "duration": 59,
    "start_time": "2024-10-14T16:23:12.690Z"
   },
   {
    "duration": 76,
    "start_time": "2024-10-14T16:23:12.750Z"
   },
   {
    "duration": 123,
    "start_time": "2024-10-14T16:23:12.828Z"
   },
   {
    "duration": 134,
    "start_time": "2024-10-14T16:23:12.953Z"
   },
   {
    "duration": 21,
    "start_time": "2024-10-14T16:23:13.089Z"
   },
   {
    "duration": 90,
    "start_time": "2024-10-14T16:23:13.111Z"
   },
   {
    "duration": 348,
    "start_time": "2024-10-14T16:23:13.202Z"
   },
   {
    "duration": 0,
    "start_time": "2024-10-14T16:23:13.552Z"
   },
   {
    "duration": 49,
    "start_time": "2024-10-14T16:24:57.309Z"
   },
   {
    "duration": 59,
    "start_time": "2024-10-14T16:27:30.283Z"
   },
   {
    "duration": 139,
    "start_time": "2024-10-14T16:27:59.498Z"
   },
   {
    "duration": 142,
    "start_time": "2024-10-14T16:28:21.648Z"
   },
   {
    "duration": 138,
    "start_time": "2024-10-14T16:28:57.688Z"
   },
   {
    "duration": 163,
    "start_time": "2024-10-14T16:29:16.019Z"
   },
   {
    "duration": 165,
    "start_time": "2024-10-14T16:29:32.984Z"
   },
   {
    "duration": 143,
    "start_time": "2024-10-14T16:30:30.826Z"
   },
   {
    "duration": 135,
    "start_time": "2024-10-14T16:30:37.914Z"
   },
   {
    "duration": 127,
    "start_time": "2024-10-14T16:30:44.252Z"
   },
   {
    "duration": 61,
    "start_time": "2024-10-14T16:30:53.094Z"
   },
   {
    "duration": 125,
    "start_time": "2024-10-14T16:30:53.261Z"
   },
   {
    "duration": 17,
    "start_time": "2024-10-14T16:32:46.565Z"
   },
   {
    "duration": 14,
    "start_time": "2024-10-14T16:38:41.826Z"
   },
   {
    "duration": 16,
    "start_time": "2024-10-14T16:39:28.642Z"
   },
   {
    "duration": 18,
    "start_time": "2024-10-14T16:40:28.978Z"
   },
   {
    "duration": 58,
    "start_time": "2024-10-14T16:45:08.017Z"
   },
   {
    "duration": 123,
    "start_time": "2024-10-14T16:45:12.009Z"
   },
   {
    "duration": 17,
    "start_time": "2024-10-14T16:46:40.276Z"
   },
   {
    "duration": 15,
    "start_time": "2024-10-14T16:48:38.800Z"
   },
   {
    "duration": 206,
    "start_time": "2024-10-14T16:48:38.988Z"
   },
   {
    "duration": 118,
    "start_time": "2024-10-14T16:49:26.794Z"
   },
   {
    "duration": 121,
    "start_time": "2024-10-14T16:50:07.814Z"
   },
   {
    "duration": 127,
    "start_time": "2024-10-14T16:51:06.100Z"
   },
   {
    "duration": 6,
    "start_time": "2024-10-14T16:52:44.066Z"
   },
   {
    "duration": 26,
    "start_time": "2024-10-14T16:54:17.994Z"
   },
   {
    "duration": 10,
    "start_time": "2024-10-14T16:54:32.943Z"
   },
   {
    "duration": 17,
    "start_time": "2024-10-14T16:55:27.405Z"
   },
   {
    "duration": 43,
    "start_time": "2024-10-14T16:57:27.932Z"
   },
   {
    "duration": 13,
    "start_time": "2024-10-14T17:00:36.665Z"
   },
   {
    "duration": 121,
    "start_time": "2024-10-14T17:02:12.094Z"
   },
   {
    "duration": 14,
    "start_time": "2024-10-14T17:10:07.469Z"
   },
   {
    "duration": 119,
    "start_time": "2024-10-14T17:10:10.422Z"
   },
   {
    "duration": 32,
    "start_time": "2024-10-14T17:13:42.576Z"
   },
   {
    "duration": 59,
    "start_time": "2024-10-14T17:17:08.876Z"
   },
   {
    "duration": 46,
    "start_time": "2024-10-14T17:25:51.863Z"
   },
   {
    "duration": 64,
    "start_time": "2024-10-14T17:26:14.079Z"
   },
   {
    "duration": 17,
    "start_time": "2024-10-14T17:29:36.108Z"
   },
   {
    "duration": 41,
    "start_time": "2024-10-14T17:29:48.660Z"
   },
   {
    "duration": 906,
    "start_time": "2024-10-14T17:37:17.685Z"
   },
   {
    "duration": 918,
    "start_time": "2024-10-14T17:37:25.825Z"
   },
   {
    "duration": 967,
    "start_time": "2024-10-14T17:38:35.261Z"
   },
   {
    "duration": 1346,
    "start_time": "2024-10-14T17:43:09.674Z"
   },
   {
    "duration": 1295,
    "start_time": "2024-10-14T17:44:44.583Z"
   },
   {
    "duration": 1490,
    "start_time": "2024-10-14T17:46:44.097Z"
   },
   {
    "duration": 1507,
    "start_time": "2024-10-14T17:49:06.920Z"
   },
   {
    "duration": 1453,
    "start_time": "2024-10-14T17:49:31.882Z"
   },
   {
    "duration": 1472,
    "start_time": "2024-10-14T17:52:09.799Z"
   },
   {
    "duration": 7,
    "start_time": "2024-10-14T17:54:00.805Z"
   },
   {
    "duration": 1575,
    "start_time": "2024-10-14T17:54:12.330Z"
   },
   {
    "duration": 1651,
    "start_time": "2024-10-14T17:54:44.059Z"
   },
   {
    "duration": 1666,
    "start_time": "2024-10-14T17:55:31.407Z"
   },
   {
    "duration": 1667,
    "start_time": "2024-10-14T17:56:02.497Z"
   },
   {
    "duration": 32,
    "start_time": "2024-10-14T18:04:08.718Z"
   },
   {
    "duration": 45,
    "start_time": "2024-10-14T18:04:13.711Z"
   },
   {
    "duration": 16571,
    "start_time": "2024-10-14T18:07:27.130Z"
   },
   {
    "duration": 2,
    "start_time": "2024-10-14T18:07:43.709Z"
   },
   {
    "duration": 403,
    "start_time": "2024-10-14T18:07:43.713Z"
   },
   {
    "duration": 9,
    "start_time": "2024-10-14T18:07:44.118Z"
   },
   {
    "duration": 4,
    "start_time": "2024-10-14T18:07:44.128Z"
   },
   {
    "duration": 1310,
    "start_time": "2024-10-14T18:07:44.134Z"
   },
   {
    "duration": 46,
    "start_time": "2024-10-14T18:07:45.446Z"
   },
   {
    "duration": 40,
    "start_time": "2024-10-14T18:07:45.494Z"
   },
   {
    "duration": 19,
    "start_time": "2024-10-14T18:07:45.535Z"
   },
   {
    "duration": 17,
    "start_time": "2024-10-14T18:07:45.557Z"
   },
   {
    "duration": 5706,
    "start_time": "2024-10-14T18:07:45.576Z"
   },
   {
    "duration": 34,
    "start_time": "2024-10-14T18:07:51.284Z"
   },
   {
    "duration": 49,
    "start_time": "2024-10-14T18:07:51.320Z"
   },
   {
    "duration": 78,
    "start_time": "2024-10-14T18:07:51.371Z"
   },
   {
    "duration": 113,
    "start_time": "2024-10-14T18:07:51.451Z"
   },
   {
    "duration": 135,
    "start_time": "2024-10-14T18:07:51.566Z"
   },
   {
    "duration": 15,
    "start_time": "2024-10-14T18:07:51.703Z"
   },
   {
    "duration": 109,
    "start_time": "2024-10-14T18:07:51.719Z"
   },
   {
    "duration": 59,
    "start_time": "2024-10-14T18:07:51.831Z"
   },
   {
    "duration": 138,
    "start_time": "2024-10-14T18:07:51.891Z"
   },
   {
    "duration": 1507,
    "start_time": "2024-10-14T18:10:32.448Z"
   },
   {
    "duration": 73,
    "start_time": "2024-10-14T18:12:03.976Z"
   },
   {
    "duration": 44,
    "start_time": "2024-10-14T18:12:40.660Z"
   },
   {
    "duration": 16,
    "start_time": "2024-10-14T18:13:38.425Z"
   },
   {
    "duration": 127,
    "start_time": "2024-10-14T18:17:09.668Z"
   },
   {
    "duration": 137,
    "start_time": "2024-10-14T18:17:21.511Z"
   },
   {
    "duration": 123,
    "start_time": "2024-10-14T18:17:44.472Z"
   },
   {
    "duration": 16776,
    "start_time": "2024-10-14T18:18:06.317Z"
   },
   {
    "duration": 0,
    "start_time": "2024-10-14T18:18:53.232Z"
   },
   {
    "duration": 16736,
    "start_time": "2024-10-14T18:18:55.365Z"
   },
   {
    "duration": 76,
    "start_time": "2024-10-14T18:23:07.203Z"
   },
   {
    "duration": 2893,
    "start_time": "2024-10-15T11:37:06.377Z"
   },
   {
    "duration": 501,
    "start_time": "2024-10-15T11:37:09.272Z"
   },
   {
    "duration": 8,
    "start_time": "2024-10-15T11:37:09.775Z"
   },
   {
    "duration": 3,
    "start_time": "2024-10-15T11:37:09.785Z"
   },
   {
    "duration": 1487,
    "start_time": "2024-10-15T11:37:09.790Z"
   },
   {
    "duration": 47,
    "start_time": "2024-10-15T11:37:11.279Z"
   },
   {
    "duration": 43,
    "start_time": "2024-10-15T11:37:11.329Z"
   },
   {
    "duration": 17,
    "start_time": "2024-10-15T11:37:11.374Z"
   },
   {
    "duration": 17,
    "start_time": "2024-10-15T11:37:11.393Z"
   },
   {
    "duration": 6412,
    "start_time": "2024-10-15T11:37:11.412Z"
   },
   {
    "duration": 47,
    "start_time": "2024-10-15T11:37:17.830Z"
   },
   {
    "duration": 47,
    "start_time": "2024-10-15T11:37:17.879Z"
   },
   {
    "duration": 74,
    "start_time": "2024-10-15T11:37:17.928Z"
   },
   {
    "duration": 154,
    "start_time": "2024-10-15T11:37:18.004Z"
   },
   {
    "duration": 149,
    "start_time": "2024-10-15T11:37:18.160Z"
   },
   {
    "duration": 15,
    "start_time": "2024-10-15T11:37:18.312Z"
   },
   {
    "duration": 115,
    "start_time": "2024-10-15T11:37:18.331Z"
   },
   {
    "duration": 61,
    "start_time": "2024-10-15T11:37:18.448Z"
   },
   {
    "duration": 159,
    "start_time": "2024-10-15T11:37:18.511Z"
   },
   {
    "duration": 15,
    "start_time": "2024-10-15T11:37:18.672Z"
   },
   {
    "duration": 164,
    "start_time": "2024-10-15T11:37:18.688Z"
   },
   {
    "duration": 605,
    "start_time": "2024-10-15T12:12:44.782Z"
   },
   {
    "duration": 7,
    "start_time": "2024-10-15T12:13:00.505Z"
   },
   {
    "duration": 7,
    "start_time": "2024-10-15T12:23:12.258Z"
   },
   {
    "duration": 60,
    "start_time": "2024-10-15T12:41:14.857Z"
   },
   {
    "duration": 18,
    "start_time": "2024-10-15T12:42:11.288Z"
   },
   {
    "duration": 78,
    "start_time": "2024-10-15T12:45:01.708Z"
   },
   {
    "duration": 141,
    "start_time": "2024-10-15T12:45:21.179Z"
   },
   {
    "duration": 18,
    "start_time": "2024-10-15T12:46:22.002Z"
   },
   {
    "duration": 131,
    "start_time": "2024-10-15T12:46:30.446Z"
   },
   {
    "duration": 12,
    "start_time": "2024-10-15T12:48:08.930Z"
   },
   {
    "duration": 7,
    "start_time": "2024-10-15T12:49:49.873Z"
   },
   {
    "duration": 110,
    "start_time": "2024-10-15T12:49:53.719Z"
   },
   {
    "duration": 6,
    "start_time": "2024-10-15T12:50:28.358Z"
   },
   {
    "duration": 109,
    "start_time": "2024-10-15T12:50:30.068Z"
   },
   {
    "duration": 4,
    "start_time": "2024-10-15T12:51:04.385Z"
   },
   {
    "duration": 5,
    "start_time": "2024-10-15T12:51:21.109Z"
   },
   {
    "duration": 121,
    "start_time": "2024-10-15T12:51:24.193Z"
   },
   {
    "duration": 6,
    "start_time": "2024-10-15T12:51:50.682Z"
   },
   {
    "duration": 142,
    "start_time": "2024-10-15T12:51:52.344Z"
   },
   {
    "duration": 6,
    "start_time": "2024-10-15T12:52:35.115Z"
   },
   {
    "duration": 135,
    "start_time": "2024-10-15T12:52:36.576Z"
   },
   {
    "duration": 6,
    "start_time": "2024-10-15T12:52:46.661Z"
   },
   {
    "duration": 124,
    "start_time": "2024-10-15T12:52:48.181Z"
   },
   {
    "duration": 6,
    "start_time": "2024-10-15T12:53:21.732Z"
   },
   {
    "duration": 133,
    "start_time": "2024-10-15T12:53:21.920Z"
   },
   {
    "duration": 15,
    "start_time": "2024-10-15T12:55:36.321Z"
   },
   {
    "duration": 134,
    "start_time": "2024-10-15T12:55:36.574Z"
   },
   {
    "duration": 7,
    "start_time": "2024-10-15T12:55:47.648Z"
   },
   {
    "duration": 122,
    "start_time": "2024-10-15T12:55:48.363Z"
   },
   {
    "duration": 9,
    "start_time": "2024-10-15T12:55:58.736Z"
   },
   {
    "duration": 133,
    "start_time": "2024-10-15T12:55:59.987Z"
   },
   {
    "duration": 8,
    "start_time": "2024-10-15T12:56:26.039Z"
   },
   {
    "duration": 121,
    "start_time": "2024-10-15T12:56:26.375Z"
   },
   {
    "duration": 5,
    "start_time": "2024-10-15T12:56:53.891Z"
   },
   {
    "duration": 131,
    "start_time": "2024-10-15T12:56:54.757Z"
   },
   {
    "duration": 5,
    "start_time": "2024-10-15T13:00:32.757Z"
   },
   {
    "duration": 8,
    "start_time": "2024-10-15T13:00:43.763Z"
   },
   {
    "duration": 7,
    "start_time": "2024-10-15T13:02:28.856Z"
   },
   {
    "duration": 15,
    "start_time": "2024-10-15T13:02:29.572Z"
   },
   {
    "duration": 8,
    "start_time": "2024-10-15T13:03:04.869Z"
   },
   {
    "duration": 10,
    "start_time": "2024-10-15T13:03:36.924Z"
   },
   {
    "duration": 4,
    "start_time": "2024-10-15T13:03:43.718Z"
   },
   {
    "duration": 7,
    "start_time": "2024-10-15T13:03:57.355Z"
   },
   {
    "duration": 4,
    "start_time": "2024-10-15T13:03:58.374Z"
   },
   {
    "duration": 54,
    "start_time": "2024-10-15T13:11:26.700Z"
   },
   {
    "duration": 16,
    "start_time": "2024-10-15T13:11:36.549Z"
   },
   {
    "duration": 14,
    "start_time": "2024-10-15T13:13:10.092Z"
   },
   {
    "duration": 8,
    "start_time": "2024-10-15T13:13:40.510Z"
   },
   {
    "duration": 7,
    "start_time": "2024-10-15T13:13:47.247Z"
   },
   {
    "duration": 20,
    "start_time": "2024-10-15T13:14:03.533Z"
   },
   {
    "duration": 4,
    "start_time": "2024-10-15T13:14:03.830Z"
   },
   {
    "duration": 5,
    "start_time": "2024-10-15T13:16:37.022Z"
   },
   {
    "duration": 15,
    "start_time": "2024-10-15T13:38:49.686Z"
   },
   {
    "duration": 7,
    "start_time": "2024-10-15T13:42:16.552Z"
   },
   {
    "duration": 4,
    "start_time": "2024-10-15T13:42:16.698Z"
   },
   {
    "duration": 16,
    "start_time": "2024-10-15T13:42:20.897Z"
   },
   {
    "duration": 3,
    "start_time": "2024-10-15T13:42:22.696Z"
   },
   {
    "duration": 8,
    "start_time": "2024-10-15T13:44:51.485Z"
   },
   {
    "duration": 7,
    "start_time": "2024-10-15T13:45:23.605Z"
   },
   {
    "duration": 8,
    "start_time": "2024-10-15T13:45:37.328Z"
   },
   {
    "duration": 4,
    "start_time": "2024-10-15T13:45:37.506Z"
   },
   {
    "duration": 8,
    "start_time": "2024-10-15T13:46:14.838Z"
   },
   {
    "duration": 4,
    "start_time": "2024-10-15T13:46:15.770Z"
   },
   {
    "duration": 5,
    "start_time": "2024-10-15T13:46:28.585Z"
   },
   {
    "duration": 4,
    "start_time": "2024-10-15T13:46:44.591Z"
   },
   {
    "duration": 17,
    "start_time": "2024-10-15T13:46:54.042Z"
   },
   {
    "duration": 7,
    "start_time": "2024-10-15T13:46:55.653Z"
   },
   {
    "duration": 21,
    "start_time": "2024-10-15T13:49:15.502Z"
   },
   {
    "duration": 6,
    "start_time": "2024-10-15T13:50:33.529Z"
   },
   {
    "duration": 5,
    "start_time": "2024-10-15T13:50:38.518Z"
   },
   {
    "duration": 7,
    "start_time": "2024-10-15T13:51:14.140Z"
   },
   {
    "duration": 7,
    "start_time": "2024-10-15T13:56:43.540Z"
   },
   {
    "duration": 225,
    "start_time": "2024-10-15T14:09:21.685Z"
   },
   {
    "duration": 110,
    "start_time": "2024-10-15T14:10:17.203Z"
   },
   {
    "duration": 16,
    "start_time": "2024-10-15T14:13:59.894Z"
   },
   {
    "duration": 8,
    "start_time": "2024-10-15T14:14:32.103Z"
   },
   {
    "duration": 11,
    "start_time": "2024-10-15T14:15:00.226Z"
   },
   {
    "duration": 10,
    "start_time": "2024-10-15T14:15:16.449Z"
   },
   {
    "duration": 9,
    "start_time": "2024-10-15T14:16:00.398Z"
   },
   {
    "duration": 9,
    "start_time": "2024-10-15T14:16:28.488Z"
   },
   {
    "duration": 82,
    "start_time": "2024-10-15T14:19:40.006Z"
   },
   {
    "duration": 9,
    "start_time": "2024-10-15T14:20:32.071Z"
   },
   {
    "duration": 10,
    "start_time": "2024-10-15T14:20:47.274Z"
   },
   {
    "duration": 10,
    "start_time": "2024-10-15T14:21:08.498Z"
   },
   {
    "duration": 15,
    "start_time": "2024-10-15T14:21:37.741Z"
   },
   {
    "duration": 11,
    "start_time": "2024-10-15T14:22:15.597Z"
   },
   {
    "duration": 10,
    "start_time": "2024-10-15T14:22:30.991Z"
   },
   {
    "duration": 10,
    "start_time": "2024-10-15T14:22:59.584Z"
   },
   {
    "duration": 10,
    "start_time": "2024-10-15T14:23:11.517Z"
   },
   {
    "duration": 11,
    "start_time": "2024-10-15T14:24:05.899Z"
   },
   {
    "duration": 8,
    "start_time": "2024-10-15T14:24:14.872Z"
   },
   {
    "duration": 11,
    "start_time": "2024-10-15T14:24:30.929Z"
   },
   {
    "duration": 10,
    "start_time": "2024-10-15T14:25:20.860Z"
   },
   {
    "duration": 13,
    "start_time": "2024-10-15T14:35:32.252Z"
   },
   {
    "duration": 9,
    "start_time": "2024-10-15T14:35:45.805Z"
   },
   {
    "duration": 12,
    "start_time": "2024-10-15T14:36:01.546Z"
   },
   {
    "duration": 16,
    "start_time": "2024-10-15T14:37:30.225Z"
   },
   {
    "duration": 20,
    "start_time": "2024-10-15T14:37:38.566Z"
   },
   {
    "duration": 11,
    "start_time": "2024-10-15T14:40:43.851Z"
   },
   {
    "duration": 11,
    "start_time": "2024-10-15T14:43:21.777Z"
   },
   {
    "duration": 11,
    "start_time": "2024-10-15T14:44:46.714Z"
   },
   {
    "duration": 18,
    "start_time": "2024-10-15T14:44:57.072Z"
   },
   {
    "duration": 9,
    "start_time": "2024-10-15T14:45:45.795Z"
   },
   {
    "duration": 4,
    "start_time": "2024-10-15T14:45:57.101Z"
   },
   {
    "duration": 15,
    "start_time": "2024-10-15T14:50:58.059Z"
   },
   {
    "duration": 11,
    "start_time": "2024-10-15T14:58:54.685Z"
   },
   {
    "duration": 13,
    "start_time": "2024-10-15T14:59:12.151Z"
   },
   {
    "duration": 91,
    "start_time": "2024-10-15T15:27:53.768Z"
   },
   {
    "duration": 113,
    "start_time": "2024-10-15T15:28:55.773Z"
   },
   {
    "duration": 85,
    "start_time": "2024-10-15T15:29:10.403Z"
   },
   {
    "duration": 80,
    "start_time": "2024-10-15T15:29:30.109Z"
   },
   {
    "duration": 97,
    "start_time": "2024-10-15T15:31:34.484Z"
   },
   {
    "duration": 69,
    "start_time": "2024-10-15T15:32:51.304Z"
   },
   {
    "duration": 6406,
    "start_time": "2024-10-15T15:33:42.985Z"
   },
   {
    "duration": 26,
    "start_time": "2024-10-15T15:34:35.525Z"
   },
   {
    "duration": 5,
    "start_time": "2024-10-15T15:35:15.916Z"
   },
   {
    "duration": 5,
    "start_time": "2024-10-15T15:39:14.226Z"
   },
   {
    "duration": 5,
    "start_time": "2024-10-15T15:44:06.553Z"
   },
   {
    "duration": 76,
    "start_time": "2024-10-15T15:44:29.142Z"
   },
   {
    "duration": 13,
    "start_time": "2024-10-15T15:45:15.726Z"
   },
   {
    "duration": 5,
    "start_time": "2024-10-15T15:45:16.173Z"
   },
   {
    "duration": 15,
    "start_time": "2024-10-15T15:45:17.268Z"
   },
   {
    "duration": 5,
    "start_time": "2024-10-15T15:45:17.605Z"
   },
   {
    "duration": 99,
    "start_time": "2024-10-15T15:45:18.687Z"
   },
   {
    "duration": 21,
    "start_time": "2024-10-15T15:45:19.351Z"
   },
   {
    "duration": 8,
    "start_time": "2024-10-15T15:45:20.029Z"
   },
   {
    "duration": 16,
    "start_time": "2024-10-15T15:45:37.592Z"
   },
   {
    "duration": 16,
    "start_time": "2024-10-15T15:45:42.851Z"
   },
   {
    "duration": 19,
    "start_time": "2024-10-15T15:47:31.108Z"
   },
   {
    "duration": 10,
    "start_time": "2024-10-15T15:47:40.313Z"
   },
   {
    "duration": 46,
    "start_time": "2024-10-15T15:48:30.714Z"
   },
   {
    "duration": 27,
    "start_time": "2024-10-15T15:48:57.829Z"
   },
   {
    "duration": 24,
    "start_time": "2024-10-15T15:48:58.022Z"
   },
   {
    "duration": 25,
    "start_time": "2024-10-15T15:48:58.526Z"
   },
   {
    "duration": 3,
    "start_time": "2024-10-15T15:49:02.832Z"
   },
   {
    "duration": 426,
    "start_time": "2024-10-15T15:49:03.519Z"
   },
   {
    "duration": 9,
    "start_time": "2024-10-15T15:49:06.480Z"
   },
   {
    "duration": 4,
    "start_time": "2024-10-15T15:49:14.809Z"
   },
   {
    "duration": 1438,
    "start_time": "2024-10-15T15:49:18.623Z"
   },
   {
    "duration": 56,
    "start_time": "2024-10-15T15:49:26.826Z"
   },
   {
    "duration": 34,
    "start_time": "2024-10-15T15:49:32.140Z"
   },
   {
    "duration": 18,
    "start_time": "2024-10-15T15:49:34.960Z"
   },
   {
    "duration": 27,
    "start_time": "2024-10-15T15:49:40.214Z"
   },
   {
    "duration": 6834,
    "start_time": "2024-10-15T15:49:47.242Z"
   },
   {
    "duration": 31,
    "start_time": "2024-10-15T15:50:02.439Z"
   },
   {
    "duration": 65,
    "start_time": "2024-10-15T15:50:06.209Z"
   },
   {
    "duration": 65,
    "start_time": "2024-10-15T15:50:12.047Z"
   },
   {
    "duration": 136,
    "start_time": "2024-10-15T15:50:16.933Z"
   },
   {
    "duration": 80,
    "start_time": "2024-10-15T15:54:08.331Z"
   },
   {
    "duration": 91,
    "start_time": "2024-10-15T15:57:26.480Z"
   },
   {
    "duration": 11,
    "start_time": "2024-10-15T15:57:34.481Z"
   },
   {
    "duration": 108,
    "start_time": "2024-10-15T15:57:36.360Z"
   },
   {
    "duration": 62,
    "start_time": "2024-10-15T15:57:40.255Z"
   },
   {
    "duration": 136,
    "start_time": "2024-10-15T15:57:42.404Z"
   },
   {
    "duration": 92,
    "start_time": "2024-10-15T15:58:43.809Z"
   },
   {
    "duration": 121,
    "start_time": "2024-10-15T15:58:45.469Z"
   },
   {
    "duration": 16,
    "start_time": "2024-10-15T16:00:33.088Z"
   },
   {
    "duration": 141,
    "start_time": "2024-10-15T16:00:34.821Z"
   },
   {
    "duration": 8,
    "start_time": "2024-10-15T16:01:21.630Z"
   },
   {
    "duration": 4,
    "start_time": "2024-10-15T16:01:23.808Z"
   },
   {
    "duration": 18,
    "start_time": "2024-10-15T16:01:36.538Z"
   },
   {
    "duration": 5,
    "start_time": "2024-10-15T16:01:37.771Z"
   },
   {
    "duration": 21,
    "start_time": "2024-10-15T16:02:02.137Z"
   },
   {
    "duration": 4,
    "start_time": "2024-10-15T16:02:02.368Z"
   },
   {
    "duration": 76,
    "start_time": "2024-10-15T16:02:05.554Z"
   },
   {
    "duration": 21,
    "start_time": "2024-10-15T16:02:08.546Z"
   },
   {
    "duration": 5,
    "start_time": "2024-10-15T16:02:12.189Z"
   },
   {
    "duration": 111,
    "start_time": "2024-10-15T17:04:42.285Z"
   },
   {
    "duration": 75,
    "start_time": "2024-10-15T17:04:57.241Z"
   },
   {
    "duration": 17,
    "start_time": "2024-10-15T17:05:02.442Z"
   },
   {
    "duration": 19,
    "start_time": "2024-10-15T17:05:08.144Z"
   },
   {
    "duration": 16,
    "start_time": "2024-10-15T17:05:11.094Z"
   },
   {
    "duration": 81,
    "start_time": "2024-10-15T17:05:51.658Z"
   },
   {
    "duration": 23,
    "start_time": "2024-10-15T17:09:27.601Z"
   },
   {
    "duration": 3,
    "start_time": "2024-10-15T17:09:54.064Z"
   },
   {
    "duration": 4,
    "start_time": "2024-10-15T17:10:02.038Z"
   },
   {
    "duration": 12,
    "start_time": "2024-10-15T17:10:09.733Z"
   },
   {
    "duration": 2492,
    "start_time": "2024-10-17T11:08:12.754Z"
   },
   {
    "duration": 433,
    "start_time": "2024-10-17T11:08:15.248Z"
   },
   {
    "duration": 7,
    "start_time": "2024-10-17T11:08:15.683Z"
   },
   {
    "duration": 4,
    "start_time": "2024-10-17T11:08:15.692Z"
   },
   {
    "duration": 1273,
    "start_time": "2024-10-17T11:08:15.697Z"
   },
   {
    "duration": 45,
    "start_time": "2024-10-17T11:08:16.972Z"
   },
   {
    "duration": 28,
    "start_time": "2024-10-17T11:08:17.025Z"
   },
   {
    "duration": 18,
    "start_time": "2024-10-17T11:08:17.054Z"
   },
   {
    "duration": 17,
    "start_time": "2024-10-17T11:08:17.073Z"
   },
   {
    "duration": 5517,
    "start_time": "2024-10-17T11:08:17.152Z"
   },
   {
    "duration": 26,
    "start_time": "2024-10-17T11:08:22.671Z"
   },
   {
    "duration": 63,
    "start_time": "2024-10-17T11:08:22.699Z"
   },
   {
    "duration": 70,
    "start_time": "2024-10-17T11:08:22.763Z"
   },
   {
    "duration": 113,
    "start_time": "2024-10-17T11:08:23.169Z"
   },
   {
    "duration": 68,
    "start_time": "2024-10-17T11:08:24.096Z"
   },
   {
    "duration": 3,
    "start_time": "2024-10-17T11:12:16.047Z"
   },
   {
    "duration": 356,
    "start_time": "2024-10-17T11:12:16.383Z"
   },
   {
    "duration": 8,
    "start_time": "2024-10-17T11:12:16.741Z"
   },
   {
    "duration": 4,
    "start_time": "2024-10-17T11:12:17.263Z"
   },
   {
    "duration": 1213,
    "start_time": "2024-10-17T11:12:18.378Z"
   },
   {
    "duration": 54,
    "start_time": "2024-10-17T11:12:19.593Z"
   },
   {
    "duration": 27,
    "start_time": "2024-10-17T11:12:20.740Z"
   },
   {
    "duration": 19,
    "start_time": "2024-10-17T11:12:21.296Z"
   },
   {
    "duration": 17,
    "start_time": "2024-10-17T11:12:22.659Z"
   },
   {
    "duration": 5398,
    "start_time": "2024-10-17T11:12:23.672Z"
   },
   {
    "duration": 26,
    "start_time": "2024-10-17T11:12:29.072Z"
   },
   {
    "duration": 59,
    "start_time": "2024-10-17T11:12:29.100Z"
   },
   {
    "duration": 72,
    "start_time": "2024-10-17T11:12:33.585Z"
   },
   {
    "duration": 112,
    "start_time": "2024-10-17T11:12:37.369Z"
   },
   {
    "duration": 7,
    "start_time": "2024-10-17T11:12:54.163Z"
   },
   {
    "duration": 114,
    "start_time": "2024-10-17T11:13:17.719Z"
   },
   {
    "duration": 103,
    "start_time": "2024-10-17T11:14:24.260Z"
   },
   {
    "duration": 66,
    "start_time": "2024-10-17T11:14:25.487Z"
   },
   {
    "duration": 10,
    "start_time": "2024-10-17T11:14:29.572Z"
   },
   {
    "duration": 92,
    "start_time": "2024-10-17T11:14:30.776Z"
   },
   {
    "duration": 61,
    "start_time": "2024-10-17T11:14:32.199Z"
   },
   {
    "duration": 124,
    "start_time": "2024-10-17T11:14:32.396Z"
   },
   {
    "duration": 16,
    "start_time": "2024-10-17T11:14:33.525Z"
   },
   {
    "duration": 122,
    "start_time": "2024-10-17T11:14:33.708Z"
   },
   {
    "duration": 7,
    "start_time": "2024-10-17T11:14:36.971Z"
   },
   {
    "duration": 4,
    "start_time": "2024-10-17T11:14:38.759Z"
   },
   {
    "duration": 669,
    "start_time": "2024-10-17T11:40:02.563Z"
   },
   {
    "duration": 1473,
    "start_time": "2024-10-17T11:41:03.975Z"
   },
   {
    "duration": 1470,
    "start_time": "2024-10-17T11:41:59.091Z"
   },
   {
    "duration": 1518,
    "start_time": "2024-10-17T11:43:04.281Z"
   },
   {
    "duration": 1511,
    "start_time": "2024-10-17T11:44:44.698Z"
   },
   {
    "duration": 1490,
    "start_time": "2024-10-17T11:45:26.273Z"
   },
   {
    "duration": 2,
    "start_time": "2024-10-17T11:46:52.270Z"
   },
   {
    "duration": 344,
    "start_time": "2024-10-17T11:46:52.276Z"
   },
   {
    "duration": 8,
    "start_time": "2024-10-17T11:46:52.622Z"
   },
   {
    "duration": 3,
    "start_time": "2024-10-17T11:46:52.633Z"
   },
   {
    "duration": 1272,
    "start_time": "2024-10-17T11:46:52.638Z"
   },
   {
    "duration": 54,
    "start_time": "2024-10-17T11:46:53.912Z"
   },
   {
    "duration": 26,
    "start_time": "2024-10-17T11:46:53.967Z"
   },
   {
    "duration": 18,
    "start_time": "2024-10-17T11:46:53.994Z"
   },
   {
    "duration": 17,
    "start_time": "2024-10-17T11:46:54.025Z"
   },
   {
    "duration": 5559,
    "start_time": "2024-10-17T11:46:54.043Z"
   },
   {
    "duration": 31,
    "start_time": "2024-10-17T11:46:59.604Z"
   },
   {
    "duration": 49,
    "start_time": "2024-10-17T11:46:59.637Z"
   },
   {
    "duration": 87,
    "start_time": "2024-10-17T11:46:59.688Z"
   },
   {
    "duration": 116,
    "start_time": "2024-10-17T11:46:59.777Z"
   },
   {
    "duration": 108,
    "start_time": "2024-10-17T11:47:06.572Z"
   },
   {
    "duration": 1322,
    "start_time": "2024-10-17T11:47:07.690Z"
   },
   {
    "duration": 10,
    "start_time": "2024-10-17T11:47:10.443Z"
   },
   {
    "duration": 91,
    "start_time": "2024-10-17T11:47:10.756Z"
   },
   {
    "duration": 62,
    "start_time": "2024-10-17T11:47:11.619Z"
   },
   {
    "duration": 112,
    "start_time": "2024-10-17T11:47:11.777Z"
   },
   {
    "duration": 16,
    "start_time": "2024-10-17T11:47:12.495Z"
   },
   {
    "duration": 117,
    "start_time": "2024-10-17T11:47:12.662Z"
   },
   {
    "duration": 8,
    "start_time": "2024-10-17T11:47:14.476Z"
   },
   {
    "duration": 4,
    "start_time": "2024-10-17T11:47:14.857Z"
   },
   {
    "duration": 15,
    "start_time": "2024-10-17T11:47:15.770Z"
   },
   {
    "duration": 4,
    "start_time": "2024-10-17T11:47:15.984Z"
   },
   {
    "duration": 75,
    "start_time": "2024-10-17T11:47:16.945Z"
   },
   {
    "duration": 21,
    "start_time": "2024-10-17T11:47:17.332Z"
   },
   {
    "duration": 5,
    "start_time": "2024-10-17T11:47:17.869Z"
   },
   {
    "duration": 1496,
    "start_time": "2024-10-17T11:50:15.098Z"
   },
   {
    "duration": 1487,
    "start_time": "2024-10-17T12:00:42.493Z"
   },
   {
    "duration": 2712,
    "start_time": "2024-10-17T12:34:11.770Z"
   },
   {
    "duration": 440,
    "start_time": "2024-10-17T12:34:14.485Z"
   },
   {
    "duration": 8,
    "start_time": "2024-10-17T12:34:14.927Z"
   },
   {
    "duration": 4,
    "start_time": "2024-10-17T12:34:14.938Z"
   },
   {
    "duration": 1335,
    "start_time": "2024-10-17T12:34:14.944Z"
   },
   {
    "duration": 55,
    "start_time": "2024-10-17T12:34:16.281Z"
   },
   {
    "duration": 29,
    "start_time": "2024-10-17T12:34:16.338Z"
   },
   {
    "duration": 19,
    "start_time": "2024-10-17T12:34:16.369Z"
   },
   {
    "duration": 42,
    "start_time": "2024-10-17T12:34:16.390Z"
   },
   {
    "duration": 5696,
    "start_time": "2024-10-17T12:34:17.302Z"
   },
   {
    "duration": 37,
    "start_time": "2024-10-17T12:34:23.000Z"
   },
   {
    "duration": 47,
    "start_time": "2024-10-17T12:34:23.039Z"
   },
   {
    "duration": 71,
    "start_time": "2024-10-17T12:34:24.356Z"
   },
   {
    "duration": 125,
    "start_time": "2024-10-17T12:34:26.633Z"
   },
   {
    "duration": 1450,
    "start_time": "2024-10-17T12:34:39.005Z"
   },
   {
    "duration": 11,
    "start_time": "2024-10-17T12:34:40.457Z"
   },
   {
    "duration": 91,
    "start_time": "2024-10-17T12:34:40.470Z"
   },
   {
    "duration": 72,
    "start_time": "2024-10-17T12:34:40.563Z"
   },
   {
    "duration": 132,
    "start_time": "2024-10-17T12:34:40.637Z"
   },
   {
    "duration": 18,
    "start_time": "2024-10-17T12:34:40.770Z"
   },
   {
    "duration": 135,
    "start_time": "2024-10-17T12:34:40.790Z"
   },
   {
    "duration": 11,
    "start_time": "2024-10-17T12:34:40.926Z"
   },
   {
    "duration": 4,
    "start_time": "2024-10-17T12:34:40.938Z"
   },
   {
    "duration": 16,
    "start_time": "2024-10-17T12:34:40.944Z"
   },
   {
    "duration": 5,
    "start_time": "2024-10-17T12:34:40.961Z"
   },
   {
    "duration": 113,
    "start_time": "2024-10-17T12:34:40.967Z"
   },
   {
    "duration": 22,
    "start_time": "2024-10-17T12:34:41.081Z"
   },
   {
    "duration": 25,
    "start_time": "2024-10-17T12:34:41.106Z"
   },
   {
    "duration": 1628,
    "start_time": "2024-10-17T12:34:56.369Z"
   },
   {
    "duration": 762,
    "start_time": "2024-10-17T12:44:35.121Z"
   },
   {
    "duration": 114,
    "start_time": "2024-10-17T12:44:59.641Z"
   },
   {
    "duration": 117,
    "start_time": "2024-10-17T12:45:41.647Z"
   },
   {
    "duration": 3,
    "start_time": "2024-10-17T12:46:20.711Z"
   },
   {
    "duration": 1602,
    "start_time": "2024-10-17T12:46:53.070Z"
   },
   {
    "duration": 3,
    "start_time": "2024-10-17T12:47:16.454Z"
   },
   {
    "duration": 1611,
    "start_time": "2024-10-17T12:51:35.704Z"
   },
   {
    "duration": 118,
    "start_time": "2024-10-17T12:51:57.691Z"
   },
   {
    "duration": 1640,
    "start_time": "2024-10-17T12:52:29.975Z"
   },
   {
    "duration": 1615,
    "start_time": "2024-10-17T12:52:39.451Z"
   },
   {
    "duration": 1633,
    "start_time": "2024-10-17T12:53:30.625Z"
   },
   {
    "duration": 1610,
    "start_time": "2024-10-17T12:56:34.327Z"
   },
   {
    "duration": 1661,
    "start_time": "2024-10-17T12:56:57.174Z"
   },
   {
    "duration": 1653,
    "start_time": "2024-10-17T12:57:32.057Z"
   },
   {
    "duration": 1653,
    "start_time": "2024-10-17T12:58:44.654Z"
   },
   {
    "duration": 1650,
    "start_time": "2024-10-17T13:28:56.077Z"
   },
   {
    "duration": 1677,
    "start_time": "2024-10-17T13:29:14.815Z"
   },
   {
    "duration": 5,
    "start_time": "2024-10-17T13:29:21.030Z"
   },
   {
    "duration": 17,
    "start_time": "2024-10-17T13:29:29.968Z"
   },
   {
    "duration": 28,
    "start_time": "2024-10-17T13:29:52.853Z"
   },
   {
    "duration": 13,
    "start_time": "2024-10-17T13:30:02.345Z"
   },
   {
    "duration": 18,
    "start_time": "2024-10-17T13:30:29.217Z"
   },
   {
    "duration": 17,
    "start_time": "2024-10-17T13:31:49.472Z"
   },
   {
    "duration": 17,
    "start_time": "2024-10-17T13:32:27.564Z"
   },
   {
    "duration": 19,
    "start_time": "2024-10-17T13:33:10.877Z"
   },
   {
    "duration": 17,
    "start_time": "2024-10-17T13:34:16.187Z"
   },
   {
    "duration": 17,
    "start_time": "2024-10-17T13:37:00.456Z"
   },
   {
    "duration": 24,
    "start_time": "2024-10-17T16:11:22.418Z"
   },
   {
    "duration": 8,
    "start_time": "2024-10-17T16:11:48.817Z"
   },
   {
    "duration": 9,
    "start_time": "2024-10-17T16:12:07.583Z"
   },
   {
    "duration": 54,
    "start_time": "2024-10-17T16:13:24.121Z"
   },
   {
    "duration": 10,
    "start_time": "2024-10-17T16:14:25.459Z"
   },
   {
    "duration": 8,
    "start_time": "2024-10-17T16:15:49.919Z"
   },
   {
    "duration": 11,
    "start_time": "2024-10-17T16:15:56.564Z"
   },
   {
    "duration": 21,
    "start_time": "2024-10-17T16:16:02.066Z"
   },
   {
    "duration": 11,
    "start_time": "2024-10-17T16:16:05.119Z"
   },
   {
    "duration": 6,
    "start_time": "2024-10-17T16:24:18.459Z"
   },
   {
    "duration": 9,
    "start_time": "2024-10-17T16:24:27.884Z"
   },
   {
    "duration": 9,
    "start_time": "2024-10-17T16:24:39.955Z"
   },
   {
    "duration": 32,
    "start_time": "2024-10-17T16:25:07.227Z"
   },
   {
    "duration": 31,
    "start_time": "2024-10-17T16:25:39.428Z"
   }
  ],
  "kernelspec": {
   "display_name": "Python 3 (ipykernel)",
   "language": "python",
   "name": "python3"
  },
  "language_info": {
   "codemirror_mode": {
    "name": "ipython",
    "version": 3
   },
   "file_extension": ".py",
   "mimetype": "text/x-python",
   "name": "python",
   "nbconvert_exporter": "python",
   "pygments_lexer": "ipython3",
   "version": "3.9.19"
  },
  "toc": {
   "base_numbering": 1,
   "nav_menu": {},
   "number_sections": true,
   "sideBar": true,
   "skip_h1_title": true,
   "title_cell": "Table of Contents",
   "title_sidebar": "Contents",
   "toc_cell": false,
   "toc_position": {
    "height": "calc(100% - 180px)",
    "left": "10px",
    "top": "150px",
    "width": "261px"
   },
   "toc_section_display": true,
   "toc_window_display": true
  }
 },
 "nbformat": 4,
 "nbformat_minor": 2
}
